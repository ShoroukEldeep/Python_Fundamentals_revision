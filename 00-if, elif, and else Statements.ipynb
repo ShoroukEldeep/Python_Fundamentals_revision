{
 "cells": [
  {
   "cell_type": "markdown",
   "metadata": {},
   "source": [
    "# if, elif, else Statements\n",
    "\n",
    "<code>if</code> Statements in Python allows us to tell the computer to perform alternative actions based on a certain set of results.\n",
    "\n",
    "Verbally, we can imagine we are telling the computer:\n",
    "\n",
    "\"Hey if this case happens, perform some action\"\n",
    "\n",
    "We can then expand the idea further with <code>elif</code> and <code>else</code> statements, which allow us to tell the computer:\n",
    "\n",
    "\"Hey if this case happens, perform some action. Else, if another case happens, perform some other action. Else, if *none* of the above cases happened, perform this action.\"\n",
    "\n",
    "Let's go ahead and look at the syntax format for <code>if</code> statements to get a better idea of this:\n",
    "\n",
    "    if case1:\n",
    "        perform action1\n",
    "    elif case2:\n",
    "        perform action2\n",
    "    else: \n",
    "        perform action3\n",
    "        "
   ]
  },
  {
   "cell_type": "markdown",
   "metadata": {},
   "source": [
    "## 1) `if`, `else` statments\n",
    "\n",
    "Let's see a quick example of this:"
   ]
  },
  {
   "cell_type": "code",
   "execution_count": 9,
   "metadata": {
    "ExecuteTime": {
     "end_time": "2021-11-18T18:53:25.449269Z",
     "start_time": "2021-11-18T18:53:25.440238Z"
    }
   },
   "outputs": [
    {
     "name": "stdout",
     "output_type": "stream",
     "text": [
      "3 is greater than 2\n",
      "Statement is True\n",
      "I'm done\n"
     ]
    }
   ],
   "source": [
    "# This evaluates to True\n",
    "if 3 > 2:\n",
    "    print(\"3 is greater than 2\")\n",
    "    print(\"Statement is True\")\n",
    "    \n",
    "print(\"I'm done\")"
   ]
  },
  {
   "cell_type": "code",
   "execution_count": 6,
   "metadata": {
    "ExecuteTime": {
     "end_time": "2021-11-18T18:45:56.053693Z",
     "start_time": "2021-11-18T18:45:56.046699Z"
    }
   },
   "outputs": [
    {
     "name": "stdout",
     "output_type": "stream",
     "text": [
      "I'm done\n"
     ]
    }
   ],
   "source": [
    "# This evaluates to False\n",
    "if 3 < 2:\n",
    "    print(\"3 is greater than 2\")\n",
    "    print(\"Statement is True\")\n",
    "    \n",
    "print(\"I'm done\")"
   ]
  },
  {
   "cell_type": "code",
   "execution_count": 2,
   "metadata": {
    "ExecuteTime": {
     "end_time": "2021-11-18T18:43:10.102926Z",
     "start_time": "2021-11-18T18:43:10.093914Z"
    }
   },
   "outputs": [
    {
     "name": "stdout",
     "output_type": "stream",
     "text": [
      "3 is greater than 2\n",
      "Statement is True\n",
      "I'm done\n"
     ]
    }
   ],
   "source": [
    "# Use True or False directly\n",
    "if True:\n",
    "    print(\"3 is greater than 2\")\n",
    "    print(\"Statement is True\")\n",
    "    \n",
    "print(\"I'm done\")"
   ]
  },
  {
   "cell_type": "code",
   "execution_count": 3,
   "metadata": {
    "ExecuteTime": {
     "end_time": "2021-11-18T18:43:22.290226Z",
     "start_time": "2021-11-18T18:43:22.281221Z"
    }
   },
   "outputs": [
    {
     "name": "stdout",
     "output_type": "stream",
     "text": [
      "I'm done\n"
     ]
    }
   ],
   "source": [
    "if False:\n",
    "    print(\"3 is greater than 2\")\n",
    "    print(\"Statement is True\")\n",
    "    \n",
    "print(\"I'm done\")"
   ]
  },
  {
   "cell_type": "code",
   "execution_count": 11,
   "metadata": {
    "ExecuteTime": {
     "end_time": "2021-11-18T18:57:26.675886Z",
     "start_time": "2021-11-18T18:57:26.666905Z"
    }
   },
   "outputs": [
    {
     "name": "stdout",
     "output_type": "stream",
     "text": [
      "3 is not less than two\n"
     ]
    }
   ],
   "source": [
    "# Use else\n",
    "if 3 < 2:\n",
    "    print(\"3 is less than two\")\n",
    "    print(\"Statement is true\")\n",
    "else:\n",
    "    print(\"3 is not less than two\")"
   ]
  },
  {
   "cell_type": "code",
   "execution_count": 12,
   "metadata": {
    "ExecuteTime": {
     "end_time": "2021-11-18T18:58:03.393534Z",
     "start_time": "2021-11-18T18:58:03.382533Z"
    }
   },
   "outputs": [
    {
     "name": "stdout",
     "output_type": "stream",
     "text": [
      "3 is greater than two\n",
      "Statement is true\n"
     ]
    }
   ],
   "source": [
    "if 3 > 2:\n",
    "    print(\"3 is greater than two\")\n",
    "    print(\"Statement is true\")\n",
    "else:\n",
    "    print(\"3 is not greater than two\")"
   ]
  },
  {
   "cell_type": "markdown",
   "metadata": {},
   "source": [
    "## 2) Multiple branches with `elif`\n",
    "\n",
    "Let's get a fuller picture of how far <code>if</code>, <code>elif</code>, and <code>else</code> can take us!\n",
    "\n",
    "We write this out in a nested structure. Take note of how the <code>if</code>, <code>elif</code>, and <code>else</code> line up in the code. This can help you see what <code>if</code> is related to what <code>elif</code> or <code>else</code> statements.\n",
    "\n",
    "We'll reintroduce a comparison syntax for Python."
   ]
  },
  {
   "cell_type": "markdown",
   "metadata": {},
   "source": [
    "Note how the nested <code>if</code> statements are each checked until a True boolean causes the nested code below it to run. You should also note that you can put in as many <code>elif</code> statements as you want before you close off with an <code>else</code>.\n",
    "\n",
    "Let's create 3 more simple examples for the <code>if</code>, <code>elif</code>, and <code>else</code> statements:"
   ]
  },
  {
   "cell_type": "code",
   "execution_count": 17,
   "metadata": {
    "ExecuteTime": {
     "end_time": "2021-11-18T19:05:59.725818Z",
     "start_time": "2021-11-18T19:05:59.712822Z"
    }
   },
   "outputs": [
    {
     "name": "stdout",
     "output_type": "stream",
     "text": [
      "Where are you?\n"
     ]
    }
   ],
   "source": [
    "# available locations: Park, Bank, Museum, School\n",
    "\n",
    "#location = 'Park'\n",
    "#location = 'Bank'\n",
    "#location = 'Museum'\n",
    "#location = 'School'\n",
    "location = 'University'\n",
    "\n",
    "if location == 'Park':\n",
    "    print(\"Welcome to the Park\")\n",
    "    print(\"Have fun!\")\n",
    "    \n",
    "elif location == 'Bank':\n",
    "    print(\"Welcome to the Bank\")\n",
    "    \n",
    "elif location == 'Museum':\n",
    "    print(\"Welcome to the Museum!\")\n",
    "    print(\"Please don't touch anything\")\n",
    "    \n",
    "elif location == 'School':\n",
    "    print(\"Study well!\")\n",
    "    \n",
    "else:\n",
    "    print(\"Where are you?\")\n"
   ]
  },
  {
   "cell_type": "code",
   "execution_count": 19,
   "metadata": {
    "ExecuteTime": {
     "end_time": "2021-11-18T19:08:52.081817Z",
     "start_time": "2021-11-18T19:08:52.073818Z"
    }
   },
   "outputs": [
    {
     "name": "stdout",
     "output_type": "stream",
     "text": [
      "Welcome, what's your name?\n"
     ]
    }
   ],
   "source": [
    "name = 'Mohamed'\n",
    "\n",
    "if name == 'Ahmed':\n",
    "    print(\"Welcome Ahmed!\")\n",
    "elif name == 'Hussien':\n",
    "    print(\"Welcome Hussien!\")\n",
    "elif name == 'Omar':\n",
    "    print(\"Welcome Omar!\")\n",
    "else:\n",
    "    print(\"Welcome, what's your name?\")"
   ]
  },
  {
   "cell_type": "code",
   "execution_count": 20,
   "metadata": {
    "ExecuteTime": {
     "end_time": "2021-11-18T19:09:16.373231Z",
     "start_time": "2021-11-18T19:09:16.365224Z"
    }
   },
   "outputs": [],
   "source": [
    "name = 'Mohamed'\n",
    "\n",
    "if name == 'Ahmed':\n",
    "    print(\"Welcome Ahmed!\")\n",
    "elif name == 'Hussien':\n",
    "    print(\"Welcome Hussien!\")\n",
    "elif name == 'Omar':\n",
    "    print(\"Welcome Omar!\")\n"
   ]
  },
  {
   "cell_type": "markdown",
   "metadata": {},
   "source": [
    "## 3) Many if conditions after each other\n",
    "\n",
    "note that 'if' comes alone with 'elif' and 'else', if any time you see many 'if' after each other know that they are seperate from each other."
   ]
  },
  {
   "cell_type": "code",
   "execution_count": 22,
   "metadata": {
    "ExecuteTime": {
     "end_time": "2021-11-18T19:16:47.846677Z",
     "start_time": "2021-11-18T19:16:47.836638Z"
    }
   },
   "outputs": [
    {
     "name": "stdout",
     "output_type": "stream",
     "text": [
      "yes\n",
      "Welcome to the Park!\n",
      "have fun\n",
      "Where are you?\n",
      "finish\n"
     ]
    }
   ],
   "source": [
    "#loc = 'Auto Shop'\n",
    "# loc = 'Bank'\n",
    "loc = 'Park'\n",
    "# loc = 'Museum'\n",
    "# loc = 'School'\n",
    "\n",
    "if loc == 'Auto Shop':\n",
    "    print('Welcome to the Auto Shop!')\n",
    "elif loc == 'Park':\n",
    "     print('yes')  \n",
    "        \n",
    "        \n",
    "if loc == 'Bank':\n",
    "    print('Welcome to the bank!') \n",
    "    \n",
    "    \n",
    "if loc == 'Park':\n",
    "    print('Welcome to the Park!')\n",
    "    print('have fun')\n",
    "elif loc == 'Hotel':\n",
    "    print('hotel')\n",
    "else:\n",
    "    print('i am lost') \n",
    "    \n",
    "    \n",
    "if loc == 'Museum':\n",
    "    print('Welcome to the museum!')\n",
    "else:\n",
    "    print('Where are you?')\n",
    "    print('finish')"
   ]
  },
  {
   "cell_type": "markdown",
   "metadata": {},
   "source": [
    "## 4) Nested `if` statments"
   ]
  },
  {
   "cell_type": "markdown",
   "metadata": {},
   "source": [
    "for divide operation we should handle the divison on zero, so we use **nested if**"
   ]
  },
  {
   "cell_type": "code",
   "execution_count": 27,
   "metadata": {
    "ExecuteTime": {
     "end_time": "2021-11-18T19:21:40.936390Z",
     "start_time": "2021-11-18T19:21:40.287395Z"
    }
   },
   "outputs": [
    {
     "ename": "ZeroDivisionError",
     "evalue": "division by zero",
     "output_type": "error",
     "traceback": [
      "\u001b[1;31m---------------------------------------------------------------------------\u001b[0m",
      "\u001b[1;31mZeroDivisionError\u001b[0m                         Traceback (most recent call last)",
      "\u001b[1;32m<ipython-input-27-40c34c1bde4d>\u001b[0m in \u001b[0;36m<module>\u001b[1;34m\u001b[0m\n\u001b[0;32m     11\u001b[0m     \u001b[0mprint\u001b[0m\u001b[1;33m(\u001b[0m\u001b[0mx\u001b[0m\u001b[1;33m*\u001b[0m\u001b[0my\u001b[0m\u001b[1;33m)\u001b[0m\u001b[1;33m\u001b[0m\u001b[1;33m\u001b[0m\u001b[0m\n\u001b[0;32m     12\u001b[0m \u001b[1;32melif\u001b[0m \u001b[0mop\u001b[0m \u001b[1;33m==\u001b[0m \u001b[1;34m'/'\u001b[0m\u001b[1;33m:\u001b[0m\u001b[1;33m\u001b[0m\u001b[1;33m\u001b[0m\u001b[0m\n\u001b[1;32m---> 13\u001b[1;33m     \u001b[0mprint\u001b[0m\u001b[1;33m(\u001b[0m\u001b[0mx\u001b[0m\u001b[1;33m/\u001b[0m\u001b[0my\u001b[0m\u001b[1;33m)\u001b[0m\u001b[1;33m\u001b[0m\u001b[1;33m\u001b[0m\u001b[0m\n\u001b[0m\u001b[0;32m     14\u001b[0m \u001b[1;32melse\u001b[0m\u001b[1;33m:\u001b[0m\u001b[1;33m\u001b[0m\u001b[1;33m\u001b[0m\u001b[0m\n\u001b[0;32m     15\u001b[0m     \u001b[0mprint\u001b[0m\u001b[1;33m(\u001b[0m\u001b[1;34m\"Wrong Operation\"\u001b[0m\u001b[1;33m)\u001b[0m\u001b[1;33m\u001b[0m\u001b[1;33m\u001b[0m\u001b[0m\n",
      "\u001b[1;31mZeroDivisionError\u001b[0m: division by zero"
     ]
    }
   ],
   "source": [
    "# Create a better calculator\n",
    "x = 5\n",
    "y = 0\n",
    "op = '/'\n",
    "\n",
    "if op == '+':\n",
    "    print(x+y)\n",
    "elif op == '-':\n",
    "    print(x-y)\n",
    "elif op == '*':\n",
    "    print(x*y)\n",
    "elif op == '/':\n",
    "    print(x/y)\n",
    "else:\n",
    "    print(\"Wrong Operation\")"
   ]
  },
  {
   "cell_type": "code",
   "execution_count": 29,
   "metadata": {
    "ExecuteTime": {
     "end_time": "2021-11-18T19:24:20.211409Z",
     "start_time": "2021-11-18T19:24:20.199414Z"
    }
   },
   "outputs": [
    {
     "name": "stdout",
     "output_type": "stream",
     "text": [
      "2.0\n"
     ]
    }
   ],
   "source": [
    "# Create a better calculator\n",
    "x = 5\n",
    "y = 2.5\n",
    "op = '/'\n",
    "\n",
    "if op == '+':\n",
    "    print(x+y)\n",
    "elif op == '-':\n",
    "    print(x-y)\n",
    "elif op == '*':\n",
    "    print(x*y)\n",
    "elif op == '/':\n",
    "    if y == 0:\n",
    "        print(\"Can't divide by zero\")\n",
    "    else:\n",
    "        print(x/y)\n",
    "else:\n",
    "    print(\"Wrong Operation\")"
   ]
  },
  {
   "cell_type": "markdown",
   "metadata": {},
   "source": [
    "## 5) Ternary operator expression"
   ]
  },
  {
   "cell_type": "code",
   "execution_count": 32,
   "metadata": {
    "ExecuteTime": {
     "end_time": "2021-11-18T19:27:28.441388Z",
     "start_time": "2021-11-18T19:27:28.430382Z"
    }
   },
   "outputs": [
    {
     "name": "stdout",
     "output_type": "stream",
     "text": [
      "50\n"
     ]
    }
   ],
   "source": [
    "a = 30\n",
    "b = 50\n",
    "\n",
    "if a > b:\n",
    "    print(a)\n",
    "else:\n",
    "    print(b)"
   ]
  },
  {
   "cell_type": "code",
   "execution_count": 33,
   "metadata": {
    "ExecuteTime": {
     "end_time": "2021-11-18T19:27:43.755580Z",
     "start_time": "2021-11-18T19:27:43.744567Z"
    }
   },
   "outputs": [
    {
     "name": "stdout",
     "output_type": "stream",
     "text": [
      "50\n"
     ]
    }
   ],
   "source": [
    "# Ternary operator in one line only\n",
    "x = a if a > b else b \n",
    "print(x)"
   ]
  },
  {
   "cell_type": "markdown",
   "metadata": {},
   "source": [
    "## 6) Examples"
   ]
  },
  {
   "cell_type": "markdown",
   "metadata": {},
   "source": [
    "### Example 1"
   ]
  },
  {
   "cell_type": "code",
   "execution_count": 36,
   "metadata": {
    "ExecuteTime": {
     "end_time": "2021-11-18T19:34:11.818634Z",
     "start_time": "2021-11-18T19:34:10.887629Z"
    }
   },
   "outputs": [
    {
     "name": "stdout",
     "output_type": "stream",
     "text": [
      "Enter an integer value: 0\n",
      "Zero\n"
     ]
    }
   ],
   "source": [
    "# Check positive or negative number\n",
    "\n",
    "number = int(input(\"Enter an integer value: \"))\n",
    "\n",
    "if number < 0:\n",
    "    print(\"Negative\")\n",
    "elif number > 0:\n",
    "    print(\"Positive\")\n",
    "else:\n",
    "    print(\"Zero\")"
   ]
  },
  {
   "cell_type": "markdown",
   "metadata": {},
   "source": [
    "### Example 2"
   ]
  },
  {
   "cell_type": "markdown",
   "metadata": {},
   "source": [
    "for divide operation we should handle the divison on zero, so we use **nested if**"
   ]
  },
  {
   "cell_type": "code",
   "execution_count": 38,
   "metadata": {
    "ExecuteTime": {
     "end_time": "2021-11-18T19:40:32.209024Z",
     "start_time": "2021-11-18T19:40:25.934019Z"
    }
   },
   "outputs": [
    {
     "name": "stdout",
     "output_type": "stream",
     "text": [
      "Enter the first number: 10\n",
      "Enter the second number: 0\n",
      "Enter the operation: /\n",
      "Can't divide by zero\n"
     ]
    }
   ],
   "source": [
    "# Create the calculator again\n",
    "x = int(input(\"Enter the first number: \"))\n",
    "y = int(input(\"Enter the second number: \"))\n",
    "op = input(\"Enter the operation: \")\n",
    "\n",
    "# Print the result using string formatting\n",
    "if op == '+':\n",
    "    print(f\"{x} + {y} = {x+y}\")\n",
    "elif op == '-':\n",
    "    print(f\"{x} - {y} = {x-y}\")\n",
    "elif op == '*':\n",
    "    print(f\"{x} * {y} = {x*y}\")\n",
    "elif op == '/':\n",
    "    if y == 0:\n",
    "        print(\"Can't divide by zero\")\n",
    "    else:\n",
    "        print(f\"{x} / {y} = {x/y}\")\n",
    "else:\n",
    "    print(\"Wrong Operation\")"
   ]
  },
  {
   "cell_type": "markdown",
   "metadata": {},
   "source": [
    "### Example 3"
   ]
  },
  {
   "cell_type": "code",
   "execution_count": 41,
   "metadata": {
    "ExecuteTime": {
     "end_time": "2021-11-18T19:48:15.372963Z",
     "start_time": "2021-11-18T19:48:08.896888Z"
    }
   },
   "outputs": [
    {
     "name": "stdout",
     "output_type": "stream",
     "text": [
      "Enter your score from 0 to 100: 101\n",
      "Invalid Score\n"
     ]
    }
   ],
   "source": [
    "# Check grade based on score\n",
    "\n",
    "score = int(input(\"Enter your score from 0 to 100: \"))\n",
    "'''\n",
    "Excellent - 85 to 100\n",
    "Very Good - 75 to 85\n",
    "Good - 65 to 75\n",
    "Pass - 50 to 65\n",
    "Fail - 0 to 50\n",
    "'''\n",
    "\n",
    "# We will need to use and\n",
    "if score >= 85 and score <= 100:\n",
    "    print(\"Grade: Excellent\")\n",
    "elif score >= 75 and score < 85:\n",
    "    print(\"Grade: Very Good\")\n",
    "elif score >= 65 and score < 75:\n",
    "    print(\"Grade: Good\")\n",
    "elif score >= 50 and score < 65:\n",
    "    print(\"Grade: Pass\")\n",
    "elif score >= 0 and score < 50:\n",
    "    print(\"Grade: Fail\")\n",
    "else:\n",
    "    print(\"Invalid Score\")"
   ]
  },
  {
   "cell_type": "markdown",
   "metadata": {},
   "source": [
    "### Example 4\n",
    "\n",
    "use `or`"
   ]
  },
  {
   "cell_type": "code",
   "execution_count": 45,
   "metadata": {
    "ExecuteTime": {
     "end_time": "2021-11-18T19:57:29.890247Z",
     "start_time": "2021-11-18T19:57:29.877245Z"
    }
   },
   "outputs": [
    {
     "name": "stdout",
     "output_type": "stream",
     "text": [
      "test\n"
     ]
    }
   ],
   "source": [
    "# I added this example by myself\n",
    "n = 10\n",
    "\n",
    "if n >= 20 or n < 30:\n",
    "    print('test')\n",
    "else:\n",
    "    print('test 2')\n",
    "    \n",
    "# Notice here that 'n' is not greater than or equal to 20, \n",
    "# but it is less than 30, so it evaluates to True and prints 'test' only "
   ]
  },
  {
   "cell_type": "markdown",
   "metadata": {},
   "source": [
    "### Example 5"
   ]
  },
  {
   "cell_type": "code",
   "execution_count": 44,
   "metadata": {
    "ExecuteTime": {
     "end_time": "2021-11-18T19:52:37.900487Z",
     "start_time": "2021-11-18T19:52:21.529482Z"
    }
   },
   "outputs": [
    {
     "name": "stdout",
     "output_type": "stream",
     "text": [
      "Enter an integer number: 154886551\n",
      "154886551 is odd\n"
     ]
    }
   ],
   "source": [
    "number = int(input(\"Enter an integer number: \"))\n",
    "\n",
    "# Modulos = 0 means it is dividable by 2\n",
    "if number % 2 == 0:\n",
    "    print(f\"{number} is even\")\n",
    "else:\n",
    "    print(f\"{number} is odd\")"
   ]
  },
  {
   "cell_type": "markdown",
   "metadata": {},
   "source": [
    "# Gret Work!"
   ]
  }
 ],
 "metadata": {
  "kernelspec": {
   "display_name": "Python 3",
   "language": "python",
   "name": "python3"
  },
  "language_info": {
   "codemirror_mode": {
    "name": "ipython",
    "version": 3
   },
   "file_extension": ".py",
   "mimetype": "text/x-python",
   "name": "python",
   "nbconvert_exporter": "python",
   "pygments_lexer": "ipython3",
   "version": "3.8.5"
  }
 },
 "nbformat": 4,
 "nbformat_minor": 1
}
