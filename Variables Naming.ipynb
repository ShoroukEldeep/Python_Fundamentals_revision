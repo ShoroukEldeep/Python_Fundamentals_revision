{
 "cells": [
  {
   "cell_type": "code",
   "execution_count": 1,
   "metadata": {
    "ExecuteTime": {
     "end_time": "2021-11-08T18:17:55.851750Z",
     "start_time": "2021-11-08T18:17:55.839749Z"
    }
   },
   "outputs": [],
   "source": [
    "x = 5"
   ]
  },
  {
   "cell_type": "code",
   "execution_count": 2,
   "metadata": {
    "ExecuteTime": {
     "end_time": "2021-11-08T18:18:06.117780Z",
     "start_time": "2021-11-08T18:18:06.100758Z"
    }
   },
   "outputs": [
    {
     "name": "stdout",
     "output_type": "stream",
     "text": [
      "5\n"
     ]
    }
   ],
   "source": [
    "print(x)"
   ]
  },
  {
   "cell_type": "code",
   "execution_count": 8,
   "metadata": {
    "ExecuteTime": {
     "end_time": "2021-11-08T19:04:27.485475Z",
     "start_time": "2021-11-08T19:04:27.478458Z"
    }
   },
   "outputs": [],
   "source": [
    "name_1 = \"Omar\"\n",
    "name_2 = \"Shaimaa\""
   ]
  },
  {
   "cell_type": "code",
   "execution_count": 11,
   "metadata": {
    "ExecuteTime": {
     "end_time": "2021-11-08T19:05:04.750461Z",
     "start_time": "2021-11-08T19:05:04.740460Z"
    }
   },
   "outputs": [],
   "source": [
    "name_3 = \"Hatem\""
   ]
  },
  {
   "cell_type": "code",
   "execution_count": 12,
   "metadata": {
    "ExecuteTime": {
     "end_time": "2021-11-08T19:09:08.096850Z",
     "start_time": "2021-11-08T19:09:08.080833Z"
    }
   },
   "outputs": [],
   "source": [
    "first_name = \"Omar\"\n",
    "last_name = \"Hammad\"\n",
    "\n",
    "ROI = 0.5\n",
    "\n"
   ]
  },
  {
   "cell_type": "code",
   "execution_count": 13,
   "metadata": {
    "ExecuteTime": {
     "end_time": "2021-11-08T19:11:07.383836Z",
     "start_time": "2021-11-08T19:11:07.372832Z"
    }
   },
   "outputs": [],
   "source": [
    "PI = 3.14159\n",
    "INTEREST_RATE = 0.1"
   ]
  },
  {
   "cell_type": "code",
   "execution_count": null,
   "metadata": {},
   "outputs": [],
   "source": []
  }
 ],
 "metadata": {
  "kernelspec": {
   "display_name": "Python 3 (ipykernel)",
   "language": "python",
   "name": "python3"
  },
  "language_info": {
   "codemirror_mode": {
    "name": "ipython",
    "version": 3
   },
   "file_extension": ".py",
   "mimetype": "text/x-python",
   "name": "python",
   "nbconvert_exporter": "python",
   "pygments_lexer": "ipython3",
   "version": "3.8.5"
  }
 },
 "nbformat": 4,
 "nbformat_minor": 4
}
