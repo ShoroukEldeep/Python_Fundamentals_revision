{
 "cells": [
  {
   "cell_type": "markdown",
   "metadata": {},
   "source": [
    "# Epsilon AI - Python Quiz 1\n",
    "\n",
    "Your task is to ask the user for the dimensions of the rectangle (width and height), and print out the total area of the rectangle.\n",
    "\n",
    "The area of the rectangle can be calculated using the following formula:<br>\n",
    "<strong>area = width * height</strong>\n",
    "\n",
    "Sample Runs:\n",
    "\n",
    "1 -\n",
    "Enter rectangle width: 5<br>\n",
    "Enter rectangle height: 6<br>\n",
    "Rectangle Area is 30<br>\n",
    "___\n",
    "2-\n",
    "Enter rectangle width: 10<br>\n",
    "Enter rectangle height: 10<br>\n",
    "Rectangle Area is 100<br>\n",
    "___\n",
    "3-\n",
    "Enter rectangle width: 7<br>\n",
    "Enter rectangle height: 6<br>\n",
    "Rectangle Area is 42<br>"
   ]
  },
  {
   "cell_type": "code",
   "execution_count": 2,
   "metadata": {
    "ExecuteTime": {
     "end_time": "2021-11-08T20:17:34.020276Z",
     "start_time": "2021-11-08T20:17:32.203262Z"
    }
   },
   "outputs": [
    {
     "name": "stdout",
     "output_type": "stream",
     "text": [
      "Enter rectangle width: 7\n",
      "Enter rectangle height: 6\n",
      "Rectangle area is:  42.0\n"
     ]
    }
   ],
   "source": [
    "width = float(input(\"Enter rectangle width: \"))\n",
    "height = float(input(\"Enter rectangle height: \"))\n",
    "\n",
    "area = width * height\n",
    "\n",
    "print(\"Rectangle area is: \", area)"
   ]
  },
  {
   "cell_type": "code",
   "execution_count": null,
   "metadata": {},
   "outputs": [],
   "source": []
  }
 ],
 "metadata": {
  "kernelspec": {
   "display_name": "Python 3",
   "language": "python",
   "name": "python3"
  },
  "language_info": {
   "codemirror_mode": {
    "name": "ipython",
    "version": 3
   },
   "file_extension": ".py",
   "mimetype": "text/x-python",
   "name": "python",
   "nbconvert_exporter": "python",
   "pygments_lexer": "ipython3",
   "version": "3.8.5"
  }
 },
 "nbformat": 4,
 "nbformat_minor": 4
}
