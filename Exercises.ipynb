{
 "cells": [
  {
   "cell_type": "markdown",
   "metadata": {},
   "source": [
    "# Python Exercises"
   ]
  },
  {
   "cell_type": "markdown",
   "metadata": {},
   "source": [
    "### 1) String - Exercises, Practice, Solution"
   ]
  },
  {
   "cell_type": "markdown",
   "metadata": {},
   "source": [
    "1. Write a Python program to calculate the length of a string."
   ]
  },
  {
   "cell_type": "code",
   "execution_count": 2,
   "metadata": {},
   "outputs": [
    {
     "name": "stdout",
     "output_type": "stream",
     "text": [
      "Enter your text : Hello Shorouk\n",
      "the length of String is: 13\n"
     ]
    }
   ],
   "source": [
    "String = input(\"Enter your text : \")\n",
    "stringLength = len(String)\n",
    "print(f\"the length of String is: {stringLength}\")"
   ]
  },
  {
   "cell_type": "markdown",
   "metadata": {},
   "source": [
    "2. Write a Python program to count the number of characters (character frequency) in a string.\n",
    "Sample String : google.com'\n",
    "Expected Result : {'g': 2, 'o': 3, 'l': 1, 'e': 1, '.': 1, 'c': 1, 'm': 1}"
   ]
  },
  {
   "cell_type": "code",
   "execution_count": 8,
   "metadata": {},
   "outputs": [
    {
     "name": "stdout",
     "output_type": "stream",
     "text": [
      "{'g': 2, 'o': 3, 'l': 1, 'e': 1, '.': 1, 'c': 1, 'm': 1}\n"
     ]
    }
   ],
   "source": [
    "def StringCounter(string):\n",
    "    dic = {}\n",
    "    for i in string:\n",
    "        keys = dic.keys()\n",
    "        if i in keys :\n",
    "            dic[i] +=1\n",
    "        else :\n",
    "            dic[i] = 1\n",
    "    return dic\n",
    "print(StringCounter(\"google.com\"))\n",
    "    "
   ]
  },
  {
   "cell_type": "markdown",
   "metadata": {},
   "source": [
    "<img src=\"python-data-type-string-exercise-2.png\"  width=\"300\"/>"
   ]
  },
  {
   "cell_type": "markdown",
   "metadata": {},
   "source": [
    "Write a Python program to get a string made of the first 2 and last 2 characters of a given string. If the string length is less than 2, return the empty string instead.\n",
    "- Sample String : 'w3resource'\n",
    "- Expected Result : 'w3ce'\n",
    "- Sample String : 'w3'\n",
    "- Expected Result : 'w3w3'\n",
    "- Sample String : ' w'\n",
    "- Expected Result : Empty String"
   ]
  },
  {
   "cell_type": "code",
   "execution_count": 12,
   "metadata": {},
   "outputs": [
    {
     "name": "stdout",
     "output_type": "stream",
     "text": [
      "w3rce\n"
     ]
    }
   ],
   "source": [
    "def GetString(string):\n",
    "    if len(string) >= 2 :\n",
    "        newString = string[:2] + string[-3:]\n",
    "        return newString\n",
    "    else :\n",
    "        return \"empty string\"\n",
    "print(GetString('w3resource'))"
   ]
  },
  {
   "cell_type": "code",
   "execution_count": 13,
   "metadata": {},
   "outputs": [
    {
     "name": "stdout",
     "output_type": "stream",
     "text": [
      "w3w3\n"
     ]
    }
   ],
   "source": [
    "print(GetString('w3'))"
   ]
  },
  {
   "cell_type": "code",
   "execution_count": 14,
   "metadata": {},
   "outputs": [
    {
     "name": "stdout",
     "output_type": "stream",
     "text": [
      "empty string\n"
     ]
    }
   ],
   "source": [
    "print(GetString('w'))"
   ]
  },
  {
   "cell_type": "markdown",
   "metadata": {},
   "source": [
    "Write a Python program to get a string from a given string where all occurrences of its first char have been changed to ('$$'), except the first char itself.\n",
    "- Sample String : 'restart'\n",
    "- Expected Result : 'resta$t'"
   ]
  },
  {
   "cell_type": "code",
   "execution_count": 19,
   "metadata": {},
   "outputs": [],
   "source": [
    "def ConvertString(string):\n",
    "    for i in string[1:]:\n",
    "        if i == string[0] :\n",
    "            newString = string[1:].replace(i, '$')\n",
    "    return string[0]+newString"
   ]
  },
  {
   "cell_type": "code",
   "execution_count": 20,
   "metadata": {},
   "outputs": [
    {
     "name": "stdout",
     "output_type": "stream",
     "text": [
      "resta$t\n"
     ]
    }
   ],
   "source": [
    "print(ConvertString('restart'))"
   ]
  },
  {
   "cell_type": "markdown",
   "metadata": {},
   "source": [
    "Write a Python program to get a single string from two given strings, separated by a space and swap the first two characters of each string.\n",
    "- Sample String : 'abc', 'xyz'\n",
    "- Expected Result : 'xyc abz'"
   ]
  },
  {
   "cell_type": "code",
   "execution_count": 25,
   "metadata": {},
   "outputs": [
    {
     "name": "stdout",
     "output_type": "stream",
     "text": [
      "xyc abz\n"
     ]
    }
   ],
   "source": [
    "def ChangeString(string1,string2):\n",
    "    NewString1 = string2[:2] + string1[2:]\n",
    "    NewString2 = string1[:2] + string2[2:]\n",
    "    newString = NewString1+ \" \"+NewString2\n",
    "    return newString\n",
    "print(ChangeString('abc', 'xyz'))"
   ]
  },
  {
   "cell_type": "markdown",
   "metadata": {},
   "source": [
    "6. Write a Python program to add 'ing' at the end of a given string (length should be at least 3). If the given string already ends with 'ing', add 'ly' instead. If the string length of the given string is less than 3, leave it unchanged.\n",
    "- Sample String : 'abc'\n",
    "- Expected Result : 'abcing'\n",
    "- Sample String : 'string'\n",
    "- Expected Result : 'stringly'"
   ]
  },
  {
   "cell_type": "code",
   "execution_count": 28,
   "metadata": {},
   "outputs": [
    {
     "name": "stdout",
     "output_type": "stream",
     "text": [
      "abcing\n",
      "stringly\n"
     ]
    }
   ],
   "source": [
    "def UpdatingSting(string):\n",
    "    if len(string) >= 3 :\n",
    "        if string[-3:] != 'ing':\n",
    "            return string+'ing'\n",
    "        elif string[-3:] == 'ing':\n",
    "            return string+'ly'\n",
    "    else:\n",
    "        return \"leave it unchanged\"\n",
    "print(UpdatingSting('abc'))\n",
    "print(UpdatingSting('string'))"
   ]
  },
  {
   "cell_type": "markdown",
   "metadata": {},
   "source": [
    "7. Write a Python program to find the first appearance of the substrings 'not' and 'poor' in a given string. If 'not' follows 'poor', replace the whole 'not'...'poor' substring with 'good'. Return the resulting string.\n",
    "- Sample String : 'The lyrics is not that poor!'\n",
    "'The lyrics is poor!'\n",
    "- Expected Result : 'The lyrics is good!'\n",
    "'The lyrics is poor!'"
   ]
  },
  {
   "cell_type": "code",
   "execution_count": 37,
   "metadata": {},
   "outputs": [
    {
     "name": "stdout",
     "output_type": "stream",
     "text": [
      "The lyrics is good!\n"
     ]
    }
   ],
   "source": [
    "def ReplacingString(string):\n",
    "    notindx = string.find('not')\n",
    "    poorindx = string.find('poor')\n",
    "    if poorindx > notindx and notindx>0 and poorindx>0:\n",
    "        newString = string.replace(string[notindx: (poorindx+4)],'good')\n",
    "        return newString\n",
    "print(ReplacingString('The lyrics is not that poor!' ))"
   ]
  },
  {
   "cell_type": "markdown",
   "metadata": {},
   "source": [
    "1: Calculate the multiplication and sum of two numbers\n",
    "- Given two integer numbers, return their product only if the product is equal to or lower than 1000. Otherwise, return their sum."
   ]
  },
  {
   "cell_type": "code",
   "execution_count": 38,
   "metadata": {},
   "outputs": [
    {
     "name": "stdout",
     "output_type": "stream",
     "text": [
      "600\n"
     ]
    }
   ],
   "source": [
    "def Calculation(num1,num2):\n",
    "    if num1*num2 < 1000 :\n",
    "        return num1*num2\n",
    "    else :\n",
    "        return num1+num2\n",
    "print(Calculation(30,20))"
   ]
  },
  {
   "cell_type": "code",
   "execution_count": 39,
   "metadata": {},
   "outputs": [
    {
     "name": "stdout",
     "output_type": "stream",
     "text": [
      "70\n"
     ]
    }
   ],
   "source": [
    "print(Calculation(30,40))"
   ]
  },
  {
   "cell_type": "markdown",
   "metadata": {},
   "source": [
    "2: Print the sum of the current number and the previous number\n",
    "- Write a program to iterate the first 10 numbers, and in each iteration, print the sum of the current and previous number."
   ]
  },
  {
   "cell_type": "code",
   "execution_count": 46,
   "metadata": {},
   "outputs": [
    {
     "name": "stdout",
     "output_type": "stream",
     "text": [
      "Current Number : 0 Previous Number: 0 Sum: 0\n",
      "Current Number : 1 Previous Number: 0 Sum: 1\n",
      "Current Number : 2 Previous Number: 1 Sum: 3\n",
      "Current Number : 3 Previous Number: 2 Sum: 5\n",
      "Current Number : 4 Previous Number: 3 Sum: 7\n",
      "Current Number : 5 Previous Number: 4 Sum: 9\n",
      "Current Number : 6 Previous Number: 5 Sum: 11\n",
      "Current Number : 7 Previous Number: 6 Sum: 13\n",
      "Current Number : 8 Previous Number: 7 Sum: 15\n",
      "Current Number : 9 Previous Number: 8 Sum: 17\n",
      "None\n"
     ]
    }
   ],
   "source": [
    "def Sumation(Range):\n",
    "    previos_num = 0\n",
    "    for i in range(Range):\n",
    "        sum =previos_num + i\n",
    "        print(f\"Current Number : {i} Previous Number: {previos_num} Sum: {sum}\")\n",
    "        previos_num = i\n",
    "print(Sumation(10))"
   ]
  },
  {
   "cell_type": "markdown",
   "metadata": {},
   "source": [
    "3: Print characters from a string that are present at an even index number\n",
    "- Write a program to accept a string from the user and display characters that are present at an even index number.\n",
    "\n",
    "For example, str = \"pynative\" so you should display ‘p’, ‘n’, ‘t’, ‘v’."
   ]
  },
  {
   "cell_type": "code",
   "execution_count": 47,
   "metadata": {},
   "outputs": [
    {
     "name": "stdout",
     "output_type": "stream",
     "text": [
      "pntv\n"
     ]
    }
   ],
   "source": [
    "def EvenIndex(string):\n",
    "    print(string[::2])\n",
    "EvenIndex('pynative')"
   ]
  },
  {
   "cell_type": "code",
   "execution_count": 50,
   "metadata": {},
   "outputs": [
    {
     "name": "stdout",
     "output_type": "stream",
     "text": [
      "p\n",
      "n\n",
      "t\n",
      "v\n"
     ]
    }
   ],
   "source": [
    "def EvenIndex(string):\n",
    "    for i in string:\n",
    "        if string.index(i) % 2 == 0 :\n",
    "            print(i)\n",
    "EvenIndex('pynative')"
   ]
  },
  {
   "cell_type": "markdown",
   "metadata": {},
   "source": [
    "4: Remove first n characters from a string\n",
    "- Write a program to remove characters from a string starting from zero up to n and return a new string.\n",
    "\n",
    "- For example:\n",
    "\n",
    "    - remove_chars(\"pynative\", 4) so output must be tive. Here, we need to remove the first four characters from a string.\n",
    "    - remove_chars(\"pynative\", 2) so output must be native. Here, we need to remove the first two characters from a string."
   ]
  },
  {
   "cell_type": "code",
   "execution_count": 54,
   "metadata": {},
   "outputs": [
    {
     "name": "stdout",
     "output_type": "stream",
     "text": [
      "tive\n",
      "native\n"
     ]
    }
   ],
   "source": [
    "def Remove(string,n):\n",
    "    newstring = string.replace(string[0:n],'')\n",
    "    return newstring\n",
    "print(Remove(\"pynative\",4))\n",
    "print(Remove(\"pynative\",2))  "
   ]
  },
  {
   "cell_type": "markdown",
   "metadata": {},
   "source": [
    "8: Print the following pattern\n",
    "- 1 \n",
    "- 2 2 \n",
    "- 3 3 3 \n",
    "- 4 4 4 4 \n",
    "- 5 5 5 5 5"
   ]
  },
  {
   "cell_type": "code",
   "execution_count": 55,
   "metadata": {},
   "outputs": [
    {
     "name": "stdout",
     "output_type": "stream",
     "text": [
      "1\n",
      "22\n",
      "333\n",
      "4444\n",
      "55555\n"
     ]
    }
   ],
   "source": [
    "def Pattern(n):\n",
    "    for i in range (1,n+1):\n",
    "        i = str(i)\n",
    "        print(f\"{i}\" * int(i))\n",
    "Pattern(5)"
   ]
  },
  {
   "cell_type": "code",
   "execution_count": 57,
   "metadata": {},
   "outputs": [
    {
     "name": "stdout",
     "output_type": "stream",
     "text": [
      "\n",
      "\n",
      "1 \n",
      "\n",
      "2 2 \n",
      "\n",
      "3 3 3 \n",
      "\n",
      "4 4 4 4 \n",
      "\n",
      "5 5 5 5 5 \n",
      "\n"
     ]
    }
   ],
   "source": [
    "for num in range(6):\n",
    "    for i in range(num):\n",
    "        print (num, end=\" \") #print number\n",
    "    # new line after each row to display pattern correctly\n",
    "    print(\"\\n\")"
   ]
  },
  {
   "cell_type": "markdown",
   "metadata": {},
   "source": [
    "### List - Exercises, Practice, Solution"
   ]
  },
  {
   "cell_type": "markdown",
   "metadata": {},
   "source": [
    "Check if the first and last number of a list is the same\n",
    "\n",
    "- Write a function to return True if the first and last number of a given list is same. If numbers are different then return False"
   ]
  },
  {
   "cell_type": "code",
   "execution_count": 1,
   "metadata": {},
   "outputs": [
    {
     "data": {
      "text/plain": [
       "True"
      ]
     },
     "execution_count": 1,
     "metadata": {},
     "output_type": "execute_result"
    }
   ],
   "source": [
    "def Checking(List):\n",
    "    if List[0] == List[-1]:\n",
    "        return True\n",
    "    else:\n",
    "        return False\n",
    "Checking([10, 20, 30, 40, 10])"
   ]
  },
  {
   "cell_type": "code",
   "execution_count": 2,
   "metadata": {},
   "outputs": [
    {
     "data": {
      "text/plain": [
       "False"
      ]
     },
     "execution_count": 2,
     "metadata": {},
     "output_type": "execute_result"
    }
   ],
   "source": [
    "Checking([75, 65, 35, 75, 30])"
   ]
  },
  {
   "cell_type": "markdown",
   "metadata": {},
   "source": [
    "Display numbers divisible by 5 from a list\n",
    "- Iterate the given list of numbers and print only those numbers which are divisible by 5"
   ]
  },
  {
   "cell_type": "code",
   "execution_count": 4,
   "metadata": {},
   "outputs": [
    {
     "name": "stdout",
     "output_type": "stream",
     "text": [
      "10\n",
      "20\n",
      "55\n"
     ]
    }
   ],
   "source": [
    "def Divid(Given_list):\n",
    "    for i in Given_list:\n",
    "        if i % 5 == 0 :\n",
    "            print(i)\n",
    "Divid([10, 20, 33, 46, 55])"
   ]
  },
  {
   "cell_type": "markdown",
   "metadata": {},
   "source": [
    "Given two list of numbers, write a program to create a new list such that the new list should contain odd numbers from the first list and even numbers from the second list."
   ]
  },
  {
   "cell_type": "code",
   "execution_count": 5,
   "metadata": {},
   "outputs": [
    {
     "data": {
      "text/plain": [
       "[25, 35, 40, 60, 90]"
      ]
     },
     "execution_count": 5,
     "metadata": {},
     "output_type": "execute_result"
    }
   ],
   "source": [
    "def CreatingList(List1,List2):\n",
    "    newList = []\n",
    "    for i in List1:\n",
    "        if i % 2 != 0 :\n",
    "            newList.append(i)\n",
    "    for i in List2:\n",
    "        if i % 2 == 0:\n",
    "            newList.append(i)\n",
    "    return newList\n",
    "CreatingList([10, 20, 25, 30, 35],[40, 45, 60, 75, 90])"
   ]
  },
  {
   "cell_type": "markdown",
   "metadata": {},
   "source": [
    "1. Write a Python program to sum all the items in a list."
   ]
  },
  {
   "cell_type": "code",
   "execution_count": 6,
   "metadata": {},
   "outputs": [
    {
     "data": {
      "text/plain": [
       "45"
      ]
     },
     "execution_count": 6,
     "metadata": {},
     "output_type": "execute_result"
    }
   ],
   "source": [
    "def Sum(List):\n",
    "    List_sumation = sum(List)\n",
    "    return List_sumation\n",
    "Sum([10,20,3,4,5,3])"
   ]
  },
  {
   "cell_type": "markdown",
   "metadata": {},
   "source": [
    "2. Write a Python program to multiply all the items in a list."
   ]
  },
  {
   "cell_type": "code",
   "execution_count": 7,
   "metadata": {},
   "outputs": [
    {
     "data": {
      "text/plain": [
       "24"
      ]
     },
     "execution_count": 7,
     "metadata": {},
     "output_type": "execute_result"
    }
   ],
   "source": [
    "def Multiply(List):\n",
    "    Mul = 1\n",
    "    for i in List:\n",
    "        Mul *=i\n",
    "    return Mul\n",
    "Multiply([2,3,4])        "
   ]
  },
  {
   "cell_type": "markdown",
   "metadata": {},
   "source": [
    "Write a Python program to count the number of strings from a given list of strings. The string length is 2 or more and the first and last characters are the same.\n",
    "- Sample List : ['abc', 'xyz', 'aba', '1221']\n",
    "- Expected Result : 2"
   ]
  },
  {
   "cell_type": "code",
   "execution_count": 13,
   "metadata": {},
   "outputs": [
    {
     "data": {
      "text/plain": [
       "2"
      ]
     },
     "execution_count": 13,
     "metadata": {},
     "output_type": "execute_result"
    }
   ],
   "source": [
    "def CountingString(List):\n",
    "    Count = 0\n",
    "    for i in List:\n",
    "        if len(i) >= 2 :\n",
    "            if i[0] == i[-1]:\n",
    "                Count += 1\n",
    "    return Count\n",
    "CountingString(['abc', 'xyz', 'aba', '1221'])"
   ]
  },
  {
   "cell_type": "markdown",
   "metadata": {},
   "source": [
    "Write a Python program to get a list, sorted in increasing order by the last element in each tuple from a given list of non-empty tuples.\n",
    "- Sample List : [(2, 5), (1, 2), (4, 4), (2, 3), (2, 1)]\n",
    "- Expected Result : [(2, 1), (1, 2), (2, 3), (4, 4), (2, 5)]"
   ]
  },
  {
   "cell_type": "code",
   "execution_count": 14,
   "metadata": {},
   "outputs": [
    {
     "data": {
      "text/plain": [
       "[(2, 1), (1, 2), (2, 3), (4, 4), (2, 5)]"
      ]
     },
     "execution_count": 14,
     "metadata": {},
     "output_type": "execute_result"
    }
   ],
   "source": [
    "def getlastElement(Tuple):\n",
    "    return Tuple[-1]\n",
    "def SortedList(Tuples):\n",
    "    return sorted(Tuples, key = getlastElement)\n",
    "SortedList([(2, 5), (1, 2), (4, 4), (2, 3), (2, 1)])\n",
    "            \n",
    "            "
   ]
  },
  {
   "cell_type": "markdown",
   "metadata": {},
   "source": [
    "### Tuple - Exercises, Practice, Solution"
   ]
  },
  {
   "cell_type": "markdown",
   "metadata": {},
   "source": [
    "Write a Python program to create a tuple."
   ]
  },
  {
   "cell_type": "code",
   "execution_count": 15,
   "metadata": {},
   "outputs": [
    {
     "name": "stdout",
     "output_type": "stream",
     "text": [
      "<class 'tuple'>\n",
      "<class 'tuple'>\n"
     ]
    }
   ],
   "source": [
    "Tuple = ()\n",
    "Tuple2 = tuple()\n",
    "print(type(Tuple))\n",
    "print(type(Tuple2))"
   ]
  },
  {
   "cell_type": "markdown",
   "metadata": {},
   "source": [
    "Write a Python program to create a tuple with different data types."
   ]
  },
  {
   "cell_type": "code",
   "execution_count": 16,
   "metadata": {},
   "outputs": [
    {
     "data": {
      "text/plain": [
       "(1, 'Shorouk', False, 3.7)"
      ]
     },
     "execution_count": 16,
     "metadata": {},
     "output_type": "execute_result"
    }
   ],
   "source": [
    "Tuple = (1,\"Shorouk\",False,3.7)\n",
    "Tuple"
   ]
  },
  {
   "cell_type": "markdown",
   "metadata": {},
   "source": [
    "Write a Python program to create a tuple of numbers and print one item."
   ]
  },
  {
   "cell_type": "code",
   "execution_count": 17,
   "metadata": {},
   "outputs": [
    {
     "name": "stdout",
     "output_type": "stream",
     "text": [
      "6.8\n"
     ]
    }
   ],
   "source": [
    "Tuple = (3,5,6.8,5,4)\n",
    "print(Tuple[2])"
   ]
  },
  {
   "cell_type": "markdown",
   "metadata": {},
   "source": [
    "Write a Python program to unpack a tuple into several variables."
   ]
  },
  {
   "cell_type": "code",
   "execution_count": 18,
   "metadata": {},
   "outputs": [
    {
     "name": "stdout",
     "output_type": "stream",
     "text": [
      "5\n",
      "yes\n",
      "True\n"
     ]
    }
   ],
   "source": [
    "Tuple = (5,\"yes\",True)\n",
    "N1,N2,N3 = Tuple\n",
    "print(N1)\n",
    "print(N2)\n",
    "print(N3)"
   ]
  },
  {
   "cell_type": "markdown",
   "metadata": {},
   "source": [
    "Write a Python program to calculate the product, multiplying all the numbers in a given tuple.\n",
    "Original Tuple:\n",
    "- Original Tuple:\n",
    "(4, 3, 2, 2, -1, 18)\n",
    "- Product - multiplying all the numbers of the said tuple: -864\n",
    "- Original Tuple:\n",
    "(2, 4, 8, 8, 3, 2, 9)\n",
    "- Product - multiplying all the numbers of the said tuple: 27648"
   ]
  },
  {
   "cell_type": "code",
   "execution_count": 19,
   "metadata": {},
   "outputs": [
    {
     "data": {
      "text/plain": [
       "-864"
      ]
     },
     "execution_count": 19,
     "metadata": {},
     "output_type": "execute_result"
    }
   ],
   "source": [
    "def GetTuple(Tuple):\n",
    "    Result = 1\n",
    "    for i in Tuple:\n",
    "        Result *= i\n",
    "    return Result\n",
    "GetTuple((4, 3, 2, 2, -1, 18))"
   ]
  },
  {
   "cell_type": "code",
   "execution_count": 20,
   "metadata": {},
   "outputs": [
    {
     "data": {
      "text/plain": [
       "27648"
      ]
     },
     "execution_count": 20,
     "metadata": {},
     "output_type": "execute_result"
    }
   ],
   "source": [
    "GetTuple((2, 4, 8, 8, 3, 2, 9))"
   ]
  },
  {
   "cell_type": "markdown",
   "metadata": {},
   "source": [
    "Write a Python program to check if a specified element appears in a tuple of tuples.\n",
    "- Original list:\n",
    "(('Red', 'White', 'Blue'), ('Green', 'Pink', 'Purple'), ('Orange', 'Yellow', 'Lime'))\n",
    "- Check if White presenet in said tuple of tuples!\n",
    "True\n",
    "- Check if White presenet in said tuple of tuples!\n",
    "True\n",
    "- Check if Olive presenet in said tuple of tuples!\n",
    "False"
   ]
  },
  {
   "cell_type": "code",
   "execution_count": 24,
   "metadata": {},
   "outputs": [
    {
     "data": {
      "text/plain": [
       "True"
      ]
     },
     "execution_count": 24,
     "metadata": {},
     "output_type": "execute_result"
    }
   ],
   "source": [
    "def CheckElements(Tuples, SpecifiedElement):\n",
    "    for Tuple in Tuples:\n",
    "            if SpecifiedElement in Tuple :\n",
    "                return True\n",
    "            else :\n",
    "                return False\n",
    "CheckElements((('Red', 'White', 'Blue'), ('Green', 'Pink', 'Purple'), ('Orange', 'Yellow', 'Lime')), 'White')"
   ]
  },
  {
   "cell_type": "code",
   "execution_count": 25,
   "metadata": {},
   "outputs": [
    {
     "data": {
      "text/plain": [
       "False"
      ]
     },
     "execution_count": 25,
     "metadata": {},
     "output_type": "execute_result"
    }
   ],
   "source": [
    "CheckElements((('Red', 'White', 'Blue'), ('Green', 'Pink', 'Purple'), ('Orange', 'Yellow', 'Lime')), 'Olive')"
   ]
  },
  {
   "cell_type": "markdown",
   "metadata": {},
   "source": [
    "### Sets - Exercises, Practice, Solution"
   ]
  },
  {
   "cell_type": "markdown",
   "metadata": {},
   "source": [
    "Write a Python program to add member(s) to a set"
   ]
  },
  {
   "cell_type": "code",
   "execution_count": 26,
   "metadata": {},
   "outputs": [
    {
     "data": {
      "text/plain": [
       "{1, 5, 6, 'Sho'}"
      ]
     },
     "execution_count": 26,
     "metadata": {},
     "output_type": "execute_result"
    }
   ],
   "source": [
    "Set = {1,\"Sho\",5}\n",
    "Set.add(6)\n",
    "Set"
   ]
  },
  {
   "cell_type": "markdown",
   "metadata": {},
   "source": [
    "Write a Python program to remove item(s) from a given set."
   ]
  },
  {
   "cell_type": "code",
   "execution_count": 27,
   "metadata": {},
   "outputs": [],
   "source": [
    "Set.remove('Sho')"
   ]
  },
  {
   "cell_type": "code",
   "execution_count": 28,
   "metadata": {},
   "outputs": [
    {
     "data": {
      "text/plain": [
       "{1, 5, 6}"
      ]
     },
     "execution_count": 28,
     "metadata": {},
     "output_type": "execute_result"
    }
   ],
   "source": [
    "Set"
   ]
  },
  {
   "cell_type": "markdown",
   "metadata": {},
   "source": [
    "### Dictionary - Exercises, Practice, Solution"
   ]
  },
  {
   "cell_type": "markdown",
   "metadata": {},
   "source": [
    "Write a Python script to generate and print a dictionary that contains a number (between 1 and n) in the form (x, x*x).\n",
    "- Sample Dictionary ( n = 5) :\n",
    "- Expected Output : {1: 1, 2: 4, 3: 9, 4: 16, 5: 25}"
   ]
  },
  {
   "cell_type": "code",
   "execution_count": 31,
   "metadata": {},
   "outputs": [
    {
     "data": {
      "text/plain": [
       "{1: 1, 2: 4, 3: 9, 4: 16, 5: 25}"
      ]
     },
     "execution_count": 31,
     "metadata": {},
     "output_type": "execute_result"
    }
   ],
   "source": [
    "def CreateDict(n):\n",
    "    Dict = {}\n",
    "    for x in range(1,n+1):\n",
    "        Dict[x] = x*x\n",
    "    return Dict\n",
    "CreateDict(5)\n"
   ]
  },
  {
   "cell_type": "markdown",
   "metadata": {},
   "source": [
    "Write a Python program to convert a dictionary into a list of lists.\n",
    "- Original Dictionary:\n",
    "    -  {1: 'red', 2: 'green', 3: 'black', 4: 'white', 5: 'black'}\n",
    "- Convert the said dictionary into a list of lists:\n",
    "    -  [[1, 'red'], [2, 'green'], [3, 'black'], [4, 'white'], [5, 'black']]\n",
    "- Original Dictionary:\n",
    "    -  {'1': 'Austin Little', '2': 'Natasha Howard', '3': 'Alfred Mullins', '4': 'Jamie Rowe'}\n",
    "- Convert the said dictionary into a list of lists:\n",
    "    -  [['1', 'Austin Little'], ['2', 'Natasha Howard'], ['3', 'Alfred Mullins'], ['4', 'Jamie Rowe']]"
   ]
  },
  {
   "cell_type": "code",
   "execution_count": 2,
   "metadata": {},
   "outputs": [
    {
     "data": {
      "text/plain": [
       "[[1, 'red'], [2, 'green'], [3, 'black'], [4, 'white'], [5, 'black']]"
      ]
     },
     "execution_count": 2,
     "metadata": {},
     "output_type": "execute_result"
    }
   ],
   "source": [
    "def ConvertingDict(Dict):\n",
    "    List = []\n",
    "    for key, value in Dict.items():\n",
    "        List.append([key,value])\n",
    "    return List\n",
    "ConvertingDict({1: 'red', 2: 'green', 3: 'black', 4: 'white', 5: 'black'})\n",
    "        "
   ]
  },
  {
   "cell_type": "code",
   "execution_count": 3,
   "metadata": {},
   "outputs": [
    {
     "data": {
      "text/plain": [
       "[['1', 'Austin Little'],\n",
       " ['2', 'Natasha Howard'],\n",
       " ['3', 'Alfred Mullins'],\n",
       " ['4', 'Jamie Rowe']]"
      ]
     },
     "execution_count": 3,
     "metadata": {},
     "output_type": "execute_result"
    }
   ],
   "source": [
    "ConvertingDict({'1': 'Austin Little', '2': 'Natasha Howard', '3': 'Alfred Mullins', '4': 'Jamie Rowe'})"
   ]
  },
  {
   "cell_type": "markdown",
   "metadata": {},
   "source": [
    "41. Write a Python program to drop empty items from a given dictionary.\n",
    "- Original Dictionary:\n",
    "   -  {'c1': 'Red', 'c2': 'Green', 'c3': None}\n",
    "- New Dictionary after dropping empty items:\n",
    "   -  {'c1': 'Red', 'c2': 'Green'}"
   ]
  },
  {
   "cell_type": "code",
   "execution_count": 11,
   "metadata": {},
   "outputs": [
    {
     "data": {
      "text/plain": [
       "{'c1': 'Red', 'c2': 'Green'}"
      ]
     },
     "execution_count": 11,
     "metadata": {},
     "output_type": "execute_result"
    }
   ],
   "source": [
    "def Droping(dictionary):\n",
    "    for key,value in list(dictionary.items()):\n",
    "        if value == None:\n",
    "            del dictionary[key]\n",
    "    return dictionary\n",
    "Droping({'c1': 'Red', 'c2': 'Green', 'c3': None})"
   ]
  },
  {
   "cell_type": "markdown",
   "metadata": {},
   "source": [
    "42. Write a Python program to filter a dictionary based on values.\n",
    "- Original Dictionary:\n",
    "    -  {'Cierra Vega': 175, 'Alden Cantrell': 180, 'Kierra Gentry': 165, 'Pierre Cox': 190}\n",
    "- Marks greater than 170:\n",
    "   -  {'Cierra Vega': 175, 'Alden Cantrell': 180, 'Pierre Cox': 190}"
   ]
  },
  {
   "cell_type": "code",
   "execution_count": 12,
   "metadata": {},
   "outputs": [
    {
     "data": {
      "text/plain": [
       "{'Cierra Vega': 175, 'Alden Cantrell': 180, 'Pierre Cox': 190}"
      ]
     },
     "execution_count": 12,
     "metadata": {},
     "output_type": "execute_result"
    }
   ],
   "source": [
    "def Filter(dictionary):\n",
    "    for key,value in list(dictionary.items()):\n",
    "        if value < 170 :\n",
    "            del dictionary[key]\n",
    "    return dictionary\n",
    "Filter({'Cierra Vega': 175, 'Alden Cantrell': 180, 'Kierra Gentry': 165, 'Pierre Cox': 190})\n",
    "            "
   ]
  },
  {
   "cell_type": "markdown",
   "metadata": {},
   "source": [
    "43. Write a Python program to convert more than one list to a nested dictionary.\n",
    "- Original strings:\n",
    "    -  ['S001', 'S002', 'S003', 'S004']\n",
    "    -  ['Adina Park', 'Leyton Marsh', 'Duncan Boyle', 'Saim Richards']\n",
    "    -  [85, 98, 89, 92]\n",
    "- Nested dictionary:\n",
    "[{'S001': {'Adina Park': 85}}, {'S002': {'Leyton Marsh': 98}}, {'S003': {'Duncan Boyle': 89}}, {'S004': {'Saim Richards': 92}}]"
   ]
  },
  {
   "cell_type": "code",
   "execution_count": 2,
   "metadata": {},
   "outputs": [
    {
     "data": {
      "text/plain": [
       "[{'S001': {85, 'Adina Park'}},\n",
       " {'S002': {98, 'Leyton Marsh'}},\n",
       " {'S003': {89, 'Duncan Boyle'}},\n",
       " {'S004': {92, 'Saim Richards'}}]"
      ]
     },
     "execution_count": 2,
     "metadata": {},
     "output_type": "execute_result"
    }
   ],
   "source": [
    "def Nested_dict(L1,L2,L3):\n",
    "    new_dic = [{key:{value1,value2}}for (key,value1,value2) in zip(L1,L2,L3)]\n",
    "    return new_dic\n",
    "\n",
    "\n",
    "Nested_dict(['S001', 'S002', 'S003', 'S004'],['Adina Park', 'Leyton Marsh', 'Duncan Boyle', 'Saim Richards'],[85, 98, 89, 92])\n"
   ]
  },
  {
   "cell_type": "code",
   "execution_count": null,
   "metadata": {},
   "outputs": [],
   "source": []
  }
 ],
 "metadata": {
  "kernelspec": {
   "display_name": "Python 3 (ipykernel)",
   "language": "python",
   "name": "python3"
  },
  "language_info": {
   "codemirror_mode": {
    "name": "ipython",
    "version": 3
   },
   "file_extension": ".py",
   "mimetype": "text/x-python",
   "name": "python",
   "nbconvert_exporter": "python",
   "pygments_lexer": "ipython3",
   "version": "3.8.5"
  }
 },
 "nbformat": 4,
 "nbformat_minor": 4
}
