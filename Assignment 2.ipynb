{
 "cells": [
  {
   "cell_type": "markdown",
   "metadata": {},
   "source": [
    "# Assignment 2 - Epsilon AI CDSP\n",
    "\n"
   ]
  },
  {
   "cell_type": "code",
   "execution_count": null,
   "metadata": {},
   "outputs": [],
   "source": [
    "# Please add your name here\n",
    "print(\"Name: ...\")"
   ]
  },
  {
   "cell_type": "markdown",
   "metadata": {},
   "source": [
    "# Task 1 - Circumfrence of a circle\n",
    "\n",
    "Write a code that caluclated and shows the circumference (محيط) of a circle. You have to find out how a circumfrence is calculated, and implement it using Python.\n",
    "\n",
    "#### Sample Runs\n",
    "___\n",
    "Enter the radius of the circle: 10<br>\n",
    "The circumfrence of the circle is: 62.8<br>\n",
    "___\n",
    "Enter the radius of the circle: 6<br>\n",
    "The circumfrence of the circle is: 37.7<br>\n",
    "___\n",
    "Enter the radius of the circle: 12<br>\n",
    "The circumfrence of the circle is: 75.4 <br>"
   ]
  },
  {
   "cell_type": "code",
   "execution_count": null,
   "metadata": {},
   "outputs": [],
   "source": [
    "### YOUR CODE HERE\n",
    "\n"
   ]
  },
  {
   "cell_type": "markdown",
   "metadata": {},
   "source": [
    "# Task 2 - Circumfrence of a rectangle\n",
    "\n",
    "Now that we calculated the circumfrence of a circle, let's do the same for a rectangle (مستطيل)!\n",
    "\n",
    "#### Sample Runs\n",
    "___\n",
    "Enter the width of the rectangle: 10<br>\n",
    "Enter the height of the rectangle: 5<br>\n",
    "Cicumfrence of the rectangle is: 30<br>\n",
    "___\n",
    "Enter the width of the rectangle: 7<br>\n",
    "Enter the height of the rectangle: 7<br>\n",
    "Cicumfrence of the rectangle is: 28<br>\n",
    "___\n",
    "Enter the width of the rectangle: 9<br>\n",
    "Enter the height of the rectangle: 5.5<br>\n",
    "Cicumfrence of the rectangle is: 29<br>"
   ]
  },
  {
   "cell_type": "code",
   "execution_count": null,
   "metadata": {},
   "outputs": [],
   "source": [
    "### YOUR CODE HERE\n",
    "\n"
   ]
  },
  {
   "cell_type": "markdown",
   "metadata": {},
   "source": [
    "# Task 3 - Replacing Strings\n",
    "\n",
    "Write a code that asks the user for a string and replaces each 'S' with a '$'<br>\n",
    "\n",
    "<i>(Hint: replace all small 's' with capital 'S', then replace all capital 'S' with '$')</i>\n",
    "\n",
    "#### Sample Runs\n",
    "___\n",
    "Enter a string: Christmas is coming!<br>\n",
    "Output: Chri$ma$ i$ coming!<br>\n",
    "___\n",
    "Enter a string: He has a surprise for us<br>\n",
    "Output He ha$ a $urpri$e for u$\n"
   ]
  },
  {
   "cell_type": "code",
   "execution_count": null,
   "metadata": {},
   "outputs": [],
   "source": [
    "### YOUR CODE HERE\n",
    "\n"
   ]
  }
 ],
 "metadata": {
  "language_info": {
   "name": "python"
  }
 },
 "nbformat": 4,
 "nbformat_minor": 2
}
