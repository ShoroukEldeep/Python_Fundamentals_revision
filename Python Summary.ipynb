{
 "cells": [
  {
   "cell_type": "markdown",
   "metadata": {},
   "source": [
    "# Python Revision"
   ]
  },
  {
   "cell_type": "markdown",
   "metadata": {},
   "source": [
    "<img src=\"img.png\" width=600 height=400 />"
   ]
  },
  {
   "cell_type": "markdown",
   "metadata": {},
   "source": [
    "> **This notebook is your go-to resource for a condensed summary of a Python course. It includes the essential building blocks of Python, Object-Oriented Programming (OOP) principles, data structures, and the integration of SQLite with Python. It's designed to provide a clear and concise overview of these core Python concepts.**\n"
   ]
  },
  {
   "cell_type": "markdown",
   "metadata": {},
   "source": [
    "## What is python ?"
   ]
  },
  {
   "cell_type": "markdown",
   "metadata": {},
   "source": [
    "* Programming language that can do anything\n",
    "* Free and open resource\n",
    "* Interpreted\n",
    "* Interactive"
   ]
  },
  {
   "cell_type": "markdown",
   "metadata": {},
   "source": [
    "## Why python ?"
   ]
  },
  {
   "cell_type": "markdown",
   "metadata": {},
   "source": [
    "* Easy to install\n",
    "* Clean and easy\n",
    "* Error Handling\n",
    "* Debugging is easy ( Debugger created with python )\n",
    "* Cross platform\n",
    "* Expressive\n",
    "* OOP\n",
    "* Integrated\n",
    "* Support module and packages\n",
    "* Large set of libraries and plugins\n",
    "* Memory Management\n",
    "* Multi purpose\n",
    "* Great Community\n",
    "* Growing fast\n",
    "* You can switch careers with the basic knowledge"
   ]
  },
  {
   "cell_type": "markdown",
   "metadata": {},
   "source": [
    "## 1. Comments"
   ]
  },
  {
   "cell_type": "markdown",
   "metadata": {},
   "source": [
    "<img src=\"Why-learn-Python--14-.png\" width=600 height=400 />"
   ]
  },
  {
   "cell_type": "markdown",
   "metadata": {},
   "source": [
    "**Comments in Python serve several important purposes:**\n",
    "* **Documentation**: Comments are used to provide explanations and documentation within your code. They help you and other developers understand the code's logic and purpose, making it easier to maintain and modify in the future.\n",
    "* **Clarity**: Comments enhance code readability. They can clarify complex or obscure sections of code, making it easier for both you and others to follow the code's flow.\n",
    "* **Disable Code**: Sometimes, you might want to temporarily disable a piece of code without deleting it. Commenting out that code allows you to do this effectively.\n",
    "* **TODOs and Reminders**: Comments are a handy way to leave notes for yourself or your team about tasks that need to be completed or issues that need to be addressed. Many developers use comments with \"TODO\" or \"FIXME\" to mark such points.\n",
    "* **Explanation of Design Choices**: Comments can provide insights into why a particular design or implementation choice was made. This is especially useful when collaborating on a project or revisiting your own code after a long period."
   ]
  },
  {
   "cell_type": "code",
   "execution_count": 1,
   "metadata": {},
   "outputs": [
    {
     "name": "stdout",
     "output_type": "stream",
     "text": [
      "Studyig python for Data Science\n",
      "Machine Learning\n",
      "Programming\n"
     ]
    },
    {
     "data": {
      "text/plain": [
       "'\\nThis is\\nNot\\nMultiple\\nLine\\nComments\\n'"
      ]
     },
     "execution_count": 1,
     "metadata": {},
     "output_type": "execute_result"
    }
   ],
   "source": [
    "# -------------------------------\n",
    "# Informations About File\n",
    "# License\n",
    "# Who Created The File\n",
    "# When The File Created\n",
    "# Why The File Created\n",
    "# Write Beside The Programming Line\n",
    "# Write Before The Programming Line\n",
    "# Prevent Code From Run\n",
    "# -------------------------------\n",
    "\n",
    "# This is Comment\n",
    "print(\"Studyig python for Data Science\")  # This is Inline Comment\n",
    "print(\"Machine Learning\")  # I Used This Method Because of Bla Bla Bla\n",
    "print(\"Programming\")  # If You Used Test Method Will Through Error\n",
    "\n",
    "\"\"\"\n",
    "This is\n",
    "Not\n",
    "Multiple\n",
    "Line\n",
    "Comments\n",
    "\"\"\""
   ]
  },
  {
   "cell_type": "markdown",
   "metadata": {},
   "source": [
    "## Dealing With Data\n",
    "* Our apps contain code + data\n",
    "* Code is the lines you write to manage and deal with this data\n",
    "* To structure the data we need to categorize [ num, string, booleans ]\n",
    "* Num => Students age, Students phone number, teachers salary\n",
    "* String => Students name, Teacher name, Events name\n",
    "* Boolean => Teacher got salary or not, Students age is suitable or not\n",
    "* Data is stored in computer memory\n",
    "* We use variable to refer to this data\n",
    "* Variables not containing the data its only refer to its location on the memory\n",
    "* Code is using the data to perform operations ( Add, Edit, Delete )"
   ]
  },
  {
   "cell_type": "markdown",
   "metadata": {},
   "source": [
    "#### All data in python is object\n",
    "**type()** ==> function is used to determine the data type of an object or value. It is a built-in function that helps you identify whether a variable holds an integer, string, list, dictionary, or another data type. This can be useful for debugging and conditional logic in your code."
   ]
  },
  {
   "cell_type": "code",
   "execution_count": 2,
   "metadata": {},
   "outputs": [
    {
     "name": "stdout",
     "output_type": "stream",
     "text": [
      "<class 'int'>\n",
      "<class 'int'>\n",
      "<class 'int'>\n",
      "<class 'float'>\n",
      "<class 'float'>\n",
      "<class 'float'>\n",
      "<class 'str'>\n",
      "<class 'list'>\n",
      "<class 'tuple'>\n",
      "<class 'dict'>\n",
      "<class 'bool'>\n"
     ]
    }
   ],
   "source": [
    "print(type(10))  # int => Integer\n",
    "print(type(100))  # int => Integer\n",
    "print(type(-50))  # int => Integer\n",
    "\n",
    "print(type(100.9))  # float => Floating Point Number\n",
    "print(type(1.950950))  # float => Floating Point Number\n",
    "print(type(-100.9595))  # float => Floating Point Number\n",
    "\n",
    "print(type(\"Hello Python\"))  # str => String\n",
    "\n",
    "print(type([1, 2, 3, 4, 5]))  # list => List\n",
    "\n",
    "print(type((1, 2, 3, 4, 5)))  # tuple => Tuple\n",
    "\n",
    "print(type({\"One\": 1, \"Two\": 2, \"Three\": 3}))  # dict => Dictionary\n",
    "\n",
    "print(type(2 == 2))  # bool => Boolean"
   ]
  },
  {
   "cell_type": "markdown",
   "metadata": {},
   "source": [
    "## 2. Variables"
   ]
  },
  {
   "cell_type": "markdown",
   "metadata": {},
   "source": [
    "<img src=\"variable_value.png\" width=600 height=400 />"
   ]
  },
  {
   "cell_type": "markdown",
   "metadata": {},
   "source": [
    "#### In Python, variable names must adhere to specific naming conventions and rules to ensure code clarity and consistency. Here are the key guidelines for naming variables in Python:\n",
    "* **Variable Names:** Should be descriptive and reflect the purpose or content of the variable. Should be in English and use meaningful words.\n",
    "* **Case Sensitivity:** Python is case-sensitive, so variable names like myVariable and myvariable are considered different.\n",
    "* **Reserved Words:** Avoid using Python's reserved words (keywords) as variable names. Examples of reserved words include if, else, for, while, and import.\n",
    "* **Convention:** Use lowercase for variable names, separated by underscores for readability (e.g., my_variable).Use uppercase letters to denote constants (e.g., PI = 3.1415).  For class names, use CamelCase (e.g., MyClass).\n",
    "* **Clarity:** Choose variable names that are meaningful and concise to make your code more understandable. For example, use count instead of 'c', and user_input instead of 'ui'."
   ]
  },
  {
   "cell_type": "code",
   "execution_count": 3,
   "metadata": {},
   "outputs": [
    {
     "name": "stdout",
     "output_type": "stream",
     "text": [
      "Shorouk Eldeep\n",
      "Shorouk Eldeep\n",
      "Shorouk Eldeep\n"
     ]
    }
   ],
   "source": [
    "# --------------------------------------\n",
    "# -- Variables --\n",
    "# ---------------\n",
    "# Syntax => [Variable Name] [Assignment Operator] [Value]\n",
    "#\n",
    "# Name Convention and Rules\n",
    "# [1] Can Start With (a-z A-Z) Or Underscore\n",
    "# [2] You Cannot With Num Or Special Characters\n",
    "# [3] Can Include (0-9) Or Underscore\n",
    "# [4] Cannot Include Special Characters\n",
    "# [5] Name is Not Like name [ Case Sensitive ]\n",
    "# --------------------------------------\n",
    "\n",
    "name = \"Shorouk Eldeep\"  # Single Word => Normal\n",
    "myName = \"Shorouk Eldeep\"  # Two Words => camelCase\n",
    "my_name = \"Shorouk Eldeep\"  # Two Words => snake_case\n",
    "\n",
    "print(name)\n",
    "print(myName)\n",
    "print(my_name)"
   ]
  },
  {
   "cell_type": "code",
   "execution_count": 4,
   "metadata": {},
   "outputs": [
    {
     "name": "stdout",
     "output_type": "stream",
     "text": [
      "John\n",
      "30\n",
      "True\n"
     ]
    }
   ],
   "source": [
    "# Good variable names\n",
    "name = \"John\"\n",
    "age = 30\n",
    "is_student = True\n",
    "\n",
    "print(name)\n",
    "print(age)\n",
    "print(is_student)"
   ]
  },
  {
   "cell_type": "code",
   "execution_count": 5,
   "metadata": {},
   "outputs": [
    {
     "name": "stdout",
     "output_type": "stream",
     "text": [
      "100\n",
      "3.1415\n"
     ]
    }
   ],
   "source": [
    "# Constants\n",
    "MAX_VALUE = 100\n",
    "PI = 3.1415\n",
    "\n",
    "print(MAX_VALUE)\n",
    "print(PI)"
   ]
  },
  {
   "cell_type": "code",
   "execution_count": 6,
   "metadata": {},
   "outputs": [],
   "source": [
    "# Class names\n",
    "class StudentRecord:\n",
    "    pass"
   ]
  },
  {
   "cell_type": "markdown",
   "metadata": {},
   "source": [
    "Concepts:\n",
    "- **Source Code** : Original Code You Write it in Computer\n",
    "- **Translation** : Converting Source Code Into Machine Language\n",
    "- **Compilation** : Translate Code Before Run Time\n",
    "- **Run-Time** : Period App Take To Executing Commands\n",
    "- **Interpreted** : Code Translated On The Fly During Execution"
   ]
  },
  {
   "cell_type": "markdown",
   "metadata": {},
   "source": [
    "#### Escape sequences\n",
    "- **\\\\\\**- Backslash:\n",
    "Represents a single backslash character.\n",
    "\n",
    "- **\\\\'** - Single Quote:\n",
    "Represents a single quote character within a single-quoted string.\n",
    "\n",
    "- **\\\\\"** - Double Quote:\n",
    "Represents a double quote character within a double-quoted string.\n",
    "\n",
    "- **\\n** - Newline:\n",
    "Represents a newline character, causing text to start on a new line.\n",
    "\n",
    "- **\\t** - Tab:\n",
    "Represents a horizontal tab character, creating an indentation in the text.\n",
    "\n",
    "- **\\r** - Carriage Return:\n",
    "Represents a carriage return character, typically used to return to the beginning of the line.\n",
    "\n",
    "- **\\b** - Backspace:\n",
    "Represents a backspace character, which moves the cursor one position to the left."
   ]
  },
  {
   "cell_type": "code",
   "execution_count": 7,
   "metadata": {},
   "outputs": [
    {
     "name": "stdout",
     "output_type": "stream",
     "text": [
      "Hello\bWorld\n",
      "Hello I Love Python\n",
      "I Love Back Slash \\\n",
      "I Love Single Quote 'Test' \n",
      "I Love Double Quotes \"Test\" \n",
      "Hello World\n",
      "Second Line\n",
      "123456\r",
      "Abcde\n",
      "Hello\tPython\n"
     ]
    }
   ],
   "source": [
    "# Back Space\n",
    "print(\"Hello\\bWorld\")  # Will Remove o\n",
    "\n",
    "# Escape New Line + Back Slash\n",
    "print(\"Hello \\\n",
    "I Love \\\n",
    "Python\")\n",
    "\n",
    "# Escape Back Slash\n",
    "print(\"I Love Back Slash \\\\\")\n",
    "\n",
    "# Escape Single Quote\n",
    "print('I Love Single Quote \\'Test\\' ')\n",
    "\n",
    "# Escape Double Quotes\n",
    "print(\"I Love Double Quotes \\\"Test\\\" \")\n",
    "\n",
    "# Line Feed\n",
    "print(\"Hello World\\nSecond Line\")\n",
    "\n",
    "# Carriage Return\n",
    "print(\"123456\\rAbcde\")\n",
    "\n",
    "# Horizontal Tab\n",
    "print(\"Hello\\tPython\")"
   ]
  },
  {
   "cell_type": "markdown",
   "metadata": {},
   "source": [
    "### 2.1. Strings"
   ]
  },
  {
   "cell_type": "markdown",
   "metadata": {},
   "source": [
    "<img src=\"imggg.png\" width=600 height=400 />"
   ]
  },
  {
   "cell_type": "markdown",
   "metadata": {},
   "source": [
    "* **Creating Strings**: You can create strings using single (' '), double (\" \"), or triple (''' ' ''') quotes. For example:"
   ]
  },
  {
   "cell_type": "code",
   "execution_count": 8,
   "metadata": {},
   "outputs": [
    {
     "name": "stdout",
     "output_type": "stream",
     "text": [
      "Hello, World!\n",
      "Hello, World!\n",
      "This is a multi-line string.\n",
      "It can span multiple lines.\n"
     ]
    }
   ],
   "source": [
    "single_quoted = 'Hello, World!'\n",
    "double_quoted = \"Hello, World!\"\n",
    "triple_quoted = '''This is a multi-line string.\n",
    "It can span multiple lines.'''\n",
    "\n",
    "print(single_quoted)\n",
    "print(double_quoted)\n",
    "print(triple_quoted)"
   ]
  },
  {
   "cell_type": "markdown",
   "metadata": {},
   "source": [
    "* **String Concatenation**: You can concatenate strings using the + operator:"
   ]
  },
  {
   "cell_type": "code",
   "execution_count": 9,
   "metadata": {},
   "outputs": [
    {
     "name": "stdout",
     "output_type": "stream",
     "text": [
      "Hello, Alice\n"
     ]
    }
   ],
   "source": [
    "greeting = \"Hello\"\n",
    "name = \"Alice\"\n",
    "message = greeting + \", \" + name\n",
    "\n",
    "print(message)"
   ]
  },
  {
   "cell_type": "markdown",
   "metadata": {},
   "source": [
    "#### Strings Indexing & Slicing"
   ]
  },
  {
   "cell_type": "markdown",
   "metadata": {},
   "source": [
    "* **[1]** All Data in Python is Object\n",
    "* **[2]** Object Contain Elements\n",
    "* **[3]** Every Element Has Its Own Index\n",
    "* **[4]** Python Use Zero Based Indexing ( Index Start From Zero )\n",
    "* **[5]** Use Square Brackets To Access Element\n",
    "* **[6]** Enable Accessing Parts Of Strings, Tuples or Lists"
   ]
  },
  {
   "cell_type": "code",
   "execution_count": 10,
   "metadata": {},
   "outputs": [
    {
     "name": "stdout",
     "output_type": "stream",
     "text": [
      "I\n",
      "t\n",
      "n\n",
      "P\n"
     ]
    }
   ],
   "source": [
    "# Indexing ( Access Single Item )\n",
    "\n",
    "myString = \"I Love Python\"\n",
    "\n",
    "print(myString[0])  # Index 0 => I\n",
    "print(myString[9])  # Index 9 => t\n",
    "\n",
    "print(myString[-1])  # Index -1 => First Character From End\n",
    "print(myString[-6])  # Index -6 => 6th Character From End"
   ]
  },
  {
   "cell_type": "code",
   "execution_count": 11,
   "metadata": {},
   "outputs": [
    {
     "name": "stdout",
     "output_type": "stream",
     "text": [
      "yth\n",
      "ov\n",
      "I Love Pyt\n",
      "e Python\n",
      "I Love Python\n",
      "I Love Python\n",
      "I Love Python\n",
      "ILv yhn\n",
      "Io tn\n"
     ]
    }
   ],
   "source": [
    "# Slicing ( Access Multiple Sequence Items )\n",
    "# [Start:End] End Not Included\n",
    "# [Start:End:Steps]\n",
    "\n",
    "print(myString[8:11])  # yth\n",
    "print(myString[3:5])  # ov\n",
    "\n",
    "print(myString[:10])  # If Start Is Not Here Will Start From 0 (I Love Pyt)\n",
    "print(myString[5:])  # If End Is Not Here Will Go To The End (e Python)\n",
    "print(myString[:])  # Full Data\n",
    "\n",
    "print(myString[0::1])  # Full Data\n",
    "print(myString[::1])  # Full Data\n",
    "\n",
    "print(myString[::2])\n",
    "print(myString[::3])"
   ]
  },
  {
   "cell_type": "markdown",
   "metadata": {},
   "source": [
    "#### String Methods"
   ]
  },
  {
   "cell_type": "markdown",
   "metadata": {},
   "source": [
    "* **strip()** : This method removes whitespace characters from both the beginning and end of a string. It returns a new string with leading and trailing whitespace removed. The original string is not modified."
   ]
  },
  {
   "cell_type": "code",
   "execution_count": 12,
   "metadata": {},
   "outputs": [
    {
     "name": "stdout",
     "output_type": "stream",
     "text": [
      "This is a string with leading and trailing spaces.\n"
     ]
    }
   ],
   "source": [
    "text = \"  This is a string with leading and trailing spaces.  \"\n",
    "cleaned_text = text.strip()\n",
    "print(cleaned_text)  # \"This is a string with leading and trailing spaces.\""
   ]
  },
  {
   "cell_type": "markdown",
   "metadata": {},
   "source": [
    "* **rstrip()** : This method removes whitespace characters (or other specified characters) only from the end (right side) of the string. It returns a new string with trailing whitespace removed."
   ]
  },
  {
   "cell_type": "code",
   "execution_count": 13,
   "metadata": {},
   "outputs": [
    {
     "name": "stdout",
     "output_type": "stream",
     "text": [
      "  This is a string with trailing spaces.\n"
     ]
    }
   ],
   "source": [
    "text = \"  This is a string with trailing spaces.  \"\n",
    "cleaned_text = text.rstrip()\n",
    "print(cleaned_text)  # \"  This is a string with trailing spaces.\""
   ]
  },
  {
   "cell_type": "markdown",
   "metadata": {},
   "source": [
    "* **lstrip()** : This method removes whitespace characters (or other specified characters) only from the beginning (left side) of the string. It returns a new string with leading whitespace removed."
   ]
  },
  {
   "cell_type": "code",
   "execution_count": 14,
   "metadata": {},
   "outputs": [
    {
     "name": "stdout",
     "output_type": "stream",
     "text": [
      "This is a string with leading spaces.  \n"
     ]
    }
   ],
   "source": [
    "text = \"  This is a string with leading spaces.  \"\n",
    "cleaned_text = text.lstrip()\n",
    "print(cleaned_text)  # \"This is a string with leading spaces.  \""
   ]
  },
  {
   "cell_type": "markdown",
   "metadata": {},
   "source": [
    "These methods are useful for cleaning up user input, file content, or any situation where you need to eliminate unwanted whitespace characters from a string. They can also be used with specific characters as arguments to remove characters other than whitespace from the string. For example, you can use strip('/') to remove forward slashes from the beginning and end of a string."
   ]
  },
  {
   "cell_type": "markdown",
   "metadata": {},
   "source": [
    "* **title()** : is a string method used to convert a string into a titlecased version. Titlecased strings are where the first character of each word is capitalized, while the rest of the characters in the word are in lowercase. Words are typically separated by spaces."
   ]
  },
  {
   "cell_type": "code",
   "execution_count": 15,
   "metadata": {},
   "outputs": [
    {
     "name": "stdout",
     "output_type": "stream",
     "text": [
      "This Is A Sample String\n"
     ]
    }
   ],
   "source": [
    "text = \"this is a sample string\"\n",
    "title_text = text.title()\n",
    "print(title_text)  # \"This Is A Sample String\""
   ]
  },
  {
   "cell_type": "markdown",
   "metadata": {},
   "source": [
    "* **capitalize()** : is a string method used to capitalize the first character of a string and convert the rest of the characters in the string to lowercase. It effectively turns the first character of the string into an uppercase letter and the remaining characters into lowercase."
   ]
  },
  {
   "cell_type": "code",
   "execution_count": 16,
   "metadata": {},
   "outputs": [
    {
     "name": "stdout",
     "output_type": "stream",
     "text": [
      "This is a sample string\n"
     ]
    }
   ],
   "source": [
    "text = \"this is a sample string\"\n",
    "capitalized_text = text.capitalize()\n",
    "print(capitalized_text)  # \"This is a sample string\""
   ]
  },
  {
   "cell_type": "markdown",
   "metadata": {},
   "source": [
    "* **zfill()** : is used to pad a numeric string with zeros (0) to a specified width. This method is commonly used when you want to ensure that a numeric string has a certain minimum width, often for formatting purposes."
   ]
  },
  {
   "cell_type": "markdown",
   "metadata": {},
   "source": [
    "**string.zfill(width)**\n",
    "* **string** is the original string to which you want to add leading zeros.\n",
    "* **width** is the minimum width of the resulting string. The function will pad the original string with zeros on the left (if needed) to make it at least this wide."
   ]
  },
  {
   "cell_type": "code",
   "execution_count": 17,
   "metadata": {},
   "outputs": [
    {
     "name": "stdout",
     "output_type": "stream",
     "text": [
      "00042\n"
     ]
    }
   ],
   "source": [
    "number = \"42\"\n",
    "padded_number = number.zfill(5)\n",
    "print(padded_number)  # \"00042\""
   ]
  },
  {
   "cell_type": "markdown",
   "metadata": {},
   "source": [
    "* **upper()** : is used to convert all the characters in a string to uppercase. It returns a new string with all the alphabetic characters in the original string converted to their uppercase equivalents, while leaving non-alphabetic characters unchanged."
   ]
  },
  {
   "cell_type": "code",
   "execution_count": 18,
   "metadata": {},
   "outputs": [
    {
     "name": "stdout",
     "output_type": "stream",
     "text": [
      "THIS IS A SAMPLE STRING\n"
     ]
    }
   ],
   "source": [
    "text = \"This is a sample string\"\n",
    "uppercase_text = text.upper()\n",
    "print(uppercase_text)  # \"THIS IS A SAMPLE STRING\""
   ]
  },
  {
   "cell_type": "markdown",
   "metadata": {},
   "source": [
    "* **lower()** : is used to convert all the characters in a string to lowercase. It returns a new string with all the alphabetic characters in the original string converted to their lowercase equivalents, while leaving non-alphabetic characters unchanged."
   ]
  },
  {
   "cell_type": "code",
   "execution_count": 19,
   "metadata": {},
   "outputs": [
    {
     "name": "stdout",
     "output_type": "stream",
     "text": [
      "this is a sample string\n"
     ]
    }
   ],
   "source": [
    "text = \"This is a Sample String\"\n",
    "lowercase_text = text.lower()\n",
    "print(lowercase_text)  # \"this is a sample string\""
   ]
  },
  {
   "cell_type": "markdown",
   "metadata": {},
   "source": [
    "* **index()** : is used to find the index of the first occurrence of a specified substring (or subsequence) within a string. This method is commonly used to search for a substring and determine its position within the string.\n",
    "\n",
    "**string.index(substring, start, end)**\n",
    "* **string** is the original string in which you want to search for the substring.\n",
    "* **substring** is the string you're searching for within the original string.\n",
    "* **start (optional)** is the index in the original string where the search will start. The default is 0.\n",
    "* **end (optional)** is the index in the original string where the search will end. The search will not go beyond this index. If not specified, it searches to the end of the string."
   ]
  },
  {
   "cell_type": "code",
   "execution_count": 20,
   "metadata": {},
   "outputs": [
    {
     "name": "stdout",
     "output_type": "stream",
     "text": [
      "The substring is found at index: 10\n"
     ]
    }
   ],
   "source": [
    "text = \"This is a sample string with some words in it.\"\n",
    "substring = \"sample\"\n",
    "index = text.index(substring)\n",
    "print(\"The substring is found at index:\", index)  # 10"
   ]
  },
  {
   "cell_type": "markdown",
   "metadata": {},
   "source": [
    "* **find()** : is used to find the index of the first occurrence of a specified substring (or subsequence) within a string. It is similar to the index() method, but unlike index(), find() does not raise an exception if the substring is not found. Instead, it returns -1 to indicate that the substring is not present in the string."
   ]
  },
  {
   "cell_type": "markdown",
   "metadata": {},
   "source": [
    "**string.find(substring, start, end)**\n",
    "* **string** is the original string in which you want to search for the substring.\n",
    "* **substring** is the string you're searching for within the original string.\n",
    "* **start** (optional) is the index in the original string where the search will start. The default is 0.\n",
    "* **end** (optional) is the index in the original string where the search will end. The search will not go beyond this index. If not specified, it searches to the end of the string.\n"
   ]
  },
  {
   "cell_type": "code",
   "execution_count": 21,
   "metadata": {},
   "outputs": [
    {
     "name": "stdout",
     "output_type": "stream",
     "text": [
      "The substring is found at index: 10\n",
      "The substring is not found; index is: -1\n"
     ]
    }
   ],
   "source": [
    "text = \"This is a sample string with some words in it.\"\n",
    "substring = \"sample\"\n",
    "index = text.find(substring)\n",
    "print(\"The substring is found at index:\", index)  # 10\n",
    "\n",
    "substring_not_found = \"missing\"\n",
    "index_not_found = text.find(substring_not_found)\n",
    "print(\"The substring is not found; index is:\", index_not_found)  # -1\n"
   ]
  },
  {
   "cell_type": "markdown",
   "metadata": {},
   "source": [
    "* **rjust()** : stands for \"right justify.\". It right-aligns the string within a field of the given width. Any extra space on the left is filled with the specified fill character (which is optional and defaults to a space if not provided). The original string remains unchanged, and a new string is returned."
   ]
  },
  {
   "cell_type": "code",
   "execution_count": 22,
   "metadata": {},
   "outputs": [
    {
     "name": "stdout",
     "output_type": "stream",
     "text": [
      "*****Hello\n"
     ]
    }
   ],
   "source": [
    "text = \"Hello\"\n",
    "right_justified = text.rjust(10, \"*\")\n",
    "print(right_justified)  # \"*****Hello\""
   ]
  },
  {
   "cell_type": "markdown",
   "metadata": {},
   "source": [
    "* **ljust()** : stands for \"left justify.\". It left-aligns the string within a field of the given width. Any extra space on the right is filled with the specified fill character (which is optional and defaults to a space if not provided). The original string remains unchanged, and a new string is returned."
   ]
  },
  {
   "cell_type": "code",
   "execution_count": 23,
   "metadata": {},
   "outputs": [
    {
     "name": "stdout",
     "output_type": "stream",
     "text": [
      "Hello*****\n"
     ]
    }
   ],
   "source": [
    "text = \"Hello\"\n",
    "left_justified = text.ljust(10, \"*\")\n",
    "print(left_justified)  # \"Hello*****\""
   ]
  },
  {
   "cell_type": "markdown",
   "metadata": {},
   "source": [
    "* **splitlines()** : is used to split a string into a list of lines, where each line is determined by the line breaks in the original string. It's particularly useful when dealing with text data that has multiple lines, such as reading and processing text files."
   ]
  },
  {
   "cell_type": "code",
   "execution_count": 24,
   "metadata": {},
   "outputs": [
    {
     "name": "stdout",
     "output_type": "stream",
     "text": [
      "['Line 1', 'Line 2', 'Line 3', 'Line 4']\n"
     ]
    }
   ],
   "source": [
    "text = \"Line 1\\nLine 2\\rLine 3\\r\\nLine 4\"\n",
    "lines = text.splitlines()\n",
    "print(lines)"
   ]
  },
  {
   "cell_type": "markdown",
   "metadata": {},
   "source": [
    "You can also use the keepends parameter to include line break characters at the end of each line in the result. By default, keepends is set to False, which means line break characters are not included. If you set it to True, line break characters will be retained in the lines."
   ]
  },
  {
   "cell_type": "code",
   "execution_count": 25,
   "metadata": {},
   "outputs": [
    {
     "name": "stdout",
     "output_type": "stream",
     "text": [
      "['Line 1\\n', 'Line 2\\r', 'Line 3\\r\\n', 'Line 4']\n"
     ]
    }
   ],
   "source": [
    "text = \"Line 1\\nLine 2\\rLine 3\\r\\nLine 4\"\n",
    "lines_with_linebreaks = text.splitlines(keepends=True)\n",
    "print(lines_with_linebreaks)"
   ]
  },
  {
   "cell_type": "markdown",
   "metadata": {},
   "source": [
    "* **expandtabs()** : is used to replace tab characters ('\\t') in a string with a specified number of spaces. It's often used to format text that contains tab characters, align text within a specific tabular structure, or ensure consistent spacing in text."
   ]
  },
  {
   "cell_type": "markdown",
   "metadata": {},
   "source": [
    "**string.expandtabs(tabsize)**\n",
    "* **string** is the original string containing tab characters.\n",
    "* **tabsize (optional)** is the number of spaces to replace each tab character with. If not provided, it defaults to 8 spaces."
   ]
  },
  {
   "cell_type": "code",
   "execution_count": 26,
   "metadata": {},
   "outputs": [
    {
     "name": "stdout",
     "output_type": "stream",
     "text": [
      "Hello   world   from    Python\n"
     ]
    }
   ],
   "source": [
    "text = \"Hello\\tworld\\tfrom\\tPython\"\n",
    "expanded_text = text.expandtabs(4)\n",
    "print(expanded_text)"
   ]
  },
  {
   "cell_type": "markdown",
   "metadata": {},
   "source": [
    "* **split()** : This method splits the string from left to right (from the beginning to the end) based on a specified delimiter. By default, it splits the string using whitespace as the delimiter, but you can provide a custom delimiter as an argument.\n",
    "\n",
    "**string.split([separator[, maxsplit]])**\n",
    "* **string:** The original string to be split.\n",
    "* **separator (optional):** The delimiter used to split the string. If not provided, it defaults to whitespace.\n",
    "* **maxsplit (optional):** The maximum number of splits to perform. If specified, the string will be split into at most maxsplit + 1 parts. If not provided, there is no maximum limit."
   ]
  },
  {
   "cell_type": "code",
   "execution_count": 27,
   "metadata": {},
   "outputs": [
    {
     "name": "stdout",
     "output_type": "stream",
     "text": [
      "['apple', 'banana', 'cherry', 'dates']\n"
     ]
    }
   ],
   "source": [
    "text = \"apple,banana,cherry,dates\"\n",
    "fruits = text.split(',')\n",
    "print(fruits)  # ['apple', 'banana', 'cherry', 'dates']"
   ]
  },
  {
   "cell_type": "markdown",
   "metadata": {},
   "source": [
    "* **rsplit()** : This method splits the string from right to left (from the end to the beginning) based on a specified delimiter. Like split(), it can also be provided with a custom delimiter and an optional maxsplit argument.\n",
    "\n",
    "**string.rsplit([separator[, maxsplit]])**\n",
    "* **string:** The original string to be split.\n",
    "* **separator (optional):** The delimiter used to split the string. If not provided, it defaults to whitespace.\n",
    "* **maxsplit (optional):** The maximum number of splits to perform, but the splits occur from the end of the string. If not provided, there is no maximum limit."
   ]
  },
  {
   "cell_type": "code",
   "execution_count": 28,
   "metadata": {},
   "outputs": [
    {
     "name": "stdout",
     "output_type": "stream",
     "text": [
      "['apple,banana', 'cherry', 'dates']\n"
     ]
    }
   ],
   "source": [
    "text = \"apple,banana,cherry,dates\"\n",
    "fruits = text.rsplit(',', 2)\n",
    "print(fruits)  # ['apple,banana', 'cherry', 'dates']"
   ]
  },
  {
   "cell_type": "markdown",
   "metadata": {},
   "source": [
    "* **center()** : method is used to center-align a string within a specified width by adding padding characters (usually spaces) on both sides of the string. This is often used to format text within a fixed-width field or to create visually appealing output with text centered within a block."
   ]
  },
  {
   "cell_type": "markdown",
   "metadata": {},
   "source": [
    "**string.center(width[, fillchar])**\n",
    "* **string** is the original string that you want to center.\n",
    "* **width** is the total width of the resulting centered string, including the original string and any padding.\n",
    "* **fillchar (optional)** is the character used for padding. It defaults to a space if not provided.\n"
   ]
  },
  {
   "cell_type": "code",
   "execution_count": 29,
   "metadata": {},
   "outputs": [
    {
     "name": "stdout",
     "output_type": "stream",
     "text": [
      "***Python***\n"
     ]
    }
   ],
   "source": [
    "text = \"Python\"\n",
    "centered_text = text.center(12, '*')\n",
    "print(centered_text)"
   ]
  },
  {
   "cell_type": "markdown",
   "metadata": {},
   "source": [
    "* **count()** : method is used to count the number of non-overlapping occurrences of a substring within a string. It searches for the specified substring in the original string and returns the count of how many times it appears.\n",
    "\n",
    "**string.count(substring, start, end)**\n",
    "* **string** is the original string in which you want to count occurrences.\n",
    "* **substring** is the string you're searching for within the original string.\n",
    "* **start (optional)** is the index in the original string where the search will start. The default is 0.\n",
    "* **end (optional)** is the index in the original string where the search will end. The search will not go beyond this index. If not specified, it searches to the end of the string.\n"
   ]
  },
  {
   "cell_type": "code",
   "execution_count": 30,
   "metadata": {},
   "outputs": [
    {
     "name": "stdout",
     "output_type": "stream",
     "text": [
      "The substring 'quick' appears 2 times.\n"
     ]
    }
   ],
   "source": [
    "text = \"The quick brown fox jumps over the lazy dog. The dog is quick.\"\n",
    "count = text.count(\"quick\")\n",
    "print(\"The substring 'quick' appears\", count, \"times.\")"
   ]
  },
  {
   "cell_type": "markdown",
   "metadata": {},
   "source": [
    "* **swapcase()** : method is used to create a new string where the case of all alphabetic characters in the original string is swapped. That is, lowercase characters are converted to uppercase, and uppercase characters are converted to lowercase. Non-alphabetic characters in the string remain unchanged."
   ]
  },
  {
   "cell_type": "code",
   "execution_count": 31,
   "metadata": {},
   "outputs": [
    {
     "name": "stdout",
     "output_type": "stream",
     "text": [
      "hELLO, wORLD!\n"
     ]
    }
   ],
   "source": [
    "text = \"Hello, World!\"\n",
    "swapped_text = text.swapcase()\n",
    "print(swapped_text)"
   ]
  },
  {
   "cell_type": "markdown",
   "metadata": {},
   "source": [
    "* **replace()** : method is used to create a new string by replacing all occurrences of a specified \"old\" substring with a \"new\" substring within the original string. You can also provide an optional count parameter to limit the number of replacements made. This method does not modify the original string but returns a new string with the replacements."
   ]
  },
  {
   "cell_type": "markdown",
   "metadata": {},
   "source": [
    "**string.replace(old, new, count)**\n",
    "* **string:** The original string in which you want to make replacements.\n",
    "* **old:** The substring you want to replace within the original string.\n",
    "* **new:** The substring that will replace occurrences of the \"old\" substring.\n",
    "* **count (optional):** The maximum number of replacements to make. If not specified, all occurrences of the \"old\" substring are replaced."
   ]
  },
  {
   "cell_type": "code",
   "execution_count": 32,
   "metadata": {},
   "outputs": [
    {
     "name": "stdout",
     "output_type": "stream",
     "text": [
      "This is an sample. This sample is for demonstration.\n"
     ]
    }
   ],
   "source": [
    "text = \"This is an example. This example is for demonstration.\"\n",
    "modified_text = text.replace(\"example\", \"sample\")\n",
    "print(modified_text)"
   ]
  },
  {
   "cell_type": "code",
   "execution_count": 33,
   "metadata": {},
   "outputs": [
    {
     "name": "stdout",
     "output_type": "stream",
     "text": [
      "This is an sample. This example is for demonstration.\n"
     ]
    }
   ],
   "source": [
    "text = \"This is an example. This example is for demonstration.\"\n",
    "modified_text = text.replace(\"example\", \"sample\", 1)\n",
    "print(modified_text)"
   ]
  },
  {
   "cell_type": "markdown",
   "metadata": {},
   "source": [
    "* **join()** : method is used to concatenate a sequence (an iterable) of strings, typically a list, tuple, or any other iterable, with a specified separator string. This method creates a new string by joining the elements of the iterable together, separated by the provided separator.\n",
    "\n",
    "**separator.join(iterable)**\n",
    "* **separator** is the string that you want to use as a separator to insert between the elements of the iterable.\n",
    "* **iterable** is the sequence of strings that you want to concatenate together."
   ]
  },
  {
   "cell_type": "code",
   "execution_count": 34,
   "metadata": {},
   "outputs": [
    {
     "name": "stdout",
     "output_type": "stream",
     "text": [
      "This is a list of words\n"
     ]
    }
   ],
   "source": [
    "words = [\"This\", \"is\", \"a\", \"list\", \"of\", \"words\"]\n",
    "sentence = \" \".join(words)\n",
    "print(sentence)"
   ]
  },
  {
   "cell_type": "code",
   "execution_count": 35,
   "metadata": {},
   "outputs": [
    {
     "name": "stdout",
     "output_type": "stream",
     "text": [
      "applebananacherry\n"
     ]
    }
   ],
   "source": [
    "words = [\"apple\", \"banana\", \"cherry\"]\n",
    "combined = \"\".join(words)\n",
    "print(combined)  # \"applebananacherry\""
   ]
  },
  {
   "cell_type": "markdown",
   "metadata": {},
   "source": [
    "### Strings Formatting"
   ]
  },
  {
   "cell_type": "markdown",
   "metadata": {},
   "source": [
    "String formatting is used to create human-readable and well-structured strings. It allows you to combine text, variables, and expressions in a way that is easy to read and understand."
   ]
  },
  {
   "cell_type": "code",
   "execution_count": 36,
   "metadata": {},
   "outputs": [
    {
     "name": "stdout",
     "output_type": "stream",
     "text": [
      "My Name is: Osama\n"
     ]
    }
   ],
   "source": [
    "name = \"Osama\"\n",
    "age = 36\n",
    "rank = 10\n",
    "\n",
    "print(\"My Name is: \" + name)\n",
    "# print(\"My Name is: \" + name + \" and My Age is: \" + age)  # Type Error"
   ]
  },
  {
   "cell_type": "code",
   "execution_count": 37,
   "metadata": {},
   "outputs": [
    {
     "name": "stdout",
     "output_type": "stream",
     "text": [
      "My Name is: Osama\n",
      "My Name is: Osama\n",
      "My Name is: Osama and My Age is: 36\n",
      "My Name is: Osama and My Age is: 36 and My Rank is: 10.000000\n"
     ]
    }
   ],
   "source": [
    "print(\"My Name is: %s\" % \"Osama\")\n",
    "print(\"My Name is: %s\" % name)\n",
    "print(\"My Name is: %s and My Age is: %d\" % (name, age))\n",
    "print(\"My Name is: %s and My Age is: %d and My Rank is: %f\" % (name, age, rank))"
   ]
  },
  {
   "cell_type": "markdown",
   "metadata": {},
   "source": [
    "* **%s** => String\n",
    "* **%d** => Number\n",
    "* **%f** => Float"
   ]
  },
  {
   "cell_type": "code",
   "execution_count": 38,
   "metadata": {},
   "outputs": [
    {
     "name": "stdout",
     "output_type": "stream",
     "text": [
      "My Name is Osama Iam a Python Developer With 10 Years Exp\n"
     ]
    }
   ],
   "source": [
    "name = \"Osama\"\n",
    "major = \"Python\"\n",
    "experience = 10\n",
    "\n",
    "print(\"My Name is %s Iam a %s Developer With %d Years Exp\" % (name, major, experience))"
   ]
  },
  {
   "cell_type": "code",
   "execution_count": 39,
   "metadata": {},
   "outputs": [
    {
     "name": "stdout",
     "output_type": "stream",
     "text": [
      "My Number is: 10\n",
      "My Number is: 10.000000\n",
      "My Number is: 10.00\n"
     ]
    }
   ],
   "source": [
    "# Control Floating Point Number\n",
    "\n",
    "myNumber = 10\n",
    "print(\"My Number is: %d\" % myNumber)\n",
    "print(\"My Number is: %f\" % myNumber)\n",
    "print(\"My Number is: %.2f\" % myNumber)"
   ]
  },
  {
   "cell_type": "code",
   "execution_count": 40,
   "metadata": {},
   "outputs": [
    {
     "name": "stdout",
     "output_type": "stream",
     "text": [
      "Message is Hello Peoples of Elzero Web School I Love You All\n",
      "Message is Hello\n"
     ]
    }
   ],
   "source": [
    "# Truncate String\n",
    "\n",
    "myLongString = \"Hello Peoples of Elzero Web School I Love You All\"\n",
    "print(\"Message is %s\" % myLongString)\n",
    "print(\"Message is %.5s\" % myLongString)"
   ]
  },
  {
   "cell_type": "markdown",
   "metadata": {},
   "source": [
    "**String formatting using str.format()**"
   ]
  },
  {
   "cell_type": "code",
   "execution_count": 41,
   "metadata": {},
   "outputs": [
    {
     "name": "stdout",
     "output_type": "stream",
     "text": [
      "My Name is: Osama\n",
      "My Name is: Osama\n",
      "My Name is: Osama My Age: 36\n",
      "My Name is: Osama Age: 36 & Rank is: 10.000000\n"
     ]
    }
   ],
   "source": [
    "name = \"Osama\"\n",
    "age = 36\n",
    "rank = 10\n",
    "\n",
    "print(\"My Name is: {}\".format(\"Osama\"))\n",
    "print(\"My Name is: {}\".format(name))\n",
    "print(\"My Name is: {} My Age: {}\".format(name, age))\n",
    "print(\"My Name is: {:s} Age: {:d} & Rank is: {:f}\".format(name, age, rank))"
   ]
  },
  {
   "cell_type": "markdown",
   "metadata": {},
   "source": [
    "* **{:s}** => String\n",
    "* **{:d}** => Number\n",
    "* **{:f}** => Float"
   ]
  },
  {
   "cell_type": "code",
   "execution_count": 42,
   "metadata": {},
   "outputs": [
    {
     "name": "stdout",
     "output_type": "stream",
     "text": [
      "My Name is Osama Iam Python Developer With 10 Years Exp\n"
     ]
    }
   ],
   "source": [
    "name = \"Osama\"\n",
    "major = \"Python\"\n",
    "experience = 10\n",
    "\n",
    "print(\"My Name is {} Iam {} Developer With {:d} Years Exp\".format(name, major, experience))"
   ]
  },
  {
   "cell_type": "code",
   "execution_count": 43,
   "metadata": {},
   "outputs": [
    {
     "name": "stdout",
     "output_type": "stream",
     "text": [
      "My Number is: 10\n",
      "My Number is: 10.000000\n",
      "My Number is: 10.00\n"
     ]
    }
   ],
   "source": [
    "# Control Floating Point Number\n",
    "\n",
    "myNumber = 10\n",
    "print(\"My Number is: {:d}\".format(myNumber))\n",
    "print(\"My Number is: {:f}\".format(myNumber))\n",
    "print(\"My Number is: {:.2f}\".format(myNumber))"
   ]
  },
  {
   "cell_type": "code",
   "execution_count": 44,
   "metadata": {},
   "outputs": [
    {
     "name": "stdout",
     "output_type": "stream",
     "text": [
      "Message is Hello Peoples of Elzero Web School I Love You All\n",
      "Message is Hello\n",
      "Message is Hello Peoples\n"
     ]
    }
   ],
   "source": [
    "# Truncate String\n",
    "\n",
    "myLongString = \"Hello Peoples of Elzero Web School I Love You All\"\n",
    "print(\"Message is {}\".format(myLongString))\n",
    "print(\"Message is {:.5s}\".format(myLongString))\n",
    "print(\"Message is {:.13s}\".format(myLongString))"
   ]
  },
  {
   "cell_type": "code",
   "execution_count": 45,
   "metadata": {},
   "outputs": [
    {
     "name": "stdout",
     "output_type": "stream",
     "text": [
      "My Money in Bank Is: 500162350198\n",
      "My Money in Bank Is: 500_162_350_198\n",
      "My Money in Bank Is: 500,162,350,198\n"
     ]
    }
   ],
   "source": [
    "# Format Money\n",
    "\n",
    "myMoney = 500162350198\n",
    "\n",
    "print(\"My Money in Bank Is: {:d}\".format(myMoney))\n",
    "print(\"My Money in Bank Is: {:_d}\".format(myMoney))\n",
    "print(\"My Money in Bank Is: {:,d}\".format(myMoney))"
   ]
  },
  {
   "cell_type": "code",
   "execution_count": 46,
   "metadata": {},
   "outputs": [
    {
     "name": "stdout",
     "output_type": "stream",
     "text": [
      "Hello One Two Three\n",
      "Hello Two Three One\n",
      "Hello Three One Two\n"
     ]
    }
   ],
   "source": [
    "# ReArrange Items\n",
    "\n",
    "a, b, c = \"One\", \"Two\", \"Three\"\n",
    "print(\"Hello {} {} {}\".format(a, b, c))  # Hello One Two Three\n",
    "print(\"Hello {1} {2} {0}\".format(a, b, c))  # Hello Two Three One\n",
    "print(\"Hello {2} {0} {1}\".format(a, b, c))  # Hello Three One Two"
   ]
  },
  {
   "cell_type": "code",
   "execution_count": 47,
   "metadata": {},
   "outputs": [
    {
     "name": "stdout",
     "output_type": "stream",
     "text": [
      "Hello 10 20 30\n",
      "Hello 20 30 10\n",
      "Hello 30.000000 10.000000 20.000000\n",
      "Hello 30.00 10.0000 20.00000\n"
     ]
    }
   ],
   "source": [
    "x, y, z = 10, 20, 30\n",
    "print(\"Hello {} {} {}\".format(x, y, z))\n",
    "print(\"Hello {1:d} {2:d} {0:d}\".format(x, y, z))\n",
    "print(\"Hello {2:f} {0:f} {1:f}\".format(x, y, z))\n",
    "print(\"Hello {2:.2f} {0:.4f} {1:.5f}\".format(x, y, z))"
   ]
  },
  {
   "cell_type": "code",
   "execution_count": 48,
   "metadata": {},
   "outputs": [
    {
     "name": "stdout",
     "output_type": "stream",
     "text": [
      "My Name is : {myName} and My Age is : {myAge}\n",
      "My Name is : Osama and My Age is : 36\n"
     ]
    }
   ],
   "source": [
    "# Format in Version 3.6+\n",
    "\n",
    "myName = \"Osama\"\n",
    "myAge = 36\n",
    "\n",
    "print(\"My Name is : {myName} and My Age is : {myAge}\")\n",
    "print(f\"My Name is : {myName} and My Age is : {myAge}\")"
   ]
  },
  {
   "cell_type": "markdown",
   "metadata": {},
   "source": [
    "[String Formatting Resource](https://pyformat.info/#number)"
   ]
  },
  {
   "cell_type": "markdown",
   "metadata": {},
   "source": [
    "### 2.2. Numbers"
   ]
  },
  {
   "cell_type": "markdown",
   "metadata": {},
   "source": [
    "**Integer**"
   ]
  },
  {
   "cell_type": "code",
   "execution_count": 49,
   "metadata": {},
   "outputs": [
    {
     "name": "stdout",
     "output_type": "stream",
     "text": [
      "<class 'int'>\n",
      "<class 'int'>\n",
      "<class 'int'>\n",
      "<class 'int'>\n",
      "<class 'int'>\n"
     ]
    }
   ],
   "source": [
    "print(type(1))\n",
    "print(type(100))\n",
    "print(type(10))\n",
    "print(type(-10))\n",
    "print(type(-110))"
   ]
  },
  {
   "cell_type": "markdown",
   "metadata": {},
   "source": [
    "**Float**"
   ]
  },
  {
   "cell_type": "code",
   "execution_count": 50,
   "metadata": {},
   "outputs": [
    {
     "name": "stdout",
     "output_type": "stream",
     "text": [
      "<class 'float'>\n",
      "<class 'float'>\n",
      "<class 'float'>\n",
      "<class 'float'>\n",
      "<class 'float'>\n"
     ]
    }
   ],
   "source": [
    "print(type(1.500))\n",
    "print(type(100.99))\n",
    "print(type(-10.99))\n",
    "print(type(0.99))\n",
    "print(type(-0.99))"
   ]
  },
  {
   "cell_type": "markdown",
   "metadata": {},
   "source": [
    "**Complex**"
   ]
  },
  {
   "cell_type": "code",
   "execution_count": 51,
   "metadata": {},
   "outputs": [
    {
     "name": "stdout",
     "output_type": "stream",
     "text": [
      "<class 'complex'>\n",
      "Real Part Is: 5.0\n",
      "Imaginary Part Is: 6.0\n"
     ]
    }
   ],
   "source": [
    "myComplexNumber = 5+6j\n",
    "\n",
    "print(type(myComplexNumber))\n",
    "\n",
    "print(\"Real Part Is: {}\".format(myComplexNumber.real))\n",
    "print(\"Imaginary Part Is: {}\".format(myComplexNumber.imag))"
   ]
  },
  {
   "cell_type": "markdown",
   "metadata": {},
   "source": [
    "* **[1]** You Can Convert From Int To Float or Complex\n",
    "* **[2]** You Can Convert From Float To Int or Complex\n",
    "* **[3]** You Cannot Convert Complex To Any Type"
   ]
  },
  {
   "cell_type": "code",
   "execution_count": 52,
   "metadata": {},
   "outputs": [
    {
     "name": "stdout",
     "output_type": "stream",
     "text": [
      "100\n",
      "100.0\n",
      "(100+0j)\n",
      "10.5\n",
      "10\n",
      "(10.5+0j)\n"
     ]
    }
   ],
   "source": [
    "print(100)\n",
    "print(float(100))\n",
    "print(complex(100))\n",
    "\n",
    "print(10.50)\n",
    "print(int(10.50))\n",
    "print(complex(10.50))"
   ]
  },
  {
   "cell_type": "markdown",
   "metadata": {},
   "source": [
    "#### Arithmetic Operators"
   ]
  },
  {
   "cell_type": "markdown",
   "metadata": {},
   "source": [
    "* **[+]** Addition\n",
    "* **[-]**  Subtraction\n",
    "* **[*]**  Multiplication\n",
    "* **[/]**  Division\n",
    "* **[%]**  Modulus\n",
    "* **[****]  Exponent\n",
    "* **[//]**  Floor Division"
   ]
  },
  {
   "cell_type": "markdown",
   "metadata": {},
   "source": [
    "**Addition**"
   ]
  },
  {
   "cell_type": "code",
   "execution_count": 53,
   "metadata": {},
   "outputs": [
    {
     "name": "stdout",
     "output_type": "stream",
     "text": [
      "40\n",
      "10\n",
      "3.66\n",
      "2.4\n"
     ]
    }
   ],
   "source": [
    "print(10 + 30)  # 40\n",
    "print(-10 + 20)  # 10\n",
    "print(1 + 2.66)  # 3.66\n",
    "print(1.2 + 1.2)  # 2.4"
   ]
  },
  {
   "cell_type": "markdown",
   "metadata": {},
   "source": [
    "**Subtraction**"
   ]
  },
  {
   "cell_type": "code",
   "execution_count": 54,
   "metadata": {},
   "outputs": [
    {
     "name": "stdout",
     "output_type": "stream",
     "text": [
      "30\n",
      "-50\n",
      "-10\n",
      "2.22\n"
     ]
    }
   ],
   "source": [
    "print(60 - 30)  # 30\n",
    "print(-30 - 20)  # -50\n",
    "print(-30 - -20)  # -10\n",
    "print(5.66 - 3.44)  # 2.22"
   ]
  },
  {
   "cell_type": "markdown",
   "metadata": {},
   "source": [
    "**Multiplication**"
   ]
  },
  {
   "cell_type": "code",
   "execution_count": 55,
   "metadata": {},
   "outputs": [
    {
     "name": "stdout",
     "output_type": "stream",
     "text": [
      "30\n",
      "1005\n",
      "1500\n"
     ]
    }
   ],
   "source": [
    "print(10 * 3)  # 30\n",
    "print(5 + 10 * 100)  # 1005\n",
    "print((5 + 10) * 100)  # 1500"
   ]
  },
  {
   "cell_type": "markdown",
   "metadata": {},
   "source": [
    "**Division**"
   ]
  },
  {
   "cell_type": "code",
   "execution_count": 56,
   "metadata": {},
   "outputs": [
    {
     "name": "stdout",
     "output_type": "stream",
     "text": [
      "5.0\n",
      "5\n"
     ]
    }
   ],
   "source": [
    "print(100 / 20)  # 5.0\n",
    "print(int(100 / 20))  # 5"
   ]
  },
  {
   "cell_type": "markdown",
   "metadata": {},
   "source": [
    "**Modulus**"
   ]
  },
  {
   "cell_type": "code",
   "execution_count": 57,
   "metadata": {},
   "outputs": [
    {
     "name": "stdout",
     "output_type": "stream",
     "text": [
      "0\n",
      "1\n",
      "0\n",
      "2\n"
     ]
    }
   ],
   "source": [
    "print(8 % 2)  # 0\n",
    "print(9 % 2)  # 1\n",
    "print(20 % 5)  # 0\n",
    "print(22 % 5)  # 2"
   ]
  },
  {
   "cell_type": "markdown",
   "metadata": {},
   "source": [
    "**Exponent**"
   ]
  },
  {
   "cell_type": "code",
   "execution_count": 58,
   "metadata": {},
   "outputs": [
    {
     "name": "stdout",
     "output_type": "stream",
     "text": [
      "32\n",
      "32\n",
      "625\n",
      "625\n"
     ]
    }
   ],
   "source": [
    "print(2 ** 5)  # 32\n",
    "print(2 * 2 * 2 * 2 * 2)  # 32\n",
    "print(5 ** 4)  # 625\n",
    "print(5 * 5 * 5 * 5)  # 625"
   ]
  },
  {
   "cell_type": "markdown",
   "metadata": {},
   "source": [
    "**Floor Division**"
   ]
  },
  {
   "cell_type": "code",
   "execution_count": 59,
   "metadata": {},
   "outputs": [
    {
     "name": "stdout",
     "output_type": "stream",
     "text": [
      "5\n",
      "5\n",
      "6\n",
      "7\n",
      "7\n"
     ]
    }
   ],
   "source": [
    "print(100 // 20)  # 5\n",
    "print(119 // 20)  # 5\n",
    "print(120 // 20)  # 6\n",
    "print(140 // 20)  # 7\n",
    "print(142 // 20)  # 7"
   ]
  },
  {
   "cell_type": "markdown",
   "metadata": {},
   "source": [
    "### 2.3. Lists "
   ]
  },
  {
   "cell_type": "markdown",
   "metadata": {},
   "source": [
    "* **[1]** List Items Are Enclosed in Square Brackets\n",
    "* **[2]** List Are Ordered, To Use Index To Access Item\n",
    "* **[3]** List Are Mutable => Add, Delete, Edit\n",
    "* **[4]** List Items Is Not Unique\n",
    "* **[5]** List Can Have Different Data Types"
   ]
  },
  {
   "cell_type": "code",
   "execution_count": 60,
   "metadata": {},
   "outputs": [
    {
     "name": "stdout",
     "output_type": "stream",
     "text": [
      "['One', 'Two', 'One', 1, 100.5, True]\n",
      "Two\n",
      "True\n",
      "1\n"
     ]
    }
   ],
   "source": [
    "myAwesomeList = [\"One\", \"Two\", \"One\", 1, 100.5, True]\n",
    "\n",
    "print(myAwesomeList)  # Whole List\n",
    "print(myAwesomeList[1])  # \"Two\"\n",
    "print(myAwesomeList[-1])  # True\n",
    "print(myAwesomeList[-3])  # 1"
   ]
  },
  {
   "cell_type": "code",
   "execution_count": 61,
   "metadata": {},
   "outputs": [
    {
     "name": "stdout",
     "output_type": "stream",
     "text": [
      "['Two', 'One', 1]\n",
      "['One', 'Two', 'One', 1]\n",
      "['Two', 'One', 1, 100.5, True]\n"
     ]
    }
   ],
   "source": [
    "print(myAwesomeList[1:4])  # ['Two', 'One', 1]\n",
    "print(myAwesomeList[:4])  # ['One', 'Two', 'One', 1]\n",
    "print(myAwesomeList[1:])  # ['Two', 'One', 1, 100.5, True]"
   ]
  },
  {
   "cell_type": "code",
   "execution_count": 62,
   "metadata": {},
   "outputs": [
    {
     "name": "stdout",
     "output_type": "stream",
     "text": [
      "['One', 'Two', 'One', 1, 100.5, True]\n",
      "['One', 'One', 100.5]\n",
      "['One', 'Two', 'One', 1, 100.5, True]\n",
      "['A', 1, 100.5, False]\n"
     ]
    }
   ],
   "source": [
    "print(myAwesomeList[::1])  # ['One', 'Two', 'One', 1, 100.5, True]\n",
    "print(myAwesomeList[::2])  # ['One', 'One', 100.5]\n",
    "\n",
    "print(myAwesomeList)\n",
    "myAwesomeList[1] = 2\n",
    "myAwesomeList[-1] = False\n",
    "myAwesomeList[0:3] = [\"A\"]\n",
    "print(myAwesomeList)"
   ]
  },
  {
   "cell_type": "markdown",
   "metadata": {},
   "source": [
    "**Lists Methods**"
   ]
  },
  {
   "cell_type": "markdown",
   "metadata": {},
   "source": [
    "* **append()** : method in Python is used to add an element to the end of a list. It is a commonly used list method and is part of Python's built-in data structures."
   ]
  },
  {
   "cell_type": "markdown",
   "metadata": {},
   "source": [
    "**list_name.append(item)**\n",
    "\n",
    "* **list_name:** The name of the list to which you want to add an element.\n",
    "* **item:** The item or value you want to append to the end of the list."
   ]
  },
  {
   "cell_type": "code",
   "execution_count": 63,
   "metadata": {},
   "outputs": [
    {
     "name": "stdout",
     "output_type": "stream",
     "text": [
      "[1, 2, 3, 4]\n"
     ]
    }
   ],
   "source": [
    "my_list = [1, 2, 3]\n",
    "my_list.append(4)\n",
    "print(my_list)"
   ]
  },
  {
   "cell_type": "code",
   "execution_count": 64,
   "metadata": {},
   "outputs": [
    {
     "name": "stdout",
     "output_type": "stream",
     "text": [
      "['Osama', 'Ahmed', 'Sayed', 'Alaa', 100, 150.2, True, ['Haytham', 'Samah', 'Ali']]\n",
      "Sayed\n",
      "True\n",
      "['Haytham', 'Samah', 'Ali']\n",
      "Ali\n"
     ]
    }
   ],
   "source": [
    "myFriends = [\"Osama\", \"Ahmed\", \"Sayed\"]\n",
    "myOldFriends = [\"Haytham\", \"Samah\", \"Ali\"]\n",
    "\n",
    "myFriends.append(\"Alaa\")\n",
    "myFriends.append(100)\n",
    "myFriends.append(150.200)\n",
    "myFriends.append(True)\n",
    "myFriends.append(myOldFriends)\n",
    "\n",
    "print(myFriends)\n",
    "print(myFriends[2])\n",
    "print(myFriends[6])\n",
    "print(myFriends[7])\n",
    "print(myFriends[7][2])"
   ]
  },
  {
   "cell_type": "markdown",
   "metadata": {},
   "source": [
    "* **extend()** : method in Python is used to append elements from an iterable (e.g., a list, tuple, string, or another iterable) to the end of an existing list. This method is different from the append() method, which adds a single element to the end of a list. extend() allows you to combine multiple elements from another iterable into your list."
   ]
  },
  {
   "cell_type": "markdown",
   "metadata": {},
   "source": [
    "**list_name.extend(iterable)**\n",
    "\n",
    "* **list_name:** The name of the list you want to extend.\n",
    "* **iterable:** An iterable (e.g., a list, tuple, string, or another iterable) containing the elements you want to add to the end of the list."
   ]
  },
  {
   "cell_type": "code",
   "execution_count": 65,
   "metadata": {},
   "outputs": [
    {
     "name": "stdout",
     "output_type": "stream",
     "text": [
      "[1, 2, 3, 4, 5, 6]\n"
     ]
    }
   ],
   "source": [
    "my_list = [1, 2, 3]\n",
    "additional_items = [4, 5, 6]\n",
    "my_list.extend(additional_items)\n",
    "print(my_list)"
   ]
  },
  {
   "cell_type": "markdown",
   "metadata": {},
   "source": [
    "* **remove()** : method is used to remove the first occurrence of a specified value from a list. It modifies the list in place."
   ]
  },
  {
   "cell_type": "markdown",
   "metadata": {},
   "source": [
    "**list_name.remove(value)**\n",
    "\n",
    "* **list_name:** The name of the list from which you want to remove an element.\n",
    "* **value:** The value you want to remove from the list."
   ]
  },
  {
   "cell_type": "code",
   "execution_count": 66,
   "metadata": {},
   "outputs": [
    {
     "name": "stdout",
     "output_type": "stream",
     "text": [
      "[1, 3, 2, 4]\n"
     ]
    }
   ],
   "source": [
    "my_list = [1, 2, 3, 2, 4]\n",
    "my_list.remove(2)\n",
    "print(my_list)"
   ]
  },
  {
   "cell_type": "code",
   "execution_count": 67,
   "metadata": {},
   "outputs": [
    {
     "name": "stdout",
     "output_type": "stream",
     "text": [
      "[1, 3, 2, 4]\n"
     ]
    }
   ],
   "source": [
    "my_list = [1, 2, 3, 2, 4]\n",
    "\n",
    "# Check if the value is in the list before removing\n",
    "value_to_remove = 2\n",
    "if value_to_remove in my_list:\n",
    "    my_list.remove(value_to_remove)\n",
    "else:\n",
    "    print(f\"{value_to_remove} not found in the list\")\n",
    "\n",
    "print(my_list)  # Output: [1, 3, 2, 4]\n"
   ]
  },
  {
   "cell_type": "markdown",
   "metadata": {},
   "source": [
    "* **sort()** : method is used to sort the elements of a list in ascending order. It modifies the original list in place, rather than creating a new sorted list. "
   ]
  },
  {
   "cell_type": "markdown",
   "metadata": {},
   "source": [
    "**list_name.sort()**\n",
    "* **list_name:** The name of the list that you want to sort.\n"
   ]
  },
  {
   "cell_type": "code",
   "execution_count": 68,
   "metadata": {},
   "outputs": [
    {
     "data": {
      "text/plain": [
       "[1, 1, 2, 3, 3, 4, 5, 5, 5, 6, 9]"
      ]
     },
     "execution_count": 68,
     "metadata": {},
     "output_type": "execute_result"
    }
   ],
   "source": [
    "my_list = [3, 1, 4, 1, 5, 9, 2, 6, 5, 3, 5]\n",
    "my_list.sort()\n",
    "my_list"
   ]
  },
  {
   "cell_type": "code",
   "execution_count": 69,
   "metadata": {},
   "outputs": [
    {
     "data": {
      "text/plain": [
       "[9, 6, 5, 5, 5, 4, 3, 3, 2, 1, 1]"
      ]
     },
     "execution_count": 69,
     "metadata": {},
     "output_type": "execute_result"
    }
   ],
   "source": [
    "my_list.sort(reverse=True)\n",
    "my_list"
   ]
  },
  {
   "cell_type": "markdown",
   "metadata": {},
   "source": [
    "* **reverse()** : method is used to reverse the order of elements in a list. It modifies the original list in place, rather than creating a new reversed list."
   ]
  },
  {
   "cell_type": "markdown",
   "metadata": {},
   "source": [
    "**list_name.reverse()**\n",
    "* **list_name:** The name of the list that you want to reverse.\n"
   ]
  },
  {
   "cell_type": "code",
   "execution_count": 70,
   "metadata": {},
   "outputs": [
    {
     "name": "stdout",
     "output_type": "stream",
     "text": [
      "[5, 4, 3, 2, 1]\n"
     ]
    }
   ],
   "source": [
    "my_list = [1, 2, 3, 4, 5]\n",
    "my_list.reverse()\n",
    "print(my_list)"
   ]
  },
  {
   "cell_type": "code",
   "execution_count": 71,
   "metadata": {},
   "outputs": [
    {
     "data": {
      "text/plain": [
       "[5, 4, 3, 2, 1]"
      ]
     },
     "execution_count": 71,
     "metadata": {},
     "output_type": "execute_result"
    }
   ],
   "source": [
    "reversed_list = my_list[::-1]\n",
    "my_list"
   ]
  },
  {
   "cell_type": "code",
   "execution_count": 72,
   "metadata": {},
   "outputs": [
    {
     "name": "stdout",
     "output_type": "stream",
     "text": [
      "['date', 'cherry', 'banana', 'apple']\n"
     ]
    }
   ],
   "source": [
    "my_list = [\"apple\", \"banana\", \"cherry\", \"date\"]\n",
    "my_list.reverse()\n",
    "print(my_list)  # Output: ['date', 'cherry', 'banana', 'apple']"
   ]
  },
  {
   "cell_type": "markdown",
   "metadata": {},
   "source": [
    "* **clear()**: method is used to remove all the elements from a list, effectively emptying the list. It modifies the original list in place. "
   ]
  },
  {
   "cell_type": "markdown",
   "metadata": {},
   "source": [
    "**list_name.clear()**\n",
    "* **list_name:** The name of the list that you want to clear.\n"
   ]
  },
  {
   "cell_type": "code",
   "execution_count": 73,
   "metadata": {},
   "outputs": [
    {
     "data": {
      "text/plain": [
       "[]"
      ]
     },
     "execution_count": 73,
     "metadata": {},
     "output_type": "execute_result"
    }
   ],
   "source": [
    "my_list = [1, 2, 3, 4, 5]\n",
    "my_list.clear()\n",
    "my_list"
   ]
  },
  {
   "cell_type": "markdown",
   "metadata": {},
   "source": [
    "* **copy()**: method is used to create a shallow copy of a list. A shallow copy is a new list that contains references to the same elements as the original list. It does not create new copies of the elements themselves."
   ]
  },
  {
   "cell_type": "markdown",
   "metadata": {},
   "source": [
    "**new_list = list_name.copy()**\n",
    "\n",
    "* **list_name:** The name of the list you want to copy.\n"
   ]
  },
  {
   "cell_type": "code",
   "execution_count": 74,
   "metadata": {},
   "outputs": [
    {
     "data": {
      "text/plain": [
       "[1, 2, 3, 4, 5]"
      ]
     },
     "execution_count": 74,
     "metadata": {},
     "output_type": "execute_result"
    }
   ],
   "source": [
    "original_list = [1, 2, 3, 4, 5]\n",
    "copied_list = original_list.copy()\n",
    "copied_list"
   ]
  },
  {
   "cell_type": "code",
   "execution_count": 75,
   "metadata": {},
   "outputs": [
    {
     "name": "stdout",
     "output_type": "stream",
     "text": [
      "[1, 2, 3, 4, 5]\n",
      "[100, 2, 3, 4, 5]\n"
     ]
    }
   ],
   "source": [
    "copied_list[0] = 100\n",
    "print(original_list)  # Output: [1, 2, 3, 4, 5]\n",
    "print(copied_list)   # Output: [100, 2, 3, 4, 5]"
   ]
  },
  {
   "cell_type": "markdown",
   "metadata": {},
   "source": [
    "* **count()** : method is used to count the number of occurrences of a specific element in a list. It allows you to determine how many times a particular value appears in the list. "
   ]
  },
  {
   "cell_type": "markdown",
   "metadata": {},
   "source": [
    "**count = list_name.count(value)**\n",
    "* **list_name:** The name of the list in which you want to count occurrences.\n",
    "* **value:** The element whose occurrences you want to count.\n"
   ]
  },
  {
   "cell_type": "code",
   "execution_count": 76,
   "metadata": {},
   "outputs": [
    {
     "data": {
      "text/plain": [
       "4"
      ]
     },
     "execution_count": 76,
     "metadata": {},
     "output_type": "execute_result"
    }
   ],
   "source": [
    "my_list = [1, 2, 3, 2, 4, 2, 5, 2]\n",
    "count_of_twos = my_list.count(2)\n",
    "count_of_twos"
   ]
  },
  {
   "cell_type": "code",
   "execution_count": 77,
   "metadata": {},
   "outputs": [
    {
     "name": "stdout",
     "output_type": "stream",
     "text": [
      "2\n"
     ]
    }
   ],
   "source": [
    "fruits = [\"apple\", \"banana\", \"cherry\", \"apple\", \"date\"]\n",
    "count_of_apples = fruits.count(\"apple\")\n",
    "print(count_of_apples)  # Output: 2"
   ]
  },
  {
   "cell_type": "markdown",
   "metadata": {},
   "source": [
    "* **index()** : method is used to find the index (position) of the first occurrence of a specific element in a list. It allows you to determine where a particular value is located within the list."
   ]
  },
  {
   "cell_type": "markdown",
   "metadata": {},
   "source": [
    "**index = list_name.index(value)**\n",
    "* **list_name:** The name of the list in which you want to find the index.\n",
    "* **value:** The element whose index you want to locate."
   ]
  },
  {
   "cell_type": "code",
   "execution_count": 78,
   "metadata": {},
   "outputs": [
    {
     "data": {
      "text/plain": [
       "1"
      ]
     },
     "execution_count": 78,
     "metadata": {},
     "output_type": "execute_result"
    }
   ],
   "source": [
    "my_list = [1, 2, 3, 2, 4, 2, 5]\n",
    "index_of_2 = my_list.index(2)\n",
    "index_of_2"
   ]
  },
  {
   "cell_type": "markdown",
   "metadata": {},
   "source": [
    "**index = list_name.index(value, start, end)**\n",
    "* **start (optional):** The index to start the search from (inclusive).\n",
    "* **end (optional):** The index to end the search at (exclusive)."
   ]
  },
  {
   "cell_type": "code",
   "execution_count": 79,
   "metadata": {},
   "outputs": [
    {
     "data": {
      "text/plain": [
       "3"
      ]
     },
     "execution_count": 79,
     "metadata": {},
     "output_type": "execute_result"
    }
   ],
   "source": [
    "my_list = [1, 2, 3, 2, 4, 2, 5]\n",
    "index_of_2 = my_list.index(2, 2, 6)\n",
    "index_of_2"
   ]
  },
  {
   "cell_type": "markdown",
   "metadata": {},
   "source": [
    "* **insert()** : method is used to insert an element at a specified position (index) in a list. It allows you to add an element at a specific location within the list."
   ]
  },
  {
   "cell_type": "markdown",
   "metadata": {},
   "source": [
    "**list_name.insert(index, element)**\n",
    "* **list_name:** The name of the list in which you want to insert an element.\n",
    "* **index:** The index (position) at which you want to insert the element.\n",
    "* **element:** The element you want to insert into the list."
   ]
  },
  {
   "cell_type": "code",
   "execution_count": 80,
   "metadata": {},
   "outputs": [
    {
     "data": {
      "text/plain": [
       "[1, 2, 99, 3, 4, 5]"
      ]
     },
     "execution_count": 80,
     "metadata": {},
     "output_type": "execute_result"
    }
   ],
   "source": [
    "my_list = [1, 2, 3, 4, 5]\n",
    "my_list.insert(2, 99)\n",
    "my_list"
   ]
  },
  {
   "cell_type": "code",
   "execution_count": 81,
   "metadata": {},
   "outputs": [
    {
     "data": {
      "text/plain": [
       "['apple', 'orange', 'banana', 'cherry']"
      ]
     },
     "execution_count": 81,
     "metadata": {},
     "output_type": "execute_result"
    }
   ],
   "source": [
    "fruits = [\"apple\", \"banana\", \"cherry\"]\n",
    "fruits.insert(1, \"orange\")\n",
    "fruits"
   ]
  },
  {
   "cell_type": "markdown",
   "metadata": {},
   "source": [
    "* **pop()** : method is used to remove and return the element at a specified index from a list. The pop() method takes an optional index as an argument, and it removes the element at that index, returning the removed value. If no index is specified, it removes and returns the last element in the list."
   ]
  },
  {
   "cell_type": "markdown",
   "metadata": {},
   "source": [
    "**value = list_name.pop(index)**\n",
    "* **list_name:** The name of the list from which you want to remove and return an element.\n",
    "* **index (optional):** The index of the element you want to remove. If not provided, the last element is removed.\n"
   ]
  },
  {
   "cell_type": "code",
   "execution_count": 82,
   "metadata": {},
   "outputs": [
    {
     "data": {
      "text/plain": [
       "5"
      ]
     },
     "execution_count": 82,
     "metadata": {},
     "output_type": "execute_result"
    }
   ],
   "source": [
    "my_list = [1, 2, 3, 4, 5]\n",
    "value = my_list.pop()\n",
    "value"
   ]
  },
  {
   "cell_type": "code",
   "execution_count": 83,
   "metadata": {},
   "outputs": [
    {
     "data": {
      "text/plain": [
       "3"
      ]
     },
     "execution_count": 83,
     "metadata": {},
     "output_type": "execute_result"
    }
   ],
   "source": [
    "my_list = [1, 2, 3, 4, 5]\n",
    "value = my_list.pop(2)\n",
    "value"
   ]
  },
  {
   "cell_type": "markdown",
   "metadata": {},
   "source": [
    "### 2.4. Tuple "
   ]
  },
  {
   "cell_type": "markdown",
   "metadata": {},
   "source": [
    "* **[1]** Tuple Items Are Enclosed in Parentheses\n",
    "* **[2]** You Can Remove The Parentheses If You Want\n",
    "* **[3]** Tuple Are Ordered, To Use Index To Access Item\n",
    "* **[4]** Tuple Are Immutable => You Cant Add or Delete\n",
    "* **[5]** Tuple Items Is Not Unique\n",
    "* **[6]** Tuple Can Have Different Data Types\n",
    "* **[7]** Operators Used in Strings and Lists Available In Tuples"
   ]
  },
  {
   "cell_type": "code",
   "execution_count": 84,
   "metadata": {},
   "outputs": [
    {
     "name": "stdout",
     "output_type": "stream",
     "text": [
      "('Osama', 'Ahmed')\n",
      "('Osama', 'Ahmed')\n",
      "<class 'tuple'>\n",
      "<class 'tuple'>\n"
     ]
    }
   ],
   "source": [
    "# Tuple Syntax & Type Test\n",
    "\n",
    "myAwesomeTupleOne = (\"Osama\", \"Ahmed\")\n",
    "myAwesomeTupleTwo = \"Osama\", \"Ahmed\"\n",
    "\n",
    "print(myAwesomeTupleOne)\n",
    "print(myAwesomeTupleTwo)\n",
    "\n",
    "print(type(myAwesomeTupleOne))\n",
    "print(type(myAwesomeTupleTwo))"
   ]
  },
  {
   "cell_type": "code",
   "execution_count": 85,
   "metadata": {},
   "outputs": [
    {
     "name": "stdout",
     "output_type": "stream",
     "text": [
      "1\n",
      "5\n",
      "3\n"
     ]
    }
   ],
   "source": [
    "# Tuple Indexing\n",
    "\n",
    "myAwesomeTupleThree = (1, 2, 3, 4, 5)\n",
    "print(myAwesomeTupleThree[0])\n",
    "print(myAwesomeTupleThree[-1])\n",
    "print(myAwesomeTupleThree[-3])"
   ]
  },
  {
   "cell_type": "code",
   "execution_count": 86,
   "metadata": {},
   "outputs": [],
   "source": [
    "# Tuple Assign Values\n",
    "\n",
    "myAwesomeTupleFour = (1, 2, 3, 4, 5)\n",
    "# myAwesomeTupleFour[2] = \"Three\"\n",
    "# print(myAwesomeTupleFour)  # 'tuple' object does not support item assignment"
   ]
  },
  {
   "cell_type": "code",
   "execution_count": 87,
   "metadata": {},
   "outputs": [
    {
     "name": "stdout",
     "output_type": "stream",
     "text": [
      "Osama\n",
      "True\n"
     ]
    }
   ],
   "source": [
    "# Tuple Data\n",
    "\n",
    "myAwesomeTupleFive = (\"Osama\", \"Osama\", 1, 2, 3, 100.5, True)\n",
    "print(myAwesomeTupleFive[1])\n",
    "print(myAwesomeTupleFive[-1])"
   ]
  },
  {
   "cell_type": "code",
   "execution_count": 88,
   "metadata": {},
   "outputs": [
    {
     "name": "stdout",
     "output_type": "stream",
     "text": [
      "('Osama',)\n",
      "('Osama',)\n",
      "<class 'tuple'>\n",
      "<class 'tuple'>\n",
      "1\n",
      "1\n"
     ]
    }
   ],
   "source": [
    "# Tuple With One Element\n",
    "\n",
    "myTuple1 = (\"Osama\",)\n",
    "myTuple2 = \"Osama\",\n",
    "\n",
    "print(myTuple1)\n",
    "print(myTuple2)\n",
    "\n",
    "print(type(myTuple1))\n",
    "print(type(myTuple2))\n",
    "\n",
    "print(len(myTuple1))\n",
    "print(len(myTuple2))"
   ]
  },
  {
   "cell_type": "code",
   "execution_count": 89,
   "metadata": {},
   "outputs": [
    {
     "name": "stdout",
     "output_type": "stream",
     "text": [
      "(1, 2, 3, 4, 5, 6)\n",
      "(1, 2, 3, 4, 'A', 'B', True, 5, 6)\n"
     ]
    }
   ],
   "source": [
    "# Tuple Concatenation\n",
    "\n",
    "a = (1, 2, 3, 4)\n",
    "b = (5, 6)\n",
    "\n",
    "c = a + b\n",
    "d = a + (\"A\", \"B\", True) + b\n",
    "\n",
    "print(c)\n",
    "print(d)\n"
   ]
  },
  {
   "cell_type": "code",
   "execution_count": 90,
   "metadata": {},
   "outputs": [
    {
     "name": "stdout",
     "output_type": "stream",
     "text": [
      "OsamaOsamaOsamaOsamaOsamaOsama\n",
      "[1, 2, 1, 2, 1, 2, 1, 2, 1, 2, 1, 2]\n",
      "('A', 'B', 'A', 'B', 'A', 'B', 'A', 'B', 'A', 'B', 'A', 'B')\n"
     ]
    }
   ],
   "source": [
    "# Tuple, List, String Repeat (*)\n",
    "\n",
    "myString = \"Osama\"\n",
    "myList = [1, 2]\n",
    "myTuple = (\"A\", \"B\")\n",
    "\n",
    "print(myString * 6)\n",
    "print(myList * 6)\n",
    "print(myTuple * 6)"
   ]
  },
  {
   "cell_type": "code",
   "execution_count": 91,
   "metadata": {},
   "outputs": [
    {
     "name": "stdout",
     "output_type": "stream",
     "text": [
      "2\n"
     ]
    }
   ],
   "source": [
    "# Methods => count()\n",
    "\n",
    "a = (1, 3, 7, 8, 2, 6, 5, 8)\n",
    "print(a.count(8))"
   ]
  },
  {
   "cell_type": "code",
   "execution_count": 92,
   "metadata": {},
   "outputs": [
    {
     "name": "stdout",
     "output_type": "stream",
     "text": [
      "The Position of Index Is: 2\n",
      "The Position of Index Is: 2\n"
     ]
    }
   ],
   "source": [
    "# Methods => index()\n",
    "\n",
    "b = (1, 3, 7, 8, 2, 6, 5)\n",
    "# print(\"The Position of Index Is: \" + b.index(7))  # Error\n",
    "print(\"The Position of Index Is: {:d}\".format(b.index(7)))\n",
    "print(f\"The Position of Index Is: {b.index(7)}\")"
   ]
  },
  {
   "cell_type": "code",
   "execution_count": 93,
   "metadata": {},
   "outputs": [
    {
     "name": "stdout",
     "output_type": "stream",
     "text": [
      "A\n",
      "B\n",
      "C\n"
     ]
    }
   ],
   "source": [
    "# Tuple Destruct\n",
    "\n",
    "a = (\"A\", \"B\", 4, \"C\")\n",
    "\n",
    "x, y, _, z = a\n",
    "\n",
    "print(x)\n",
    "print(y)\n",
    "print(z)"
   ]
  },
  {
   "cell_type": "markdown",
   "metadata": {},
   "source": [
    "### 2.5. Set "
   ]
  },
  {
   "cell_type": "markdown",
   "metadata": {},
   "source": [
    "* **[1]** Set Items Are Enclosed in Curly Braces\n",
    "* **[2]** Set Items Are Not Ordered And Not Indexed\n",
    "* **[3]** Set Indexing and Slicing Cant Be Done\n",
    "* **[4]** Set Has Only Immutable Data Types (Numbers, Strings, Tuples) List and Dict Are Not\n",
    "* **[5]** Set Items Is Unique"
   ]
  },
  {
   "cell_type": "code",
   "execution_count": 94,
   "metadata": {},
   "outputs": [
    {
     "name": "stdout",
     "output_type": "stream",
     "text": [
      "{'Ahmed', 100, 'Osama'}\n"
     ]
    }
   ],
   "source": [
    "# Not Ordered And Not Indexed\n",
    "\n",
    "mySetOne = {\"Osama\", \"Ahmed\", 100}\n",
    "print(mySetOne)\n",
    "\n",
    "# Indexing Cant Be Done\n",
    "# print(mySetOne[0])"
   ]
  },
  {
   "cell_type": "code",
   "execution_count": 95,
   "metadata": {},
   "outputs": [],
   "source": [
    "# Slicing Cant Be Done\n",
    "\n",
    "mySetTwo = {1, 2, 3, 4, 5, 6}\n",
    "# print(mySetTwo[0:3])"
   ]
  },
  {
   "cell_type": "code",
   "execution_count": 96,
   "metadata": {},
   "outputs": [
    {
     "data": {
      "text/plain": [
       "{(1, 2, 3), 100, 100.5, 'Osama', True}"
      ]
     },
     "execution_count": 96,
     "metadata": {},
     "output_type": "execute_result"
    }
   ],
   "source": [
    "# Has Only Immutable Data Types\n",
    "\n",
    "# mySetThree = {\"Osama\", 100, 100.5, True, [1, 2, 3]} # unhashable type: 'list'\n",
    "mySetThree = {\"Osama\", 100, 100.5, True, (1, 2, 3)}\n",
    "mySetThree"
   ]
  },
  {
   "cell_type": "code",
   "execution_count": 97,
   "metadata": {},
   "outputs": [
    {
     "name": "stdout",
     "output_type": "stream",
     "text": [
      "{1, 2, 'One', 'Osama'}\n"
     ]
    }
   ],
   "source": [
    "# Items Is Unique\n",
    "\n",
    "mySetFour = {1, 2, \"Osama\", \"One\", \"Osama\", 1}\n",
    "print(mySetFour)"
   ]
  },
  {
   "cell_type": "markdown",
   "metadata": {},
   "source": [
    "**Set Methods**"
   ]
  },
  {
   "cell_type": "markdown",
   "metadata": {},
   "source": [
    "* **[1]** clear() : Removes all elements from a set, making it an empty set.\n"
   ]
  },
  {
   "cell_type": "code",
   "execution_count": 98,
   "metadata": {},
   "outputs": [
    {
     "name": "stdout",
     "output_type": "stream",
     "text": [
      "set()\n"
     ]
    }
   ],
   "source": [
    "a = {1, 2, 3}\n",
    "a.clear()\n",
    "print(a)"
   ]
  },
  {
   "cell_type": "markdown",
   "metadata": {},
   "source": [
    "* **[2]** union(): Returns a new set containing all the unique elements from both the original set and another set, without duplicates."
   ]
  },
  {
   "cell_type": "code",
   "execution_count": 99,
   "metadata": {},
   "outputs": [
    {
     "name": "stdout",
     "output_type": "stream",
     "text": [
      "{'One', '1', '3', '2', 'Two', 'Three'}\n",
      "{'One', '1', '3', '2', 'Cool', 'Zero', 'Two', 'Three'}\n"
     ]
    }
   ],
   "source": [
    "b = {\"One\", \"Two\", \"Three\"}\n",
    "c = {\"1\", \"2\", \"3\"}\n",
    "x = {\"Zero\", \"Cool\"}\n",
    "\n",
    "print(b | c)\n",
    "print(b.union(c, x))"
   ]
  },
  {
   "cell_type": "markdown",
   "metadata": {},
   "source": [
    "* **[3]** add() : Used to add an element to a set. If the element is already in the set, the set remains unchanged."
   ]
  },
  {
   "cell_type": "code",
   "execution_count": 100,
   "metadata": {},
   "outputs": [
    {
     "name": "stdout",
     "output_type": "stream",
     "text": [
      "{1, 2, 3, 4, 5, 6}\n"
     ]
    }
   ],
   "source": [
    "d = {1, 2, 3, 4}\n",
    "d.add(5)\n",
    "d.add(6)\n",
    "print(d)"
   ]
  },
  {
   "cell_type": "markdown",
   "metadata": {},
   "source": [
    "* **[4]** copy(): Creates a shallow copy of the set, allowing you to work with a duplicate set that is independent of the original set."
   ]
  },
  {
   "cell_type": "code",
   "execution_count": 101,
   "metadata": {},
   "outputs": [
    {
     "name": "stdout",
     "output_type": "stream",
     "text": [
      "{1, 2, 3, 4}\n",
      "{1, 2, 3, 4}\n",
      "{1, 2, 3, 4, 6}\n",
      "{1, 2, 3, 4}\n"
     ]
    }
   ],
   "source": [
    "e = {1, 2, 3, 4}\n",
    "f = e.copy()\n",
    "\n",
    "print(e)\n",
    "print(f)\n",
    "\n",
    "e.add(6)\n",
    "\n",
    "print(e)\n",
    "print(f)"
   ]
  },
  {
   "cell_type": "markdown",
   "metadata": {},
   "source": [
    "* **[5]** remove(): Removes a specified element from the set. If the element is not found, it raises a KeyError."
   ]
  },
  {
   "cell_type": "code",
   "execution_count": 102,
   "metadata": {},
   "outputs": [
    {
     "name": "stdout",
     "output_type": "stream",
     "text": [
      "{2, 3, 4}\n"
     ]
    }
   ],
   "source": [
    "g = {1, 2, 3, 4}\n",
    "g.remove(1)\n",
    "# g.remove(7)\n",
    "print(g)"
   ]
  },
  {
   "cell_type": "markdown",
   "metadata": {},
   "source": [
    "* **[6]** discard(): Removes a specified element from the set. If the element is not found, it does nothing and does not raise an error."
   ]
  },
  {
   "cell_type": "code",
   "execution_count": 103,
   "metadata": {},
   "outputs": [
    {
     "name": "stdout",
     "output_type": "stream",
     "text": [
      "{2, 3, 4}\n"
     ]
    }
   ],
   "source": [
    "h = {1, 2, 3, 4}\n",
    "h.discard(1)\n",
    "h.discard(7)\n",
    "print(h)"
   ]
  },
  {
   "cell_type": "markdown",
   "metadata": {},
   "source": [
    "* **[7]** pop(): Removes and returns an arbitrary element from the set. If the set is empty, it raises a KeyError."
   ]
  },
  {
   "cell_type": "code",
   "execution_count": 104,
   "metadata": {},
   "outputs": [
    {
     "name": "stdout",
     "output_type": "stream",
     "text": [
      "True\n"
     ]
    }
   ],
   "source": [
    "i = {\"A\", True, 1, 2, 3, 4, 5}\n",
    "print(i.pop())"
   ]
  },
  {
   "cell_type": "markdown",
   "metadata": {},
   "source": [
    "* **[8]** update(): Adds all elements from another set (or multiple sets) to the original set."
   ]
  },
  {
   "cell_type": "code",
   "execution_count": 105,
   "metadata": {},
   "outputs": [
    {
     "name": "stdout",
     "output_type": "stream",
     "text": [
      "{1, 2, 3, 'B', 'Html', 'A', 'Css'}\n"
     ]
    }
   ],
   "source": [
    "j = {1, 2, 3}\n",
    "k = {1, \"A\", \"B\", 2}\n",
    "j.update(['Html', \"Css\"])\n",
    "j.update(k)\n",
    "\n",
    "print(j)"
   ]
  },
  {
   "cell_type": "markdown",
   "metadata": {},
   "source": [
    "* **[9]** difference(): Returns a new set containing elements from the original set that are not present in another set."
   ]
  },
  {
   "cell_type": "code",
   "execution_count": 106,
   "metadata": {},
   "outputs": [
    {
     "name": "stdout",
     "output_type": "stream",
     "text": [
      "{1, 2, 3, 4}\n",
      "{4}\n",
      "{1, 2, 3, 4}\n"
     ]
    }
   ],
   "source": [
    "a = {1, 2, 3, 4}\n",
    "b = {1, 2, 3, \"Osama\", \"Ahmed\"}\n",
    "print(a)\n",
    "print(a.difference(b))  # a - b\n",
    "print(a)\n"
   ]
  },
  {
   "cell_type": "markdown",
   "metadata": {},
   "source": [
    "* **[10]** difference_update(): Updates the set by removing the elements that are common with another set.\n"
   ]
  },
  {
   "cell_type": "code",
   "execution_count": 107,
   "metadata": {},
   "outputs": [
    {
     "name": "stdout",
     "output_type": "stream",
     "text": [
      "{1, 2, 3, 4}\n",
      "{3, 4}\n"
     ]
    }
   ],
   "source": [
    "c = {1, 2, 3, 4}\n",
    "d = {1, 2, \"Osama\", \"Ahmed\"}\n",
    "print(c)\n",
    "c.difference_update(d)  # c - d\n",
    "print(c)"
   ]
  },
  {
   "cell_type": "markdown",
   "metadata": {},
   "source": [
    "* **[11]** intersection(): Returns a new set containing the common elements between the original set and another set."
   ]
  },
  {
   "cell_type": "code",
   "execution_count": 108,
   "metadata": {},
   "outputs": [
    {
     "name": "stdout",
     "output_type": "stream",
     "text": [
      "{1, 2, 3, 4, 'X', 'Osama'}\n",
      "{2, 'Osama', 'X'}\n",
      "{1, 2, 3, 4, 'X', 'Osama'}\n"
     ]
    }
   ],
   "source": [
    "e = {1, 2, 3, 4, \"X\", \"Osama\"}\n",
    "f = {\"Osama\", \"X\", 2}\n",
    "print(e)\n",
    "print(e.intersection(f))  # e & f\n",
    "print(e)"
   ]
  },
  {
   "cell_type": "markdown",
   "metadata": {},
   "source": [
    "* **[12]** intersection_update(): Updates the set with the intersection of itself and another set.\n"
   ]
  },
  {
   "cell_type": "code",
   "execution_count": 109,
   "metadata": {},
   "outputs": [
    {
     "name": "stdout",
     "output_type": "stream",
     "text": [
      "{1, 2, 3, 4, 'X', 'Osama'}\n",
      "{2, 'Osama', 'X'}\n"
     ]
    }
   ],
   "source": [
    "g = {1, 2, 3, 4, \"X\", \"Osama\"}\n",
    "h = {\"Osama\", \"X\", 2}\n",
    "print(g)\n",
    "g.intersection_update(h)  # g & h\n",
    "print(g)"
   ]
  },
  {
   "cell_type": "markdown",
   "metadata": {},
   "source": [
    "* **[13]** symmetric_difference(): Returns a new set containing elements that are unique to either the original set or another set, but not in both."
   ]
  },
  {
   "cell_type": "code",
   "execution_count": 110,
   "metadata": {},
   "outputs": [
    {
     "name": "stdout",
     "output_type": "stream",
     "text": [
      "{1, 2, 3, 4, 5, 'X'}\n",
      "{3, 5, 'Zero', 'Osama'}\n",
      "{1, 2, 3, 4, 5, 'X'}\n"
     ]
    }
   ],
   "source": [
    "i = {1, 2, 3, 4, 5, \"X\"}\n",
    "j = {\"Osama\", \"Zero\", 1, 2, 4, \"X\"}\n",
    "print(i)\n",
    "print(i.symmetric_difference(j))  # i ^ j\n",
    "print(i)"
   ]
  },
  {
   "cell_type": "markdown",
   "metadata": {},
   "source": [
    "* **[14]** symmetric_difference_update(): Updates the set with the symmetric difference between itself and another set.\n"
   ]
  },
  {
   "cell_type": "code",
   "execution_count": 111,
   "metadata": {},
   "outputs": [
    {
     "name": "stdout",
     "output_type": "stream",
     "text": [
      "{1, 2, 3, 4, 5, 'X'}\n",
      "{3, 5, 'Zero', 'Osama'}\n"
     ]
    }
   ],
   "source": [
    "k = {1, 2, 3, 4, 5, \"X\"}\n",
    "l = {\"Osama\", \"Zero\", 1, 2, 4, \"X\"}\n",
    "print(k)\n",
    "k.symmetric_difference_update(l)  # k ^ l\n",
    "print(k)"
   ]
  },
  {
   "cell_type": "markdown",
   "metadata": {},
   "source": [
    "* **[15]** issuperset(): Returns True if the original set is a superset of another set; otherwise, it returns False.\n"
   ]
  },
  {
   "cell_type": "code",
   "execution_count": 112,
   "metadata": {},
   "outputs": [
    {
     "name": "stdout",
     "output_type": "stream",
     "text": [
      "True\n",
      "False\n"
     ]
    }
   ],
   "source": [
    "a = {1, 2, 3, 4}\n",
    "b = {1, 2, 3}\n",
    "c = {1, 2, 3, 4, 5}\n",
    "\n",
    "print(a.issuperset(b))  # True\n",
    "print(a.issuperset(c))  # False"
   ]
  },
  {
   "cell_type": "markdown",
   "metadata": {},
   "source": [
    "* **[16]** issubset(): Returns True if the original set is a subset of another set; otherwise, it returns False.\n"
   ]
  },
  {
   "cell_type": "code",
   "execution_count": 113,
   "metadata": {},
   "outputs": [
    {
     "name": "stdout",
     "output_type": "stream",
     "text": [
      "False\n",
      "True\n"
     ]
    }
   ],
   "source": [
    "d = {1, 2, 3, 4}\n",
    "e = {1, 2, 3}\n",
    "f = {1, 2, 3, 4, 5}\n",
    "\n",
    "print(d.issubset(e))  # False\n",
    "print(d.issubset(f))  # True"
   ]
  },
  {
   "cell_type": "markdown",
   "metadata": {},
   "source": [
    "* **[17]** isdisjoint(): Returns True if the original set has no elements in common with another set; otherwise, it returns False."
   ]
  },
  {
   "cell_type": "code",
   "execution_count": 114,
   "metadata": {},
   "outputs": [
    {
     "name": "stdout",
     "output_type": "stream",
     "text": [
      "False\n",
      "True\n"
     ]
    }
   ],
   "source": [
    "g = {1, 2, 3, 4}\n",
    "h = {1, 2, 3}\n",
    "i = {10, 11, 12}\n",
    "\n",
    "print(g.isdisjoint(h))  # False\n",
    "print(g.isdisjoint(i))  # True"
   ]
  },
  {
   "cell_type": "markdown",
   "metadata": {},
   "source": [
    "### 2.6. Dictionary "
   ]
  },
  {
   "cell_type": "markdown",
   "metadata": {},
   "source": [
    "* **[1]** Dict Items Are Enclosed in Curly Braces\n",
    "* **[2]** Dict Items Are Contains Key : Value\n",
    "* **[3]** Dict Key Need To Be Immutable => (Number, String, Tuple) List Not Allowed\n",
    "* **[4]** Dict Value Can Have Any Data Types\n",
    "* **[5]** Dict Key Need To Be Unique\n",
    "* **[6]** Dict Is Not Ordered You Access Its Element With Key"
   ]
  },
  {
   "cell_type": "code",
   "execution_count": 115,
   "metadata": {},
   "outputs": [
    {
     "name": "stdout",
     "output_type": "stream",
     "text": [
      "{'name': 'Osama', 'age': 36, 'country': 'Egypt', 'skills': ['Html', 'Css', 'JS'], 'rating': 10.5}\n",
      "Egypt\n",
      "Egypt\n"
     ]
    }
   ],
   "source": [
    "# Dictionary\n",
    "\n",
    "user = {\n",
    "  \"name\": \"Osama\",\n",
    "  \"age\": 36,\n",
    "  \"country\": \"Egypt\",\n",
    "  \"skills\": [\"Html\", \"Css\", \"JS\"],\n",
    "  \"rating\": 10.5\n",
    "}\n",
    "\n",
    "print(user)\n",
    "print(user['country'])\n",
    "print(user.get(\"country\"))"
   ]
  },
  {
   "cell_type": "code",
   "execution_count": 116,
   "metadata": {},
   "outputs": [
    {
     "name": "stdout",
     "output_type": "stream",
     "text": [
      "dict_keys(['name', 'age', 'country', 'skills', 'rating'])\n",
      "dict_values(['Osama', 36, 'Egypt', ['Html', 'Css', 'JS'], 10.5])\n"
     ]
    }
   ],
   "source": [
    "print(user.keys())\n",
    "print(user.values())"
   ]
  },
  {
   "cell_type": "code",
   "execution_count": 117,
   "metadata": {},
   "outputs": [
    {
     "name": "stdout",
     "output_type": "stream",
     "text": [
      "{'One': {'name': 'Html', 'progress': '80%'}, 'Two': {'name': 'Css', 'progress': '90%'}, 'Three': {'name': 'Js', 'progress': '90%'}}\n",
      "{'name': 'Html', 'progress': '80%'}\n",
      "Js\n"
     ]
    }
   ],
   "source": [
    "# Two-Dimensional Dictionary\n",
    "\n",
    "languages = {\n",
    "  \"One\": {\n",
    "    \"name\": \"Html\",\n",
    "    \"progress\": \"80%\"\n",
    "  },\n",
    "  \"Two\": {\n",
    "    \"name\": \"Css\",\n",
    "    \"progress\": \"90%\"\n",
    "  },\n",
    "  \"Three\": {\n",
    "    \"name\": \"Js\",\n",
    "    \"progress\": \"90%\"\n",
    "  }\n",
    "}\n",
    "\n",
    "print(languages)\n",
    "print(languages['One'])\n",
    "print(languages['Three']['name'])"
   ]
  },
  {
   "cell_type": "code",
   "execution_count": 118,
   "metadata": {},
   "outputs": [
    {
     "name": "stdout",
     "output_type": "stream",
     "text": [
      "3\n",
      "2\n"
     ]
    }
   ],
   "source": [
    "# Dictionary Length\n",
    "\n",
    "print(len(languages))\n",
    "print(len(languages[\"Two\"]))"
   ]
  },
  {
   "cell_type": "code",
   "execution_count": 119,
   "metadata": {},
   "outputs": [
    {
     "name": "stdout",
     "output_type": "stream",
     "text": [
      "{'one': {'name': 'Vuejs', 'progress': '80%'}, 'two': {'name': 'ReactJs', 'progress': '80%'}, 'three': {'name': 'Angular', 'progress': '80%'}}\n"
     ]
    }
   ],
   "source": [
    "# Create Dictionary From Variables\n",
    "\n",
    "frameworkOne = {\n",
    "  \"name\": \"Vuejs\",\n",
    "  \"progress\": \"80%\"\n",
    "}\n",
    "\n",
    "frameworkTwo = {\n",
    "  \"name\": \"ReactJs\",\n",
    "  \"progress\": \"80%\"\n",
    "}\n",
    "\n",
    "frameworkThree = {\n",
    "  \"name\": \"Angular\",\n",
    "  \"progress\": \"80%\"\n",
    "}\n",
    "\n",
    "allFramework = {\n",
    "  \"one\": frameworkOne,\n",
    "  \"two\": frameworkTwo,\n",
    "  \"three\": frameworkThree\n",
    "}\n",
    "\n",
    "print(allFramework)"
   ]
  },
  {
   "cell_type": "markdown",
   "metadata": {},
   "source": [
    "**Dictionary Methods**"
   ]
  },
  {
   "cell_type": "markdown",
   "metadata": {},
   "source": [
    "* **[1]** clear()"
   ]
  },
  {
   "cell_type": "code",
   "execution_count": 120,
   "metadata": {},
   "outputs": [
    {
     "name": "stdout",
     "output_type": "stream",
     "text": [
      "{'name': 'Osama'}\n",
      "{}\n"
     ]
    }
   ],
   "source": [
    "user = {\n",
    "  \"name\": \"Osama\"\n",
    "}\n",
    "print(user)\n",
    "user.clear()\n",
    "print(user)\n"
   ]
  },
  {
   "cell_type": "markdown",
   "metadata": {},
   "source": [
    "* **[2]** update()"
   ]
  },
  {
   "cell_type": "code",
   "execution_count": 121,
   "metadata": {},
   "outputs": [
    {
     "name": "stdout",
     "output_type": "stream",
     "text": [
      "{'name': 'Osama'}\n",
      "{'name': 'Osama', 'age': 36}\n",
      "{'name': 'Osama', 'age': 36, 'country': 'Egypt'}\n"
     ]
    }
   ],
   "source": [
    "member = {\n",
    "  \"name\": \"Osama\"\n",
    "}\n",
    "print(member)\n",
    "member[\"age\"] = 36\n",
    "print(member)\n",
    "member.update({\"country\": \"Egypt\"})\n",
    "print(member)"
   ]
  },
  {
   "cell_type": "markdown",
   "metadata": {},
   "source": [
    "* **[3]** copy()"
   ]
  },
  {
   "cell_type": "code",
   "execution_count": 122,
   "metadata": {},
   "outputs": [
    {
     "name": "stdout",
     "output_type": "stream",
     "text": [
      "{'name': 'Osama'}\n",
      "{'name': 'Osama', 'skills': 'Fighting'}\n",
      "{'name': 'Osama'}\n"
     ]
    }
   ],
   "source": [
    "main = {\n",
    "  \"name\": \"Osama\"\n",
    "}\n",
    "\n",
    "b = main.copy()\n",
    "print(b)\n",
    "main.update({\"skills\": \"Fighting\"})\n",
    "print(main)\n",
    "print(b)"
   ]
  },
  {
   "cell_type": "markdown",
   "metadata": {},
   "source": [
    "* **[4]** keys() + values()"
   ]
  },
  {
   "cell_type": "code",
   "execution_count": 123,
   "metadata": {},
   "outputs": [
    {
     "name": "stdout",
     "output_type": "stream",
     "text": [
      "dict_keys(['name', 'skills'])\n",
      "dict_values(['Osama', 'Fighting'])\n"
     ]
    }
   ],
   "source": [
    "print(main.keys())\n",
    "print(main.values())"
   ]
  },
  {
   "cell_type": "markdown",
   "metadata": {},
   "source": [
    "* **[5]** setdefault()"
   ]
  },
  {
   "cell_type": "code",
   "execution_count": 124,
   "metadata": {},
   "outputs": [
    {
     "name": "stdout",
     "output_type": "stream",
     "text": [
      "{'name': 'Osama'}\n",
      "36\n",
      "{'name': 'Osama', 'age': 36}\n"
     ]
    }
   ],
   "source": [
    "user = {\n",
    "  \"name\": \"Osama\"\n",
    "}\n",
    "print(user)\n",
    "print(user.setdefault(\"age\", 36))\n",
    "print(user)"
   ]
  },
  {
   "cell_type": "markdown",
   "metadata": {},
   "source": [
    "* **[6]** popitem()"
   ]
  },
  {
   "cell_type": "code",
   "execution_count": 125,
   "metadata": {},
   "outputs": [
    {
     "name": "stdout",
     "output_type": "stream",
     "text": [
      "{'name': 'Osama', 'skill': 'PS4'}\n",
      "('age', 36)\n"
     ]
    }
   ],
   "source": [
    "member = {\n",
    "  \"name\": \"Osama\",\n",
    "  \"skill\": \"PS4\"\n",
    "}\n",
    "print(member)\n",
    "member.update({\"age\": 36})\n",
    "print(member.popitem())"
   ]
  },
  {
   "cell_type": "markdown",
   "metadata": {},
   "source": [
    "* **[7]** items()"
   ]
  },
  {
   "cell_type": "code",
   "execution_count": 127,
   "metadata": {},
   "outputs": [
    {
     "name": "stdout",
     "output_type": "stream",
     "text": [
      "{'name': 'Osama', 'skill': 'XBox'}\n",
      "dict_items([('name', 'Osama'), ('skill', 'XBox'), ('age', 36)])\n"
     ]
    }
   ],
   "source": [
    "view = {\n",
    "  \"name\": \"Osama\",\n",
    "  \"skill\": \"XBox\"\n",
    "}\n",
    "\n",
    "allItems = view.items()\n",
    "print(view)\n",
    "view[\"age\"] = 36\n",
    "\n",
    "print(allItems)"
   ]
  },
  {
   "cell_type": "markdown",
   "metadata": {},
   "source": [
    "* **[8]** fromkeys()"
   ]
  },
  {
   "cell_type": "code",
   "execution_count": 128,
   "metadata": {},
   "outputs": [
    {
     "name": "stdout",
     "output_type": "stream",
     "text": [
      "{'MyKeyOne': 'X', 'MyKeyTwo': 'X', 'MyKeyThree': 'X'}\n"
     ]
    }
   ],
   "source": [
    "a = ('MyKeyOne', 'MyKeyTwo', 'MyKeyThree')\n",
    "b = \"X\"\n",
    "\n",
    "print(dict.fromkeys(a, b))"
   ]
  },
  {
   "cell_type": "markdown",
   "metadata": {},
   "source": [
    "### 2.7. Boolean "
   ]
  },
  {
   "cell_type": "markdown",
   "metadata": {},
   "source": [
    "* **[1]** In Programming You Need to Known Your If Your Code Output is True Or False\n",
    "* **[2]** Boolean Values Are The Two Constant Objects False + True."
   ]
  },
  {
   "cell_type": "code",
   "execution_count": 129,
   "metadata": {},
   "outputs": [
    {
     "name": "stdout",
     "output_type": "stream",
     "text": [
      "True\n"
     ]
    }
   ],
   "source": [
    "name = \" \"\n",
    "print(name.isspace())"
   ]
  },
  {
   "cell_type": "code",
   "execution_count": 130,
   "metadata": {},
   "outputs": [
    {
     "name": "stdout",
     "output_type": "stream",
     "text": [
      "False\n",
      "False\n",
      "True\n"
     ]
    }
   ],
   "source": [
    "print(100 > 200)\n",
    "print(100 > 100)\n",
    "print(100 > 90)"
   ]
  },
  {
   "cell_type": "code",
   "execution_count": 131,
   "metadata": {},
   "outputs": [
    {
     "name": "stdout",
     "output_type": "stream",
     "text": [
      "True\n",
      "True\n",
      "True\n",
      "True\n",
      "True\n"
     ]
    }
   ],
   "source": [
    "# True Values\n",
    "\n",
    "print(bool(\"Osama\"))\n",
    "print(bool(100))\n",
    "print(bool(100.95))\n",
    "print(bool(True))\n",
    "print(bool([1, 2, 3, 4, 5]))"
   ]
  },
  {
   "cell_type": "code",
   "execution_count": 132,
   "metadata": {},
   "outputs": [
    {
     "name": "stdout",
     "output_type": "stream",
     "text": [
      "False\n",
      "False\n",
      "False\n",
      "False\n",
      "False\n",
      "False\n",
      "False\n",
      "False\n"
     ]
    }
   ],
   "source": [
    "# False Values\n",
    "\n",
    "print(bool(0))\n",
    "print(bool(\"\"))\n",
    "print(bool(''))\n",
    "print(bool([]))\n",
    "print(bool(False))\n",
    "print(bool(()))\n",
    "print(bool({}))\n",
    "print(bool(None))"
   ]
  },
  {
   "cell_type": "markdown",
   "metadata": {},
   "source": [
    "**Boolean Operators**"
   ]
  },
  {
   "cell_type": "markdown",
   "metadata": {},
   "source": [
    "* **and**\n",
    "* **or**\n",
    "* **not**"
   ]
  },
  {
   "cell_type": "code",
   "execution_count": 133,
   "metadata": {},
   "outputs": [],
   "source": [
    "age = 36\n",
    "country = \"Egypt\"\n",
    "rank = 10"
   ]
  },
  {
   "cell_type": "code",
   "execution_count": 134,
   "metadata": {},
   "outputs": [
    {
     "name": "stdout",
     "output_type": "stream",
     "text": [
      "True\n",
      "False\n"
     ]
    }
   ],
   "source": [
    "print(age > 16 and country == \"Egypt\" and rank > 0)  # True\n",
    "print(age > 16 and country == \"KSA\" and rank > 0)  # False"
   ]
  },
  {
   "cell_type": "code",
   "execution_count": 135,
   "metadata": {},
   "outputs": [
    {
     "name": "stdout",
     "output_type": "stream",
     "text": [
      "False\n",
      "True\n"
     ]
    }
   ],
   "source": [
    "print(age > 40 or country == \"KSA\" or rank > 20)  # False\n",
    "print(age > 40 or country == \"Egypt\" or rank > 20)  # True"
   ]
  },
  {
   "cell_type": "code",
   "execution_count": 136,
   "metadata": {},
   "outputs": [
    {
     "name": "stdout",
     "output_type": "stream",
     "text": [
      "True\n",
      "False\n"
     ]
    }
   ],
   "source": [
    "print(age > 16)  # True\n",
    "print(not age > 16)  # Not True = False"
   ]
  },
  {
   "cell_type": "markdown",
   "metadata": {},
   "source": [
    "**Assignment Operators**"
   ]
  },
  {
   "cell_type": "markdown",
   "metadata": {},
   "source": [
    "* **=**\n",
    "* **+=**\n",
    "* **-=**\n",
    "* ***=**\n",
    "* **/=**\n",
    "* ****=**\n",
    "* **%=**\n",
    "* **//=**"
   ]
  },
  {
   "cell_type": "code",
   "execution_count": 137,
   "metadata": {},
   "outputs": [
    {
     "name": "stdout",
     "output_type": "stream",
     "text": [
      "-10\n"
     ]
    }
   ],
   "source": [
    "x = 10  # Var One\n",
    "y = 20  # Var Two\n",
    "\n",
    "# Var One = Self [Operator] Var Two\n",
    "# Var One [Operator]= Var Two\n",
    "\n",
    "# x += y\n",
    "x -= y\n",
    "\n",
    "print(x)"
   ]
  },
  {
   "cell_type": "markdown",
   "metadata": {},
   "source": [
    "**Comparison Operators**"
   ]
  },
  {
   "cell_type": "markdown",
   "metadata": {},
   "source": [
    "* **[ == ] Equal**\n",
    "* **[ != ] Not Equal**\n",
    "* **[ > ] Greater Than**\n",
    "* **[ < ] Less Than**\n",
    "* **[ >= ] Greater Than Or Equal**\n",
    "* **[ <= ] Less Than Or Equal**"
   ]
  },
  {
   "cell_type": "code",
   "execution_count": 138,
   "metadata": {},
   "outputs": [
    {
     "name": "stdout",
     "output_type": "stream",
     "text": [
      "True\n",
      "False\n",
      "True\n"
     ]
    }
   ],
   "source": [
    "# Equal \n",
    "\n",
    "print(100 == 100)\n",
    "print(100 == 200)\n",
    "print(100 == 100.00)\n"
   ]
  },
  {
   "cell_type": "code",
   "execution_count": 139,
   "metadata": {},
   "outputs": [
    {
     "name": "stdout",
     "output_type": "stream",
     "text": [
      "False\n",
      "True\n",
      "False\n"
     ]
    }
   ],
   "source": [
    "# Not equal\n",
    "\n",
    "print(100 != 100)\n",
    "print(100 != 200)\n",
    "print(100 != 100.00)"
   ]
  },
  {
   "cell_type": "code",
   "execution_count": 140,
   "metadata": {},
   "outputs": [
    {
     "name": "stdout",
     "output_type": "stream",
     "text": [
      "False\n",
      "False\n",
      "False\n",
      "True\n"
     ]
    }
   ],
   "source": [
    "# Greater Than \n",
    "\n",
    "print(100 > 100)\n",
    "print(100 > 200)\n",
    "print(100 > 100.00)\n",
    "print(100 > 40)"
   ]
  },
  {
   "cell_type": "code",
   "execution_count": 141,
   "metadata": {},
   "outputs": [
    {
     "name": "stdout",
     "output_type": "stream",
     "text": [
      "False\n",
      "True\n",
      "False\n",
      "False\n"
     ]
    }
   ],
   "source": [
    "# Less Than\n",
    "\n",
    "print(100 < 100)\n",
    "print(100 < 200)\n",
    "print(100 < 100.00)\n",
    "print(100 < 40)"
   ]
  },
  {
   "cell_type": "code",
   "execution_count": 142,
   "metadata": {},
   "outputs": [
    {
     "name": "stdout",
     "output_type": "stream",
     "text": [
      "True\n",
      "False\n",
      "True\n",
      "True\n"
     ]
    }
   ],
   "source": [
    "# Greater Than Or Equal\n",
    "\n",
    "print(100 >= 100)\n",
    "print(100 >= 200)\n",
    "print(100 >= 100.00)\n",
    "print(100 >= 40)"
   ]
  },
  {
   "cell_type": "code",
   "execution_count": 143,
   "metadata": {},
   "outputs": [
    {
     "name": "stdout",
     "output_type": "stream",
     "text": [
      "True\n",
      "True\n",
      "True\n",
      "False\n"
     ]
    }
   ],
   "source": [
    "# Less Than Or Equal\n",
    "\n",
    "print(100 <= 100)\n",
    "print(100 <= 200)\n",
    "print(100 <= 100.00)\n",
    "print(100 <= 40)"
   ]
  },
  {
   "cell_type": "markdown",
   "metadata": {},
   "source": [
    "### 3. Type Conversion"
   ]
  },
  {
   "cell_type": "code",
   "execution_count": 144,
   "metadata": {},
   "outputs": [
    {
     "name": "stdout",
     "output_type": "stream",
     "text": [
      "<class 'int'>\n",
      "<class 'str'>\n"
     ]
    }
   ],
   "source": [
    "# str()\n",
    "\n",
    "a = 10\n",
    "print(type(a))\n",
    "print(type(str(a)))"
   ]
  },
  {
   "cell_type": "code",
   "execution_count": 145,
   "metadata": {},
   "outputs": [
    {
     "name": "stdout",
     "output_type": "stream",
     "text": [
      "('O', 's', 'a', 'm', 'a')\n",
      "(1, 2, 3, 4, 5)\n",
      "('A', 'C', 'B')\n",
      "('A', 'B')\n"
     ]
    }
   ],
   "source": [
    "# tuple()\n",
    "\n",
    "c = \"Osama\"  # String\n",
    "d = [1, 2, 3, 4, 5]  # List\n",
    "e = {\"A\", \"B\", \"C\"}  # Set\n",
    "f = {\"A\": 1, \"B\": 2}  # Dictionary\n",
    "\n",
    "print(tuple(c))\n",
    "print(tuple(d))\n",
    "print(tuple(e))\n",
    "print(tuple(f))"
   ]
  },
  {
   "cell_type": "code",
   "execution_count": 146,
   "metadata": {},
   "outputs": [
    {
     "name": "stdout",
     "output_type": "stream",
     "text": [
      "['O', 's', 'a', 'm', 'a']\n",
      "[1, 2, 3, 4, 5]\n",
      "['A', 'C', 'B']\n",
      "['A', 'B']\n"
     ]
    }
   ],
   "source": [
    "# list()\n",
    "\n",
    "c = \"Osama\"  # String\n",
    "d = (1, 2, 3, 4, 5)  # Tuple\n",
    "e = {\"A\", \"B\", \"C\"}  # Set\n",
    "f = {\"A\": 1, \"B\": 2}  # Dictionary\n",
    "\n",
    "print(list(c))\n",
    "print(list(d))\n",
    "print(list(e))\n",
    "print(list(f))"
   ]
  },
  {
   "cell_type": "code",
   "execution_count": 147,
   "metadata": {},
   "outputs": [
    {
     "name": "stdout",
     "output_type": "stream",
     "text": [
      "{'a', 'O', 's', 'm'}\n",
      "{1, 2, 3, 4, 5}\n",
      "{'A', 'C', 'B'}\n",
      "{'A', 'B'}\n"
     ]
    }
   ],
   "source": [
    "# set()\n",
    "\n",
    "c = \"Osama\"  # String\n",
    "d = (1, 2, 3, 4, 5)  # Tuple\n",
    "e = [\"A\", \"B\", \"C\"]  # List\n",
    "f = {\"A\": 1, \"B\": 2}  # Dictionary\n",
    "\n",
    "print(set(c))\n",
    "print(set(d))\n",
    "print(set(e))\n",
    "print(set(f))"
   ]
  },
  {
   "cell_type": "code",
   "execution_count": 148,
   "metadata": {},
   "outputs": [
    {
     "name": "stdout",
     "output_type": "stream",
     "text": [
      "{'A': 1, 'B': 2, 'C': 3}\n",
      "{'One': 1, 'Two': 2, 'Three': 3}\n"
     ]
    }
   ],
   "source": [
    "# dict()\n",
    "\n",
    "d = ((\"A\", 1), (\"B\", 2), (\"C\", 3))  # Tuple\n",
    "e = [[\"One\", 1], [\"Two\", 2], [\"Three\", 3]]  # List\n",
    "\n",
    "print(dict(d))\n",
    "print(dict(e))"
   ]
  },
  {
   "cell_type": "markdown",
   "metadata": {},
   "source": [
    "### 4. User Input"
   ]
  },
  {
   "cell_type": "code",
   "execution_count": 149,
   "metadata": {},
   "outputs": [
    {
     "name": "stdout",
     "output_type": "stream",
     "text": [
      "What's Is Your First Name?Shorouk\n",
      "What's Is Your Middle Name?Elsayed\n",
      "What's Is Your Last Name?Eldeep\n",
      "Hello Shorouk E Eldeep Happy To See You.\n"
     ]
    }
   ],
   "source": [
    "fName = input('What\\'s Is Your First Name?')\n",
    "mName = input('What\\'s Is Your Middle Name?')\n",
    "lName = input('What\\'s Is Your Last Name?')\n",
    "\n",
    "fName = fName.strip().capitalize()\n",
    "mName = mName.strip().capitalize()\n",
    "lName = lName.strip().capitalize()\n",
    "\n",
    "print(f\"Hello {fName} {mName:.1s} {lName} Happy To See You.\")"
   ]
  },
  {
   "cell_type": "markdown",
   "metadata": {},
   "source": [
    "**Practical Slice Email**"
   ]
  },
  {
   "cell_type": "code",
   "execution_count": 150,
   "metadata": {},
   "outputs": [
    {
     "name": "stdout",
     "output_type": "stream",
     "text": [
      "What's Your Name ?Shorouk\n",
      "What's Your Email ?shorouk119@gmail.com\n",
      "Hello Shorouk Your Email Is shorouk119@gmail.com\n",
      "Your Username Is shorouk119 \n",
      "Your Website Is gmail.com\n"
     ]
    }
   ],
   "source": [
    "theName = input('What\\'s Your Name ?').strip().capitalize()\n",
    "theEmail = input('What\\'s Your Email ?').strip()\n",
    "\n",
    "theUsername = theEmail[:theEmail.index(\"@\")]\n",
    "theWebsite = theEmail[theEmail.index(\"@\") + 1:]\n",
    "\n",
    "print(f\"Hello {theName} Your Email Is {theEmail}\")\n",
    "print(f\"Your Username Is {theUsername} \\nYour Website Is {theWebsite}\")\n"
   ]
  },
  {
   "cell_type": "markdown",
   "metadata": {},
   "source": [
    "**Practical Your Age Full Details**"
   ]
  },
  {
   "cell_type": "code",
   "execution_count": 151,
   "metadata": {},
   "outputs": [
    {
     "name": "stdout",
     "output_type": "stream",
     "text": [
      "What's Your Age ? 22\n",
      "You Lived For:\n",
      "264 Months.\n",
      "1,056 Weeks.\n",
      "8,030 Days.\n",
      "192,720 Hours.\n",
      "11,563,200 Minutes.\n",
      "693,792,000 Seconds.\n"
     ]
    }
   ],
   "source": [
    "# Input Age\n",
    "age = int(input('What\\'s Your Age ? ').strip())\n",
    "\n",
    "# Get Age in All Time Units\n",
    "months = age * 12\n",
    "weeks = months * 4\n",
    "days = age * 365\n",
    "hours = days * 24\n",
    "minutes = hours * 60\n",
    "seconds = minutes * 60\n",
    "\n",
    "print('You Lived For:')\n",
    "print(f\"{months} Months.\")\n",
    "print(f\"{weeks:,} Weeks.\")\n",
    "print(f\"{days:,} Days.\")\n",
    "print(f\"{hours:,} Hours.\")\n",
    "print(f\"{minutes:,} Minutes.\")\n",
    "print(f\"{seconds:,} Seconds.\")"
   ]
  },
  {
   "cell_type": "code",
   "execution_count": null,
   "metadata": {},
   "outputs": [],
   "source": []
  }
 ],
 "metadata": {
  "kernelspec": {
   "display_name": "Python 3 (ipykernel)",
   "language": "python",
   "name": "python3"
  },
  "language_info": {
   "codemirror_mode": {
    "name": "ipython",
    "version": 3
   },
   "file_extension": ".py",
   "mimetype": "text/x-python",
   "name": "python",
   "nbconvert_exporter": "python",
   "pygments_lexer": "ipython3",
   "version": "3.8.5"
  }
 },
 "nbformat": 4,
 "nbformat_minor": 4
}
