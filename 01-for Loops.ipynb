{
 "cells": [
  {
   "cell_type": "markdown",
   "metadata": {},
   "source": [
    "# for Loops\n",
    "\n",
    "A <code>for</code> loop acts as an iterator in Python; it goes through items that are in a *sequence* or any other iterable item. Objects that we've learned about that we can iterate over include strings, lists, tuples, and even built-in iterables for dictionaries, such as keys or values.\n",
    "\n",
    "We've already seen the <code>for</code> statement a little bit in past lectures but now let's formalize our understanding.\n",
    "\n",
    "Here's the general format for a <code>for</code> loop in Python:\n",
    "\n",
    "    for item in object:\n",
    "        statements to do stuff\n",
    "        \n",
    "## Table of Contents\n",
    "1. Iterate through Lists\n",
    "2. Iterate through Strings\n",
    "3. Iterate through Tuples\n",
    "4. Tuple Unpacking\n",
    "5. Iterate throuh Dictionaries\n",
    "6. Iterate through Files\n",
    "7. Use `range` to generate numbers.\n",
    "8. Break & Continue\n",
    "9. For-Else\n",
    "10. Nested for loops\n",
    "11. Examples\n",
    "    "
   ]
  },
  {
   "cell_type": "markdown",
   "metadata": {},
   "source": [
    "The variable name used for the item is completely up to the coder, so use your best judgment for choosing a name that makes sense and you will be able to understand when revisiting your code. This item name can then be referenced inside your loop, for example if you wanted to use <code>if</code> statements to perform checks.\n",
    "\n",
    "Let's go ahead and work through several example of <code>for</code> loops using a variety of data object types. We'll start simple and build more complexity later on.\n",
    "\n"
   ]
  },
  {
   "cell_type": "markdown",
   "metadata": {},
   "source": [
    "## 1) Iterate through Lists"
   ]
  },
  {
   "cell_type": "code",
   "execution_count": 1,
   "metadata": {
    "ExecuteTime": {
     "end_time": "2021-11-18T20:12:40.855216Z",
     "start_time": "2021-11-18T20:12:40.760213Z"
    }
   },
   "outputs": [],
   "source": [
    "list1 = [10, 20, 30, 40, 50, 60, 70, 80, 90, 100]"
   ]
  },
  {
   "cell_type": "code",
   "execution_count": 2,
   "metadata": {
    "ExecuteTime": {
     "end_time": "2021-11-18T20:15:39.216273Z",
     "start_time": "2021-11-18T20:15:39.167214Z"
    }
   },
   "outputs": [
    {
     "name": "stdout",
     "output_type": "stream",
     "text": [
      "10\n",
      "20\n",
      "30\n",
      "40\n",
      "50\n",
      "60\n",
      "70\n",
      "80\n",
      "90\n",
      "100\n",
      "I'm done\n"
     ]
    }
   ],
   "source": [
    "for i in list1:\n",
    "    print(i)\n",
    "\n",
    "print(\"I'm done\")"
   ]
  },
  {
   "cell_type": "code",
   "execution_count": 3,
   "metadata": {
    "ExecuteTime": {
     "end_time": "2021-11-18T20:18:16.400040Z",
     "start_time": "2021-11-18T20:18:16.368912Z"
    }
   },
   "outputs": [
    {
     "name": "stdout",
     "output_type": "stream",
     "text": [
      "100\n",
      "400\n",
      "900\n",
      "1600\n",
      "2500\n",
      "3600\n",
      "4900\n",
      "6400\n",
      "8100\n",
      "10000\n"
     ]
    }
   ],
   "source": [
    "for i in list1:\n",
    "    print(i ** 2)"
   ]
  },
  {
   "cell_type": "markdown",
   "metadata": {},
   "source": [
    "Great! Hopefully this makes sense. Now let's add an <code>if</code> statement to check for even numbers. We'll first introduce a new concept here"
   ]
  },
  {
   "cell_type": "markdown",
   "metadata": {},
   "source": [
    "Notice that if a number is fully divisible with no remainder, the result of the modulo call is 0. We can use this to test for even numbers, since if a number modulo 2 is equal to 0, that means it is an even number!\n",
    "\n",
    "Back to the <code>for</code> loops!\n",
    "\n",
    "**Let's print only the even numbers from that list!**"
   ]
  },
  {
   "cell_type": "code",
   "execution_count": 4,
   "metadata": {
    "ExecuteTime": {
     "end_time": "2021-11-18T20:21:08.530490Z",
     "start_time": "2021-11-18T20:21:08.492495Z"
    }
   },
   "outputs": [
    {
     "name": "stdout",
     "output_type": "stream",
     "text": [
      "10\n",
      "402\n",
      "630\n",
      "866\n",
      "1000\n"
     ]
    }
   ],
   "source": [
    "list1 = [10, 201, 305, 402, 507, 630, 705, 866, 943, 1000]\n",
    "\n",
    "for num in list1:\n",
    "    if num % 2 == 0:\n",
    "        print(num)"
   ]
  },
  {
   "cell_type": "markdown",
   "metadata": {},
   "source": [
    "**We could have also put an <code>else</code> statement in there:**"
   ]
  },
  {
   "cell_type": "code",
   "execution_count": 5,
   "metadata": {
    "ExecuteTime": {
     "end_time": "2021-11-18T20:21:33.114508Z",
     "start_time": "2021-11-18T20:21:32.865495Z"
    }
   },
   "outputs": [
    {
     "data": {
      "text/plain": [
       "[10, 201, 305, 402, 507, 630, 705, 866, 943, 1000]"
      ]
     },
     "execution_count": 5,
     "metadata": {},
     "output_type": "execute_result"
    }
   ],
   "source": [
    "list1"
   ]
  },
  {
   "cell_type": "code",
   "execution_count": 6,
   "metadata": {
    "ExecuteTime": {
     "end_time": "2021-11-18T20:23:02.025644Z",
     "start_time": "2021-11-18T20:23:02.005676Z"
    }
   },
   "outputs": [
    {
     "name": "stdout",
     "output_type": "stream",
     "text": [
      "10 is Even\n",
      "201 is Odd\n",
      "305 is Odd\n",
      "402 is Even\n",
      "507 is Odd\n",
      "630 is Even\n",
      "705 is Odd\n",
      "866 is Even\n",
      "943 is Odd\n",
      "1000 is Even\n"
     ]
    }
   ],
   "source": [
    "for num in list1:\n",
    "    if num % 2 == 0:\n",
    "        print(f\"{num} is Even\")\n",
    "    else:\n",
    "        print(f\"{num} is Odd\")"
   ]
  },
  {
   "cell_type": "markdown",
   "metadata": {},
   "source": [
    "**Another common idea during a <code>for</code> loop is keeping some sort of running tally during multiple loops. For example, let's create a <code>for</code> loop that sums up the list:**"
   ]
  },
  {
   "cell_type": "code",
   "execution_count": 7,
   "metadata": {
    "ExecuteTime": {
     "end_time": "2021-11-18T20:26:45.494500Z",
     "start_time": "2021-11-18T20:26:45.477509Z"
    }
   },
   "outputs": [],
   "source": [
    "scores = [9, 8, 10, 9, 5]"
   ]
  },
  {
   "cell_type": "code",
   "execution_count": 8,
   "metadata": {
    "ExecuteTime": {
     "end_time": "2021-11-18T20:28:14.264128Z",
     "start_time": "2021-11-18T20:28:14.245150Z"
    }
   },
   "outputs": [
    {
     "name": "stdout",
     "output_type": "stream",
     "text": [
      "Total:  41\n"
     ]
    }
   ],
   "source": [
    "total = 0\n",
    "\n",
    "for s in scores:\n",
    "    total += s\n",
    "\n",
    "print(\"Total: \", total)"
   ]
  },
  {
   "cell_type": "markdown",
   "metadata": {},
   "source": [
    "**Great! Read over the above cell and make sure you understand fully what is going on. Also we could have implemented a <code>+=</code> to perform the addition towards the sum. For example:**"
   ]
  },
  {
   "cell_type": "code",
   "execution_count": null,
   "metadata": {},
   "outputs": [],
   "source": []
  },
  {
   "cell_type": "markdown",
   "metadata": {},
   "source": [
    "## 2) Iterate through Strings\n",
    "We've used <code>for</code> loops with lists, how about with strings? Remember strings are a sequence so when we iterate through them we will be accessing each item in that string."
   ]
  },
  {
   "cell_type": "code",
   "execution_count": 9,
   "metadata": {
    "ExecuteTime": {
     "end_time": "2021-11-18T20:33:19.087920Z",
     "start_time": "2021-11-18T20:33:19.065919Z"
    }
   },
   "outputs": [
    {
     "name": "stdout",
     "output_type": "stream",
     "text": [
      "I\n",
      " \n",
      "L\n",
      "O\n",
      "V\n",
      "E\n",
      " \n",
      "P\n",
      "Y\n",
      "T\n",
      "H\n",
      "O\n",
      "N\n",
      "!\n"
     ]
    }
   ],
   "source": [
    "for ch in \"I love python!\":\n",
    "    print(ch.upper())"
   ]
  },
  {
   "cell_type": "markdown",
   "metadata": {},
   "source": [
    "## 3) Iterate through Tuples\n",
    "Let's now look at how a <code>for</code> loop can be used with a tuple:"
   ]
  },
  {
   "cell_type": "code",
   "execution_count": 10,
   "metadata": {
    "ExecuteTime": {
     "end_time": "2021-11-18T20:34:42.848115Z",
     "start_time": "2021-11-18T20:34:42.832110Z"
    }
   },
   "outputs": [
    {
     "name": "stdout",
     "output_type": "stream",
     "text": [
      "10\n",
      "8\n",
      "6\n",
      "4\n",
      "2\n"
     ]
    }
   ],
   "source": [
    "for i in (5, 4, 3, 2, 1):\n",
    "    print(i * 2)"
   ]
  },
  {
   "cell_type": "markdown",
   "metadata": {},
   "source": [
    "## 4) Tuple Unpacking\n",
    "Tuples have a special quality when it comes to <code>for</code> loops. If you are iterating through a sequence that contains tuples, the item can actually be the tuple itself, this is an example of *tuple unpacking*. During the <code>for</code> loop we will be unpacking the tuple inside of a sequence and we can access the individual items inside that tuple!"
   ]
  },
  {
   "cell_type": "code",
   "execution_count": 11,
   "metadata": {
    "ExecuteTime": {
     "end_time": "2021-11-18T20:36:13.455663Z",
     "start_time": "2021-11-18T20:36:13.439662Z"
    }
   },
   "outputs": [],
   "source": [
    "list2 = [(10, 2), (50, 3), (6, 7)]"
   ]
  },
  {
   "cell_type": "code",
   "execution_count": 12,
   "metadata": {
    "ExecuteTime": {
     "end_time": "2021-11-18T20:36:48.206662Z",
     "start_time": "2021-11-18T20:36:48.197664Z"
    }
   },
   "outputs": [
    {
     "name": "stdout",
     "output_type": "stream",
     "text": [
      "(10, 2)\n",
      "(50, 3)\n",
      "(6, 7)\n"
     ]
    }
   ],
   "source": [
    "for tup in list2:\n",
    "    print(tup)"
   ]
  },
  {
   "cell_type": "code",
   "execution_count": 13,
   "metadata": {
    "ExecuteTime": {
     "end_time": "2021-11-18T20:38:52.015269Z",
     "start_time": "2021-11-18T20:38:51.991273Z"
    }
   },
   "outputs": [
    {
     "name": "stdout",
     "output_type": "stream",
     "text": [
      "10\n",
      "2\n",
      "********************\n",
      "50\n",
      "3\n",
      "********************\n",
      "6\n",
      "7\n",
      "********************\n"
     ]
    }
   ],
   "source": [
    "for (t1,t2) in list2:\n",
    "    print(t1)\n",
    "    print(t2)\n",
    "    print(\"*\"*20)"
   ]
  },
  {
   "cell_type": "code",
   "execution_count": 14,
   "metadata": {
    "ExecuteTime": {
     "end_time": "2021-11-18T20:39:48.158874Z",
     "start_time": "2021-11-18T20:39:48.145876Z"
    }
   },
   "outputs": [
    {
     "name": "stdout",
     "output_type": "stream",
     "text": [
      "20\n",
      "150\n",
      "42\n"
     ]
    }
   ],
   "source": [
    "for t1, t2 in list2:\n",
    "    print(t1 * t2)"
   ]
  },
  {
   "cell_type": "markdown",
   "metadata": {},
   "source": [
    "another example with different size"
   ]
  },
  {
   "cell_type": "code",
   "execution_count": 15,
   "metadata": {
    "ExecuteTime": {
     "end_time": "2021-11-18T20:43:12.605554Z",
     "start_time": "2021-11-18T20:43:12.595549Z"
    }
   },
   "outputs": [],
   "source": [
    "list2 = [(2,4,20,30),(6,8,20,30),(10,12,20,30)]\n"
   ]
  },
  {
   "cell_type": "code",
   "execution_count": 18,
   "metadata": {
    "ExecuteTime": {
     "end_time": "2021-11-18T20:44:38.320548Z",
     "start_time": "2021-11-18T20:44:38.302553Z"
    }
   },
   "outputs": [
    {
     "name": "stdout",
     "output_type": "stream",
     "text": [
      "2 - 4 - 20 - 30\n",
      "6 - 8 - 20 - 30\n",
      "10 - 12 - 20 - 30\n"
     ]
    }
   ],
   "source": [
    "for v1, v2, v3, v4 in list2:\n",
    "    print(f\"{v1} - {v2} - {v3} - {v4}\")"
   ]
  },
  {
   "cell_type": "code",
   "execution_count": null,
   "metadata": {},
   "outputs": [],
   "source": []
  },
  {
   "cell_type": "markdown",
   "metadata": {},
   "source": [
    "Cool! With tuples in a sequence we can access the items inside of them through unpacking! The reason this is important is because many objects will deliver their iterables through tuples. Let's start exploring iterating through Dictionaries to explore this further!"
   ]
  },
  {
   "cell_type": "markdown",
   "metadata": {},
   "source": [
    "## 5) Iterate throuh Dictionaries"
   ]
  },
  {
   "cell_type": "code",
   "execution_count": 20,
   "metadata": {
    "ExecuteTime": {
     "end_time": "2021-11-18T20:45:47.724797Z",
     "start_time": "2021-11-18T20:45:47.717799Z"
    }
   },
   "outputs": [],
   "source": [
    "d = {'k1':1, 'k2':2, 'k3':3}"
   ]
  },
  {
   "cell_type": "code",
   "execution_count": 21,
   "metadata": {
    "ExecuteTime": {
     "end_time": "2021-11-18T20:46:46.397101Z",
     "start_time": "2021-11-18T20:46:46.382097Z"
    }
   },
   "outputs": [
    {
     "name": "stdout",
     "output_type": "stream",
     "text": [
      "k1\n",
      "k2\n",
      "k3\n"
     ]
    }
   ],
   "source": [
    "for item in d:\n",
    "    print(item)"
   ]
  },
  {
   "cell_type": "code",
   "execution_count": 22,
   "metadata": {
    "ExecuteTime": {
     "end_time": "2021-11-18T20:47:28.256097Z",
     "start_time": "2021-11-18T20:47:28.248094Z"
    }
   },
   "outputs": [
    {
     "name": "stdout",
     "output_type": "stream",
     "text": [
      "1\n",
      "2\n",
      "3\n"
     ]
    }
   ],
   "source": [
    "for v in d.values():\n",
    "    print(v)"
   ]
  },
  {
   "cell_type": "code",
   "execution_count": 23,
   "metadata": {
    "ExecuteTime": {
     "end_time": "2021-11-18T20:47:57.740096Z",
     "start_time": "2021-11-18T20:47:57.722096Z"
    }
   },
   "outputs": [
    {
     "data": {
      "text/plain": [
       "['k1', 'k2', 'k3']"
      ]
     },
     "execution_count": 23,
     "metadata": {},
     "output_type": "execute_result"
    }
   ],
   "source": [
    "list(d.keys())"
   ]
  },
  {
   "cell_type": "code",
   "execution_count": 24,
   "metadata": {
    "ExecuteTime": {
     "end_time": "2021-11-18T20:48:05.826098Z",
     "start_time": "2021-11-18T20:48:05.812102Z"
    }
   },
   "outputs": [
    {
     "data": {
      "text/plain": [
       "[('k1', 1), ('k2', 2), ('k3', 3)]"
      ]
     },
     "execution_count": 24,
     "metadata": {},
     "output_type": "execute_result"
    }
   ],
   "source": [
    "list(d.items())"
   ]
  },
  {
   "cell_type": "markdown",
   "metadata": {},
   "source": [
    "Notice how this produces only the keys. So how can we get the values? Or both the keys and the values? \n",
    "\n",
    "We're going to introduce three new Dictionary methods: **.keys()**, **.values()** and **.items()**\n",
    "\n",
    "In Python each of these methods return a *dictionary view object*. It supports operations like membership test and iteration, but its contents are not independent of the original dictionary – it is only a view. Let's see it in action:"
   ]
  },
  {
   "cell_type": "markdown",
   "metadata": {},
   "source": [
    "Since the .items() method supports iteration, we can perform *dictionary unpacking* to separate keys and values just as we did in the previous examples."
   ]
  },
  {
   "cell_type": "code",
   "execution_count": 25,
   "metadata": {
    "ExecuteTime": {
     "end_time": "2021-11-18T20:49:37.033223Z",
     "start_time": "2021-11-18T20:49:37.021216Z"
    }
   },
   "outputs": [
    {
     "name": "stdout",
     "output_type": "stream",
     "text": [
      "Key: k1 || Value: 1\n",
      "Key: k2 || Value: 2\n",
      "Key: k3 || Value: 3\n"
     ]
    }
   ],
   "source": [
    "for (k, v) in d.items():\n",
    "    print(f\"Key: {k} || Value: {v}\")"
   ]
  },
  {
   "cell_type": "code",
   "execution_count": 26,
   "metadata": {
    "ExecuteTime": {
     "end_time": "2021-11-18T20:50:20.414213Z",
     "start_time": "2021-11-18T20:50:20.403217Z"
    }
   },
   "outputs": [
    {
     "name": "stdout",
     "output_type": "stream",
     "text": [
      "Key: k1 || Value: 1\n",
      "Key: k2 || Value: 2\n",
      "Key: k3 || Value: 3\n"
     ]
    }
   ],
   "source": [
    "for k,v in d.items():\n",
    "    print(f\"Key: {k} || Value: {v}\")"
   ]
  },
  {
   "cell_type": "markdown",
   "metadata": {},
   "source": [
    "## 6) Iterate through Files"
   ]
  },
  {
   "cell_type": "code",
   "execution_count": 28,
   "metadata": {
    "ExecuteTime": {
     "end_time": "2021-11-18T20:52:27.049105Z",
     "start_time": "2021-11-18T20:52:27.034102Z"
    }
   },
   "outputs": [
    {
     "name": "stdout",
     "output_type": "stream",
     "text": [
      "Hello\n",
      "\n",
      "Iam\n",
      "\n",
      "A New\n",
      "\n",
      "Line\n",
      "\n",
      "Hello\n",
      "\n",
      "It'S Me Again\n",
      "\n",
      "Python Is Great\n",
      "\n",
      "Big Data Is Great Too\n"
     ]
    }
   ],
   "source": [
    "for line in open(\"not_found.txt\", 'r'):\n",
    "    print(line.title())"
   ]
  },
  {
   "cell_type": "markdown",
   "metadata": {},
   "source": [
    "## 7) Use `range` to generate numbers."
   ]
  },
  {
   "cell_type": "code",
   "execution_count": 30,
   "metadata": {
    "ExecuteTime": {
     "end_time": "2021-11-18T20:54:10.548758Z",
     "start_time": "2021-11-18T20:54:10.535763Z"
    }
   },
   "outputs": [
    {
     "data": {
      "text/plain": [
       "[0, 1, 2, 3, 4, 5, 6, 7, 8, 9]"
      ]
     },
     "execution_count": 30,
     "metadata": {},
     "output_type": "execute_result"
    }
   ],
   "source": [
    "list(range(10))"
   ]
  },
  {
   "cell_type": "code",
   "execution_count": 31,
   "metadata": {
    "ExecuteTime": {
     "end_time": "2021-11-18T20:54:35.677764Z",
     "start_time": "2021-11-18T20:54:35.655763Z"
    }
   },
   "outputs": [
    {
     "data": {
      "text/plain": [
       "[0, 1, 2, 3, 4, 5, 6, 7, 8, 9, 10, 11, 12, 13, 14, 15, 16, 17, 18, 19]"
      ]
     },
     "execution_count": 31,
     "metadata": {},
     "output_type": "execute_result"
    }
   ],
   "source": [
    "list(range(20))"
   ]
  },
  {
   "cell_type": "code",
   "execution_count": 32,
   "metadata": {
    "ExecuteTime": {
     "end_time": "2021-11-18T20:55:00.777448Z",
     "start_time": "2021-11-18T20:55:00.759459Z"
    }
   },
   "outputs": [
    {
     "data": {
      "text/plain": [
       "[10, 11, 12, 13, 14, 15, 16, 17, 18, 19]"
      ]
     },
     "execution_count": 32,
     "metadata": {},
     "output_type": "execute_result"
    }
   ],
   "source": [
    "list(range(10, 20))"
   ]
  },
  {
   "cell_type": "code",
   "execution_count": 33,
   "metadata": {
    "ExecuteTime": {
     "end_time": "2021-11-18T20:56:06.234560Z",
     "start_time": "2021-11-18T20:56:06.220519Z"
    }
   },
   "outputs": [
    {
     "data": {
      "text/plain": [
       "[10, 12, 14, 16, 18]"
      ]
     },
     "execution_count": 33,
     "metadata": {},
     "output_type": "execute_result"
    }
   ],
   "source": [
    "list(range(10, 20, 2))"
   ]
  },
  {
   "cell_type": "code",
   "execution_count": 34,
   "metadata": {
    "ExecuteTime": {
     "end_time": "2021-11-18T20:57:49.355594Z",
     "start_time": "2021-11-18T20:57:49.346589Z"
    }
   },
   "outputs": [
    {
     "name": "stdout",
     "output_type": "stream",
     "text": [
      "0\n",
      "2\n",
      "4\n",
      "6\n",
      "8\n",
      "10\n",
      "12\n",
      "14\n",
      "16\n",
      "18\n"
     ]
    }
   ],
   "source": [
    "for i in range(10):\n",
    "    print(i*2)"
   ]
  },
  {
   "cell_type": "code",
   "execution_count": 35,
   "metadata": {
    "ExecuteTime": {
     "end_time": "2021-11-18T20:58:27.170702Z",
     "start_time": "2021-11-18T20:58:27.160675Z"
    }
   },
   "outputs": [
    {
     "name": "stdout",
     "output_type": "stream",
     "text": [
      "\n",
      "*\n",
      "**\n",
      "***\n",
      "****\n",
      "*****\n",
      "******\n",
      "*******\n",
      "********\n",
      "*********\n"
     ]
    }
   ],
   "source": [
    "for i in range(10):\n",
    "    print(\"*\"*i)"
   ]
  },
  {
   "cell_type": "markdown",
   "metadata": {},
   "source": [
    "## 8) Break & Continue"
   ]
  },
  {
   "cell_type": "code",
   "execution_count": 2,
   "metadata": {
    "ExecuteTime": {
     "end_time": "2021-11-22T17:10:07.433180Z",
     "start_time": "2021-11-22T17:10:07.417177Z"
    }
   },
   "outputs": [
    {
     "name": "stdout",
     "output_type": "stream",
     "text": [
      "10 not divisible\n",
      "11 not divisible\n",
      "12 is divisble by 3\n",
      "Continue\n",
      "13 not divisible\n",
      "14 not divisible\n",
      "15 is divisble by 3\n",
      "Continue\n",
      "16 not divisible\n",
      "17 not divisible\n",
      "18 is divisble by 3\n",
      "Continue\n",
      "19 not divisible\n",
      "20 not divisible\n",
      "21 is divisble by 3\n",
      "Continue\n",
      "22 not divisible\n",
      "23 not divisible\n",
      "24 is divisble by 3\n",
      "Continue\n",
      "25 not divisible\n",
      "26 not divisible\n",
      "27 is divisble by 3\n",
      "Continue\n",
      "28 not divisible\n",
      "29 not divisible\n",
      "30 is divisble by 3\n",
      "Continue\n",
      "31 not divisible\n",
      "32 not divisible\n",
      "33 is divisble by 3\n",
      "Continue\n",
      "34 not divisible\n",
      "35 not divisible\n",
      "36 is divisble by 3\n",
      "Continue\n",
      "37 not divisible\n",
      "38 not divisible\n",
      "39 is divisble by 3\n",
      "Continue\n",
      "40 not divisible\n"
     ]
    }
   ],
   "source": [
    "for i in range(10, 41):\n",
    "    if i % 3 == 0:\n",
    "        print(f\"{i} is divisble by 3\")\n",
    "        print(\"Continue\")\n",
    "    else:\n",
    "        print(f\"{i} not divisible\")"
   ]
  },
  {
   "cell_type": "markdown",
   "metadata": {},
   "source": [
    "**Break**<br>\n",
    "to stop the loop"
   ]
  },
  {
   "cell_type": "code",
   "execution_count": 3,
   "metadata": {
    "ExecuteTime": {
     "end_time": "2021-11-22T17:11:58.464796Z",
     "start_time": "2021-11-22T17:11:58.453795Z"
    }
   },
   "outputs": [
    {
     "name": "stdout",
     "output_type": "stream",
     "text": [
      "10 not divisible\n",
      "11 not divisible\n",
      "12 is divisble by 3\n",
      "I'm done\n"
     ]
    }
   ],
   "source": [
    "for i in range(10, 41):\n",
    "    if i % 3 == 0:\n",
    "        print(f\"{i} is divisble by 3\")\n",
    "        break\n",
    "        print(\"Continue\")\n",
    "    else:\n",
    "        print(f\"{i} not divisible\")\n",
    "\n",
    "print(\"I'm done\")"
   ]
  },
  {
   "cell_type": "markdown",
   "metadata": {},
   "source": [
    "**Continue**<br>\n",
    "to skip an iteration"
   ]
  },
  {
   "cell_type": "code",
   "execution_count": 5,
   "metadata": {
    "ExecuteTime": {
     "end_time": "2021-11-22T17:20:39.260167Z",
     "start_time": "2021-11-22T17:20:39.249160Z"
    },
    "scrolled": false
   },
   "outputs": [
    {
     "name": "stdout",
     "output_type": "stream",
     "text": [
      "10 not divisible\n",
      "11 not divisible\n",
      "12 is divisble by 3\n",
      "13 not divisible\n",
      "14 not divisible\n",
      "15 is divisble by 3\n",
      "16 not divisible\n",
      "17 not divisible\n",
      "18 is divisble by 3\n",
      "19 not divisible\n",
      "20 not divisible\n",
      "21 is divisble by 3\n",
      "22 not divisible\n",
      "23 not divisible\n",
      "24 is divisble by 3\n",
      "25 not divisible\n",
      "26 not divisible\n",
      "27 is divisble by 3\n",
      "28 not divisible\n",
      "29 not divisible\n",
      "30 is divisble by 3\n",
      "31 not divisible\n",
      "32 not divisible\n",
      "33 is divisble by 3\n",
      "34 not divisible\n",
      "35 not divisible\n",
      "36 is divisble by 3\n",
      "37 not divisible\n",
      "38 not divisible\n",
      "39 is divisble by 3\n",
      "40 not divisible\n",
      "I'm done\n"
     ]
    }
   ],
   "source": [
    "for i in range(10, 41):\n",
    "    if i % 3 == 0:\n",
    "        print(f\"{i} is divisble by 3\")\n",
    "        continue\n",
    "        print(\"Continue\")\n",
    "    else:\n",
    "        print(f\"{i} not divisible\")\n",
    "\n",
    "print(\"I'm done\")"
   ]
  },
  {
   "cell_type": "code",
   "execution_count": 6,
   "metadata": {
    "ExecuteTime": {
     "end_time": "2021-11-22T17:20:52.553479Z",
     "start_time": "2021-11-22T17:20:52.542481Z"
    }
   },
   "outputs": [
    {
     "name": "stdout",
     "output_type": "stream",
     "text": [
      "12 is divisble by 3\n",
      "15 is divisble by 3\n",
      "18 is divisble by 3\n",
      "21 is divisble by 3\n",
      "24 is divisble by 3\n",
      "27 is divisble by 3\n",
      "30 is divisble by 3\n",
      "33 is divisble by 3\n",
      "36 is divisble by 3\n",
      "39 is divisble by 3\n",
      "I'm done\n"
     ]
    }
   ],
   "source": [
    "for i in range(10, 41):\n",
    "    if i % 3 == 0:\n",
    "        print(f\"{i} is divisble by 3\")\n",
    "        continue\n",
    "        print(\"Continue\")\n",
    "    else:\n",
    "        continue\n",
    "        print(f\"{i} not divisible\")\n",
    "\n",
    "print(\"I'm done\")"
   ]
  },
  {
   "cell_type": "markdown",
   "metadata": {},
   "source": [
    "## 9) For-Else"
   ]
  },
  {
   "cell_type": "code",
   "execution_count": 7,
   "metadata": {
    "ExecuteTime": {
     "end_time": "2021-11-22T17:23:42.583508Z",
     "start_time": "2021-11-22T17:23:42.573505Z"
    }
   },
   "outputs": [
    {
     "name": "stdout",
     "output_type": "stream",
     "text": [
      "0\n",
      "2\n",
      "4\n",
      "6\n",
      "8\n",
      "10\n",
      "12\n",
      "14\n",
      "16\n",
      "18\n",
      "No items left.\n"
     ]
    }
   ],
   "source": [
    "# Else only works if the loop continues till the end\n",
    "for i in range(10):\n",
    "    print(i*2)\n",
    "else:\n",
    "    print(\"No items left.\")"
   ]
  },
  {
   "cell_type": "code",
   "execution_count": 8,
   "metadata": {
    "ExecuteTime": {
     "end_time": "2021-11-22T17:25:41.089730Z",
     "start_time": "2021-11-22T17:25:41.081731Z"
    }
   },
   "outputs": [
    {
     "name": "stdout",
     "output_type": "stream",
     "text": [
      "0\n",
      "1\n",
      "2\n",
      "3\n",
      "4\n",
      "5\n"
     ]
    }
   ],
   "source": [
    "# Else won't work because there's a break\n",
    "for i in range(10):\n",
    "    if i == 6:\n",
    "        break\n",
    "    print(i)\n",
    "else:\n",
    "    print(\"No items left.\")"
   ]
  },
  {
   "cell_type": "markdown",
   "metadata": {},
   "source": [
    "## 10) Nested for loops"
   ]
  },
  {
   "cell_type": "code",
   "execution_count": 9,
   "metadata": {
    "ExecuteTime": {
     "end_time": "2021-11-22T17:30:34.218844Z",
     "start_time": "2021-11-22T17:30:34.208807Z"
    },
    "scrolled": true
   },
   "outputs": [
    {
     "name": "stdout",
     "output_type": "stream",
     "text": [
      "2 * 1 = 2\n",
      "2 * 2 = 4\n",
      "2 * 3 = 6\n",
      "2 * 4 = 8\n",
      "2 * 5 = 10\n",
      "2 * 6 = 12\n",
      "2 * 7 = 14\n",
      "2 * 8 = 16\n",
      "2 * 9 = 18\n",
      "2 * 10 = 20\n"
     ]
    }
   ],
   "source": [
    "# Gadwal el darb\n",
    "for i in range(1, 11):\n",
    "    print(f\"2 * {i} = {2*i}\")"
   ]
  },
  {
   "cell_type": "code",
   "execution_count": 11,
   "metadata": {
    "ExecuteTime": {
     "end_time": "2021-11-22T17:36:52.672939Z",
     "start_time": "2021-11-22T17:36:52.638935Z"
    },
    "scrolled": false
   },
   "outputs": [
    {
     "name": "stdout",
     "output_type": "stream",
     "text": [
      "Multiplcation Table for 1\n",
      "1 * 1 = 1\n",
      "1 * 2 = 2\n",
      "1 * 3 = 3\n",
      "1 * 4 = 4\n",
      "1 * 5 = 5\n",
      "1 * 6 = 6\n",
      "1 * 7 = 7\n",
      "1 * 8 = 8\n",
      "1 * 9 = 9\n",
      "1 * 10 = 10\n",
      "Multiplcation Table for 2\n",
      "2 * 1 = 2\n",
      "2 * 2 = 4\n",
      "2 * 3 = 6\n",
      "2 * 4 = 8\n",
      "2 * 5 = 10\n",
      "2 * 6 = 12\n",
      "2 * 7 = 14\n",
      "2 * 8 = 16\n",
      "2 * 9 = 18\n",
      "2 * 10 = 20\n",
      "Multiplcation Table for 3\n",
      "3 * 1 = 3\n",
      "3 * 2 = 6\n",
      "3 * 3 = 9\n",
      "3 * 4 = 12\n",
      "3 * 5 = 15\n",
      "3 * 6 = 18\n",
      "3 * 7 = 21\n",
      "3 * 8 = 24\n",
      "3 * 9 = 27\n",
      "3 * 10 = 30\n",
      "Multiplcation Table for 4\n",
      "4 * 1 = 4\n",
      "4 * 2 = 8\n",
      "4 * 3 = 12\n",
      "4 * 4 = 16\n",
      "4 * 5 = 20\n",
      "4 * 6 = 24\n",
      "4 * 7 = 28\n",
      "4 * 8 = 32\n",
      "4 * 9 = 36\n",
      "4 * 10 = 40\n",
      "Multiplcation Table for 5\n",
      "5 * 1 = 5\n",
      "5 * 2 = 10\n",
      "5 * 3 = 15\n",
      "5 * 4 = 20\n",
      "5 * 5 = 25\n",
      "5 * 6 = 30\n",
      "5 * 7 = 35\n",
      "5 * 8 = 40\n",
      "5 * 9 = 45\n",
      "5 * 10 = 50\n",
      "Multiplcation Table for 6\n",
      "6 * 1 = 6\n",
      "6 * 2 = 12\n",
      "6 * 3 = 18\n",
      "6 * 4 = 24\n",
      "6 * 5 = 30\n",
      "6 * 6 = 36\n",
      "6 * 7 = 42\n",
      "6 * 8 = 48\n",
      "6 * 9 = 54\n",
      "6 * 10 = 60\n",
      "Multiplcation Table for 7\n",
      "7 * 1 = 7\n",
      "7 * 2 = 14\n",
      "7 * 3 = 21\n",
      "7 * 4 = 28\n",
      "7 * 5 = 35\n",
      "7 * 6 = 42\n",
      "7 * 7 = 49\n",
      "7 * 8 = 56\n",
      "7 * 9 = 63\n",
      "7 * 10 = 70\n",
      "Multiplcation Table for 8\n",
      "8 * 1 = 8\n",
      "8 * 2 = 16\n",
      "8 * 3 = 24\n",
      "8 * 4 = 32\n",
      "8 * 5 = 40\n",
      "8 * 6 = 48\n",
      "8 * 7 = 56\n",
      "8 * 8 = 64\n",
      "8 * 9 = 72\n",
      "8 * 10 = 80\n",
      "Multiplcation Table for 9\n",
      "9 * 1 = 9\n",
      "9 * 2 = 18\n",
      "9 * 3 = 27\n",
      "9 * 4 = 36\n",
      "9 * 5 = 45\n",
      "9 * 6 = 54\n",
      "9 * 7 = 63\n",
      "9 * 8 = 72\n",
      "9 * 9 = 81\n",
      "9 * 10 = 90\n",
      "Multiplcation Table for 10\n",
      "10 * 1 = 10\n",
      "10 * 2 = 20\n",
      "10 * 3 = 30\n",
      "10 * 4 = 40\n",
      "10 * 5 = 50\n",
      "10 * 6 = 60\n",
      "10 * 7 = 70\n",
      "10 * 8 = 80\n",
      "10 * 9 = 90\n",
      "10 * 10 = 100\n"
     ]
    }
   ],
   "source": [
    "for i in range(1, 11):\n",
    "    # Outer loop\n",
    "    print(f\"Multiplcation Table for {i}\")\n",
    "    for j in range(1, 11):\n",
    "        # Inner loop\n",
    "        print(f\"{i} * {j} = {i*j}\")"
   ]
  },
  {
   "cell_type": "markdown",
   "metadata": {},
   "source": [
    "**another example**"
   ]
  },
  {
   "cell_type": "code",
   "execution_count": 12,
   "metadata": {
    "ExecuteTime": {
     "end_time": "2021-11-22T17:45:22.201827Z",
     "start_time": "2021-11-22T17:45:22.190839Z"
    }
   },
   "outputs": [
    {
     "name": "stdout",
     "output_type": "stream",
     "text": [
      "s\n",
      "a\n",
      "t\n",
      "u\n",
      "r\n",
      "d\n",
      "a\n",
      "y\n"
     ]
    }
   ],
   "source": [
    "for ch in 'saturday':\n",
    "    print(ch)"
   ]
  },
  {
   "cell_type": "code",
   "execution_count": 14,
   "metadata": {
    "ExecuteTime": {
     "end_time": "2021-11-22T17:49:29.491378Z",
     "start_time": "2021-11-22T17:49:29.477378Z"
    },
    "scrolled": false
   },
   "outputs": [
    {
     "name": "stdout",
     "output_type": "stream",
     "text": [
      "Day: saturday\n",
      "s\n",
      "a\n",
      "t\n",
      "u\n",
      "r\n",
      "d\n",
      "a\n",
      "y\n",
      "------------------\n",
      "Day: sunday\n",
      "s\n",
      "u\n",
      "n\n",
      "d\n",
      "a\n",
      "y\n",
      "------------------\n",
      "Day: monday\n",
      "m\n",
      "o\n",
      "n\n",
      "d\n",
      "a\n",
      "y\n",
      "------------------\n"
     ]
    }
   ],
   "source": [
    "days = ['saturday', 'sunday', 'monday']\n",
    "\n",
    "for day in days:\n",
    "    print(f\"Day: {day}\")\n",
    "    for ch in day:\n",
    "        # Print the letters of the day\n",
    "        print(ch)\n",
    "    print('------------------')"
   ]
  },
  {
   "cell_type": "code",
   "execution_count": 15,
   "metadata": {
    "ExecuteTime": {
     "end_time": "2021-11-22T17:51:39.013876Z",
     "start_time": "2021-11-22T17:51:38.998873Z"
    }
   },
   "outputs": [],
   "source": [
    "س = 5"
   ]
  },
  {
   "cell_type": "code",
   "execution_count": 16,
   "metadata": {
    "ExecuteTime": {
     "end_time": "2021-11-22T17:51:44.993559Z",
     "start_time": "2021-11-22T17:51:44.939550Z"
    }
   },
   "outputs": [
    {
     "data": {
      "text/plain": [
       "5"
      ]
     },
     "execution_count": 16,
     "metadata": {},
     "output_type": "execute_result"
    }
   ],
   "source": [
    "س"
   ]
  },
  {
   "cell_type": "markdown",
   "metadata": {},
   "source": [
    "## 11) Examples"
   ]
  },
  {
   "cell_type": "markdown",
   "metadata": {},
   "source": [
    "### Example 1"
   ]
  },
  {
   "cell_type": "code",
   "execution_count": 17,
   "metadata": {
    "ExecuteTime": {
     "end_time": "2021-11-22T17:53:00.789199Z",
     "start_time": "2021-11-22T17:53:00.777201Z"
    },
    "scrolled": false
   },
   "outputs": [
    {
     "name": "stdout",
     "output_type": "stream",
     "text": [
      "0\n",
      "1\n",
      "2\n",
      "3\n",
      "4\n",
      "5\n",
      "6\n",
      "7\n",
      "8\n",
      "9\n",
      "10\n"
     ]
    }
   ],
   "source": [
    "for i in range(11):\n",
    "    print(i)"
   ]
  },
  {
   "cell_type": "markdown",
   "metadata": {},
   "source": [
    "### Example 2"
   ]
  },
  {
   "cell_type": "code",
   "execution_count": 18,
   "metadata": {
    "ExecuteTime": {
     "end_time": "2021-11-22T17:54:12.208271Z",
     "start_time": "2021-11-22T17:54:12.199275Z"
    }
   },
   "outputs": [
    {
     "name": "stdout",
     "output_type": "stream",
     "text": [
      "1 is odd\n",
      "2 is even\n",
      "3 is odd\n",
      "4 is even\n",
      "5 is odd\n",
      "6 is even\n",
      "7 is odd\n",
      "8 is even\n",
      "9 is odd\n",
      "10 is even\n",
      "11 is odd\n",
      "12 is even\n",
      "13 is odd\n",
      "14 is even\n",
      "15 is odd\n",
      "16 is even\n",
      "17 is odd\n",
      "18 is even\n",
      "19 is odd\n",
      "20 is even\n"
     ]
    }
   ],
   "source": [
    "for i in range(1, 21):\n",
    "    if i % 2 == 0:\n",
    "        print(f\"{i} is even\")\n",
    "    else:\n",
    "        print(f\"{i} is odd\")"
   ]
  },
  {
   "cell_type": "markdown",
   "metadata": {},
   "source": [
    "### Example 3"
   ]
  },
  {
   "cell_type": "code",
   "execution_count": 20,
   "metadata": {
    "ExecuteTime": {
     "end_time": "2021-11-22T17:58:13.989847Z",
     "start_time": "2021-11-22T17:58:13.978865Z"
    }
   },
   "outputs": [
    {
     "name": "stdout",
     "output_type": "stream",
     "text": [
      "10 is even\n",
      "30 is even\n",
      "35 is odd\n",
      "12 is even\n",
      "100 is even\n",
      "-4 should be positive\n",
      "-20 should be positive\n",
      "0 should be positive\n"
     ]
    }
   ],
   "source": [
    "my_list = [10, 30, 35, 12, 100, -4, -20, 0]\n",
    "\n",
    "for i in my_list:\n",
    "    if i <= 0:\n",
    "        print(f\"{i} should be positive\")\n",
    "    elif i % 2 == 0:\n",
    "        print(f\"{i} is even\")\n",
    "    else:\n",
    "        print(f\"{i} is odd\")"
   ]
  },
  {
   "cell_type": "code",
   "execution_count": 21,
   "metadata": {
    "ExecuteTime": {
     "end_time": "2021-11-22T17:58:59.876263Z",
     "start_time": "2021-11-22T17:58:59.867294Z"
    }
   },
   "outputs": [
    {
     "name": "stdout",
     "output_type": "stream",
     "text": [
      "10 is even\n",
      "30 is even\n",
      "35 is odd\n",
      "12 is even\n",
      "100 is even\n",
      "-4 should be positive\n",
      "-20 should be positive\n",
      "0 should be positive\n"
     ]
    }
   ],
   "source": [
    "my_list = [10, 30, 35, 12, 100, -4, -20, 0]\n",
    "\n",
    "for i in my_list:\n",
    "    if i <= 0:\n",
    "        print(f\"{i} should be positive\")\n",
    "        continue\n",
    "        \n",
    "    if i % 2 == 0:\n",
    "        print(f\"{i} is even\")\n",
    "    else:\n",
    "        print(f\"{i} is odd\")"
   ]
  },
  {
   "cell_type": "markdown",
   "metadata": {},
   "source": [
    "### Example 4"
   ]
  },
  {
   "cell_type": "code",
   "execution_count": 23,
   "metadata": {
    "ExecuteTime": {
     "end_time": "2021-11-22T18:02:08.305347Z",
     "start_time": "2021-11-22T18:02:08.295342Z"
    }
   },
   "outputs": [
    {
     "data": {
      "text/plain": [
       "333833500"
      ]
     },
     "execution_count": 23,
     "metadata": {},
     "output_type": "execute_result"
    }
   ],
   "source": [
    "sum_of_numbers = 0\n",
    "\n",
    "for i in range(1, 1001):\n",
    "    sum_of_numbers += i ** 2\n",
    "    \n",
    "sum_of_numbers"
   ]
  },
  {
   "cell_type": "markdown",
   "metadata": {},
   "source": [
    "# Great Work!"
   ]
  }
 ],
 "metadata": {
  "kernelspec": {
   "display_name": "Python 3",
   "language": "python",
   "name": "python3"
  },
  "language_info": {
   "codemirror_mode": {
    "name": "ipython",
    "version": 3
   },
   "file_extension": ".py",
   "mimetype": "text/x-python",
   "name": "python",
   "nbconvert_exporter": "python",
   "pygments_lexer": "ipython3",
   "version": "3.8.5"
  }
 },
 "nbformat": 4,
 "nbformat_minor": 1
}
